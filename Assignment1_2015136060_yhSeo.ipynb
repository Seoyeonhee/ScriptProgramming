{
 "cells": [
  {
   "cell_type": "markdown",
   "metadata": {},
   "source": [
    "# 과제\n",
    "\n",
    "### 문제 1\n",
    "- a=\"Hello Python\" 문자열을 Slicing과 연결 연산자 (+)를 사용하여 \"Python Hello\"로 변경하시오.\n",
    "  - [주의] a 변수 자체에 \"Python Hello\" 문자열이 저장되어야 함"
   ]
  },
  {
   "cell_type": "code",
   "execution_count": 20,
   "metadata": {
    "scrolled": true
   },
   "outputs": [
    {
     "name": "stdout",
     "output_type": "stream",
     "text": [
      "Python Hello\n"
     ]
    }
   ],
   "source": [
    "a = \"Hello Python\"\n",
    "a = a[6:] + ' ' + a[0:5]\n",
    "print(a)"
   ]
  },
  {
   "cell_type": "markdown",
   "metadata": {},
   "source": [
    "#### [풀이]\n",
    "- a변수에 저장된 Hello Python이라는 문자열에서 Python Hellon으로 변경하기 위해\n",
    "  a[6:]를 이용해 6번인덱스부터 끝까지(\"Python\")을 추출한 뒤\n",
    "  연결 연산자(+)를 사용해 한 칸을 비워두고 a[0:5]를 이용해 0번 인덱스부터 5번 인덱스까지(\"Hello\") 추출해 변수 a에 저장한 뒤 출력한다.\n"
   ]
  },
  {
   "cell_type": "markdown",
   "metadata": {},
   "source": [
    "### 문제 2\n",
    "- b=\"Hello Python World\" 문자열을 Slicing과 연결 연산자 (+)를 사용하여 \"World Python Hello\"로 변경하시오.\n",
    "  - [주의] b 변수 자체에 \"World Python Hello\" 문자열이 저장되어야 함"
   ]
  },
  {
   "cell_type": "code",
   "execution_count": 23,
   "metadata": {},
   "outputs": [
    {
     "name": "stdout",
     "output_type": "stream",
     "text": [
      "World Python Hello\n"
     ]
    }
   ],
   "source": [
    "b = \"Hello Python World\"\n",
    "b = b[13:] + b[5:13] + b[:5]\n",
    "print(b)\n"
   ]
  },
  {
   "cell_type": "markdown",
   "metadata": {},
   "source": [
    "#### [풀이]\n",
    "\n",
    "- [주의] b 변수 자체에 \"World Python Hello\"문자열이 저장되어야\n",
    "- 한다고 써있는데, Slicing 후 문자열이 \"World Python Hello\"\n",
    "- 로 저장되는데, 실행 전 b 변수의 문자열이라고 가정한다.\n",
    "\n",
    "  - b[13:]의 범위는 b 문자열의 13번째 문자(W)부터 마지막 문자까지이며, b[5:13]는 5번째 문자(P)부터 12번째 문자(' ')까지를 의미한다.\n",
    "    b[:5]는 b 문자열의 처음 문자(H)부터 4번째 문자('o')까지를 의미한다.\n",
    "    b[13:] + b[5:13] + b[:5] = World Python Hello를 b에 저장한다."
   ]
  },
  {
   "cell_type": "markdown",
   "metadata": {},
   "source": [
    "### 문제 3\n",
    "\n",
    "- c=\"Hello\"를 \"olleH\"로 변경하시오\n",
    "  - [주의] c 변수 자체에 \"olleH\" 문자열이 저장되어야 함"
   ]
  },
  {
   "cell_type": "code",
   "execution_count": 5,
   "metadata": {},
   "outputs": [
    {
     "name": "stdout",
     "output_type": "stream",
     "text": [
      "olleH\n"
     ]
    }
   ],
   "source": [
    "c = \"Hello\"\n",
    "c = c[::-1]\n",
    "print(c)"
   ]
  },
  {
   "cell_type": "markdown",
   "metadata": {},
   "source": [
    "#### [풀이]\n",
    "\n",
    "- Slicing 형식은 [start : stop : step]이므로, \n",
    "- [::-1] 값은 -1에서부터 문자열 끝까지 출력.\n",
    "- 다시말하면, 문자열 끝부터 거꾸로 출력한다."
   ]
  },
  {
   "cell_type": "markdown",
   "metadata": {},
   "source": [
    "### 문제 4\n",
    "- s=\"python\"에 대해 다음 문제를 풀어보시오.\n",
    "  1. s[0], s[0][0], s[0][0][0]은 각각 어떤 값이 나오는지 확인하고 그 이유를 나름대로 설명해 보시오.\n",
    "  2. s[-100], s[100]은 값이 나오는지 에러가 나오는지 확인하고 그 결과에 대한 이유를 나름대로 설명해 보시오.\n",
    "  3. s[-100, 100]은 값이 나오는지 에러가 나오는지 확인하고 그 결과에 대한 이유를 나름대로 설명해 보시오.\n",
    "  4. s[1:-1]의 결과를 확인하고 그 결과에 대한 이유를 정확하게 설명하시오.\n",
    "  5. s[3:-3]의 결과를 확인하고 그 결과에 대한 이유를 정확하게 설명하시오.\n"
   ]
  },
  {
   "cell_type": "markdown",
   "metadata": {},
   "source": [
    "#### 문제 4-1\n",
    "- s=\"python\"에 대해 다음 문제를 풀어보시오.\n",
    "  - s[0], s[0][0], s[0][0][0]은 각각 어떤 값이 나오는지 확인하고 그 이유를 나름대로 설명해 보시오."
   ]
  },
  {
   "cell_type": "code",
   "execution_count": 1,
   "metadata": {},
   "outputs": [
    {
     "name": "stdout",
     "output_type": "stream",
     "text": [
      "p\n",
      "p\n",
      "p\n"
     ]
    }
   ],
   "source": [
    "s = \"python\"\n",
    "print(s[0])\n",
    "print(s[0][0])\n",
    "print(s[0][0][0])"
   ]
  },
  {
   "cell_type": "markdown",
   "metadata": {},
   "source": [
    "   #### [풀이]\n",
    "- s[0]은 s 문자열의 첫번째 문자를 가리킨다. 즉, s 객체의 첫 문자를 말한다. 따라서, 문자 p가 출력된다.\n",
    "- s[0][0]과 s[0][0][0]은 개인적인 소견으로는, 다차 배열에서 가리키는 것과 유사하다고 생각한다. 따라서, [0][0], [0][0][0]이 가리키는 것이\n",
    "  첫문자 p를 뜻한다고 생각한다."
   ]
  },
  {
   "cell_type": "markdown",
   "metadata": {},
   "source": [
    "#### 문제 4-2\n",
    "- s=\"python\"에 대해 다음 문제를 풀어보시오.\n",
    "  - s[-100], s[100]은 값이 나오는지 에러가 나오는지 확인하고 그 결과에 대한 이유를 나름대로 설명해 보시오."
   ]
  },
  {
   "cell_type": "code",
   "execution_count": 26,
   "metadata": {},
   "outputs": [
    {
     "ename": "IndexError",
     "evalue": "string index out of range",
     "output_type": "error",
     "traceback": [
      "\u001b[1;31m---------------------------------------------------------------------------\u001b[0m",
      "\u001b[1;31mIndexError\u001b[0m                                Traceback (most recent call last)",
      "\u001b[1;32m<ipython-input-26-142e48f823a8>\u001b[0m in \u001b[0;36m<module>\u001b[1;34m()\u001b[0m\n\u001b[0;32m      1\u001b[0m \u001b[0ms\u001b[0m \u001b[1;33m=\u001b[0m \u001b[1;34m\"python\"\u001b[0m\u001b[1;33m\u001b[0m\u001b[0m\n\u001b[1;32m----> 2\u001b[1;33m \u001b[0mprint\u001b[0m\u001b[1;33m(\u001b[0m\u001b[0ms\u001b[0m\u001b[1;33m[\u001b[0m\u001b[1;33m-\u001b[0m\u001b[1;36m100\u001b[0m\u001b[1;33m]\u001b[0m\u001b[1;33m)\u001b[0m\u001b[1;33m\u001b[0m\u001b[0m\n\u001b[0m\u001b[0;32m      3\u001b[0m \u001b[0mprint\u001b[0m\u001b[1;33m(\u001b[0m\u001b[0ms\u001b[0m\u001b[1;33m[\u001b[0m\u001b[1;36m100\u001b[0m\u001b[1;33m]\u001b[0m\u001b[1;33m)\u001b[0m\u001b[1;33m\u001b[0m\u001b[0m\n",
      "\u001b[1;31mIndexError\u001b[0m: string index out of range"
     ]
    }
   ],
   "source": [
    "s = \"python\"\n",
    "print(s[-100])\n",
    "print(s[100])"
   ]
  },
  {
   "cell_type": "markdown",
   "metadata": {},
   "source": [
    "#### [풀이]\n",
    "- 문자열 s의 크기 len은 6이다. 그 범위를 벗어난 -100과 100은 indexError가 난다."
   ]
  },
  {
   "cell_type": "markdown",
   "metadata": {},
   "source": [
    "#### 문제 4-3\n",
    "- s=\"python\"에 대해 다음 문제를 풀어보시오.\n",
    "  - s[-100, 100]은 값이 나오는지 에러가 나오는지 확인하고 그 결과에 대한 이유를 나름대로 설명해 보시오."
   ]
  },
  {
   "cell_type": "code",
   "execution_count": 3,
   "metadata": {},
   "outputs": [
    {
     "ename": "TypeError",
     "evalue": "string indices must be integers",
     "output_type": "error",
     "traceback": [
      "\u001b[1;31m---------------------------------------------------------------------------\u001b[0m",
      "\u001b[1;31mTypeError\u001b[0m                                 Traceback (most recent call last)",
      "\u001b[1;32m<ipython-input-3-7fed5efefd64>\u001b[0m in \u001b[0;36m<module>\u001b[1;34m()\u001b[0m\n\u001b[0;32m      1\u001b[0m \u001b[0ms\u001b[0m \u001b[1;33m=\u001b[0m \u001b[1;34m\"python\"\u001b[0m\u001b[1;33m\u001b[0m\u001b[0m\n\u001b[1;32m----> 2\u001b[1;33m \u001b[0mprint\u001b[0m\u001b[1;33m(\u001b[0m\u001b[0ms\u001b[0m\u001b[1;33m[\u001b[0m\u001b[1;33m-\u001b[0m\u001b[1;36m100\u001b[0m\u001b[1;33m,\u001b[0m \u001b[1;36m100\u001b[0m\u001b[1;33m]\u001b[0m\u001b[1;33m)\u001b[0m\u001b[1;33m\u001b[0m\u001b[0m\n\u001b[0m",
      "\u001b[1;31mTypeError\u001b[0m: string indices must be integers"
     ]
    }
   ],
   "source": [
    "s = \"python\"\n",
    "print(s[-100, 100])"
   ]
  },
  {
   "cell_type": "markdown",
   "metadata": {},
   "source": [
    "#### [풀이]\n",
    "- 지금까지 문자열과는 달리 [-100, 100]은 리스트를 의미하며, 리스트의 범위는 정수 값이다. 따라서, 에러가 발생한다."
   ]
  },
  {
   "cell_type": "markdown",
   "metadata": {},
   "source": [
    "#### 문제 4-4\n",
    "- s=\"python\"에 대해 다음 문제를 풀어보시오.\n",
    "  - s[1:-1]의 결과를 확인하고 그 결과에 대한 이유를 정확하게 설명하시오."
   ]
  },
  {
   "cell_type": "code",
   "execution_count": 4,
   "metadata": {},
   "outputs": [
    {
     "data": {
      "text/plain": [
       "'ytho'"
      ]
     },
     "execution_count": 4,
     "metadata": {},
     "output_type": "execute_result"
    }
   ],
   "source": [
    "s = \"python\"\n",
    "s[1:-1]"
   ]
  },
  {
   "cell_type": "markdown",
   "metadata": {
    "collapsed": true
   },
   "source": [
    "#### [풀이]\n",
    "- s[1:-1]은 문자열 s에서 s[1]에서 s[-1]전 까지의 범위를 뜻한다. 이 때, python에서 문자열은 0번 부터 시작하기 때문에,\n",
    "  1에 해당하는 문자는 y, -1은 문자열 맨 끝에서부터 첫 문자를 뜻하므로 범위에 해당하는 문자열은 'ytho'이다. "
   ]
  },
  {
   "cell_type": "markdown",
   "metadata": {},
   "source": [
    "#### 문제 4-5\n",
    "- s=\"python\"에 대해 다음 문제를 풀어보시오.\n",
    "  - s[3:-3]의 결과를 확인하고 그 결과에 대한 이유를 정확하게 설명하시오."
   ]
  },
  {
   "cell_type": "code",
   "execution_count": 5,
   "metadata": {},
   "outputs": [
    {
     "data": {
      "text/plain": [
       "''"
      ]
     },
     "execution_count": 5,
     "metadata": {},
     "output_type": "execute_result"
    }
   ],
   "source": [
    "s = \"python\"\n",
    "s[3:-3]"
   ]
  },
  {
   "cell_type": "markdown",
   "metadata": {},
   "source": [
    "#### [풀이]\n",
    "- 위 문제와 같이, s[3:-3]은 문자열 s에서 s[3]에서 s[-3]전 까지의 범위를 뜻한다. 이 때, python에서 문자열은 0번부터 시작하기 때문에, 3에 해당하는 문자는 h, -3 전 문자에 해당하는 문자는 t이기 때문에 범위 내에 문자가 없으므로 아무것도 출력되지 않는다."
   ]
  },
  {
   "cell_type": "markdown",
   "metadata": {
    "collapsed": true
   },
   "source": [
    "### 문제 5\n",
    "- for문을 활용하여 1부터 100사이의 홀수를 출력하시오."
   ]
  },
  {
   "cell_type": "code",
   "execution_count": 27,
   "metadata": {},
   "outputs": [
    {
     "name": "stdout",
     "output_type": "stream",
     "text": [
      "1\n",
      "3\n",
      "5\n",
      "7\n",
      "9\n",
      "11\n",
      "13\n",
      "15\n",
      "17\n",
      "19\n",
      "21\n",
      "23\n",
      "25\n",
      "27\n",
      "29\n",
      "31\n",
      "33\n",
      "35\n",
      "37\n",
      "39\n",
      "41\n",
      "43\n",
      "45\n",
      "47\n",
      "49\n",
      "51\n",
      "53\n",
      "55\n",
      "57\n",
      "59\n",
      "61\n",
      "63\n",
      "65\n",
      "67\n",
      "69\n",
      "71\n",
      "73\n",
      "75\n",
      "77\n",
      "79\n",
      "81\n",
      "83\n",
      "85\n",
      "87\n",
      "89\n",
      "91\n",
      "93\n",
      "95\n",
      "97\n",
      "99\n"
     ]
    }
   ],
   "source": [
    "# 방법 1)\n",
    "for i in range(1,100,2):\n",
    "    print(i)"
   ]
  },
  {
   "cell_type": "markdown",
   "metadata": {},
   "source": [
    "#### [풀이]\n",
    "  \n",
    "- range(a, b) : a이상 b미만의 범위\n",
    "- range(a, b, c) : a 이상 b미만의 범위에서 c차이씩 나는 것.\n",
    "- for i in range(1, 100, 2)은, 자연수 1에서 100까지의 값 범위에서 시작 수 1에 2씩 차이나는 값을 출력해주기 위한 반복문이다. \n"
   ]
  },
  {
   "cell_type": "markdown",
   "metadata": {},
   "source": [
    "### 문제 6\n",
    "- while문을 활용하여 1부터 100사이의 짝수의 합을 계산하여 출력하시오."
   ]
  },
  {
   "cell_type": "code",
   "execution_count": 31,
   "metadata": {},
   "outputs": [
    {
     "name": "stdout",
     "output_type": "stream",
     "text": [
      "2550\n"
     ]
    }
   ],
   "source": [
    "# 설정 범위는 0 < i <= 100 사이의 숫자.\n",
    "\n",
    "i = 0\n",
    "sum = 0\n",
    "while i <= 100:\n",
    "    sum = sum + i\n",
    "    i = i + 2\n",
    "print(sum)"
   ]
  },
  {
   "cell_type": "markdown",
   "metadata": {},
   "source": [
    "#### [풀이]\n",
    "  \n",
    "- i와 sum을 먼저 0으로 초기화\n",
    "- while i <= 100: 내에서 i를 2씩 증가시키면서 i가 짝수인 경우만을 고려할 수 있도록 함"
   ]
  },
  {
   "cell_type": "markdown",
   "metadata": {},
   "source": [
    "### 문제 7\n",
    "- 사용자로부터 임의의 정수를 입력받고, 해당 숫자를 역순으로 출력하는 프로그램을 작성하시오.\n",
    "\n",
    "  - [실행 예]\n",
    "     - 정수를 입력하세요: 3125\n",
    "     - 숫자 역순은 5213 입니다."
   ]
  },
  {
   "cell_type": "code",
   "execution_count": 2,
   "metadata": {},
   "outputs": [
    {
     "name": "stdout",
     "output_type": "stream",
     "text": [
      "정수를 입력하세요:3125\n",
      "숫자 역순은 5213입니다.\n"
     ]
    }
   ],
   "source": [
    "number = input(\"정수를 입력하세요:\")\n",
    "print(\"숫자 역순은 \" + number[::-1] + \"입니다.\")"
   ]
  },
  {
   "cell_type": "markdown",
   "metadata": {},
   "source": [
    "#### [풀이]\n",
    "\n",
    "- Slicing 형식은 [start : stop : step]이므로, \n",
    "- [::-1] 값은 -1에서부터 문자열 끝까지 출력.\n",
    "- 다시말하면, 문자열 끝부터 거꾸로 출력한다."
   ]
  },
  {
   "cell_type": "markdown",
   "metadata": {},
   "source": [
    "### 문제 8\n",
    "- 사용자로부터 정수를 입력받아서 1부터 그 사이에 존재하는 소수(Prime number)를 출력하는 파이썬 프로그램을 작성하시오."
   ]
  },
  {
   "cell_type": "code",
   "execution_count": 2,
   "metadata": {},
   "outputs": [
    {
     "name": "stdout",
     "output_type": "stream",
     "text": [
      "정수를 입력하세요:10\n",
      "입력받은 정수 : \n",
      "10\n",
      "2\n",
      "3\n",
      "5\n",
      "7\n"
     ]
    }
   ],
   "source": [
    "number = int(input(\"정수를 입력하세요:\"))\n",
    "print(\"입력받은 정수 : \")\n",
    "print(number)\n",
    "\n",
    "i = 2\n",
    "cnt = 2\n",
    "count = 0\n",
    "\n",
    "while i <= number:\n",
    "    count = 0\n",
    "    while cnt < i:\n",
    "        if i%cnt == 0:      # 소수가 아닐 조건\n",
    "            count = 1\n",
    "            break\n",
    "        else:\n",
    "            cnt = cnt + 1\n",
    "    if count == 0:          # 소수 출력\n",
    "        print(i)\n",
    "    i = i + 1 \n",
    "    cnt = 2                 # 초기화\n",
    "    \n",
    "    "
   ]
  },
  {
   "cell_type": "markdown",
   "metadata": {},
   "source": [
    "#### [풀이]\n",
    "\n",
    "-  소수(Prime number)란, 1과 자기자신 외에 나눠지는 수가 없는 수\n",
    "-  input으로 받은 정수는 int 타입이 아니라 str 타입이다.\n",
    "    - number = input(\"정수를 입력하세요:\")\n",
    "    - 따라서 형변환 해줘야함.\n",
    "      - number = int(input(\"정수를 입력하세요:\"))\n",
    "      \n",
    "- 소수일 조건을 보면, 1, 자기자신을 제외한 나머지로 나뉘는 수가 없어야한다라는 것이고, i%cnt != 0 이다."
   ]
  },
  {
   "cell_type": "markdown",
   "metadata": {},
   "source": [
    "### [ACM-ICPC 문제 2441번]\n",
    "- 별찍기-4\n",
    "  - https://www.acmicpc.net/problem/2441\n",
    " "
   ]
  },
  {
   "cell_type": "code",
   "execution_count": 33,
   "metadata": {},
   "outputs": [
    {
     "name": "stdout",
     "output_type": "stream",
     "text": [
      "5\n",
      "*****\n",
      " ****\n",
      "  ***\n",
      "   **\n",
      "    *\n",
      "     \n"
     ]
    }
   ],
   "source": [
    "n = input()\n",
    "n = int(n)\n",
    "\n",
    "j = 0\n",
    "\n",
    "while j <= n:\n",
    "    print (' ' * (j) + '*' * (n-j))\n",
    "    j = j+1"
   ]
  },
  {
   "cell_type": "markdown",
   "metadata": {},
   "source": [
    "#### [풀이]\n",
    "\n",
    "- 몇 번째 줄까지 출력할 것인지에 대한 입력 값 n를 받는다. \n",
    "  - ' ' 공백 출력 횟수 : j, * 출력 횟수 n-j  "
   ]
  },
  {
   "cell_type": "markdown",
   "metadata": {},
   "source": [
    "### [ACM-ICPC 문제 11721번]\n",
    "- 열 개씩 끊어 출력하기\n",
    "  - https://www.acmicpc.net/problem/11721"
   ]
  },
  {
   "cell_type": "code",
   "execution_count": 10,
   "metadata": {},
   "outputs": [
    {
     "name": "stdout",
     "output_type": "stream",
     "text": [
      "OneTwoThreeFourFiveSixSevenEightNineTen\n",
      "OneTwoThre\n",
      "eFourFiveS\n",
      "ixSevenEig\n",
      "htNineTen\n"
     ]
    }
   ],
   "source": [
    "word = input()\n",
    "#print(word)\n",
    "\n",
    "i=0\n",
    "\n",
    "while i < len(word):\n",
    "    print(word[i:i+10])\n",
    "    i = i + 10"
   ]
  },
  {
   "cell_type": "markdown",
   "metadata": {},
   "source": [
    "#### [풀이]\n",
    "- input()을 이용해 사용자로부터 단어를 입력받고\n",
    "  while문을 활용하여 입력받은 단어의 마지막까지 해당 처리 작업을 수행한다.\n",
    " - 이때, 반복문 내에서의 처리 작업은 슬라이싱 방법으로 i번째부터 10글자씩을 출력하고\n",
    "  i값을 10씩 증가시켜 다음번 수행에서는 i+10번째부터 10글자씩 출력 가능하도록 하였다.\n"
   ]
  },
  {
   "cell_type": "markdown",
   "metadata": {},
   "source": [
    "### [ACM-ICPC 문제 2839번]\n",
    "- 설탕배달\n",
    "  - https://www.acmicpc.net/problem/2839"
   ]
  },
  {
   "cell_type": "code",
   "execution_count": 37,
   "metadata": {},
   "outputs": [
    {
     "name": "stdout",
     "output_type": "stream",
     "text": [
      "18\n",
      "4\n"
     ]
    }
   ],
   "source": [
    "num = int(input())\n",
    "count = 0\n",
    "\n",
    "while(True):\n",
    "    if(num % 5 == 0):\n",
    "        print(int(num/5 + count))\n",
    "        break\n",
    "    elif(num <= 0):\n",
    "        print(-1)\n",
    "        break\n",
    "    num -= 3\n",
    "    count += 1"
   ]
  },
  {
   "cell_type": "markdown",
   "metadata": {},
   "source": [
    "#### [풀이] \n",
    "\n",
    "- 위 문제는 우선, 배달해야 할 설탕의 무게를 입력받고, int형으로 형번환을 시켜준다.\n",
    "- 봉지의 수를 최소한으로 하여야 하므로 입력받은 무게에서 3씩 빼가며 5로 나누어 떨어지는지를 검사한다.\n",
    " - 5로 나누어 떨어진다면 5로 나눈 몫에 count 값을 더해 필요한 봉지의 총 수를 출력한다. (num/5는 5kg 봉지의 수이고, count는 3kg 봉지의 수이다.)\n",
    " - 이때, 반복문 내에서 3kg봉지의 수(count)가 늘어남과 동시에 전체 무게(num)가 그만큼 줄어들고 이 줄어든 값을 다시 5kg봉지에 담을 수 있는지를 검사하도록 반복문을 설계하였다."
   ]
  },
  {
   "cell_type": "markdown",
   "metadata": {},
   "source": [
    "![Result](./2015136060_01.PNG)"
   ]
  },
  {
   "cell_type": "markdown",
   "metadata": {},
   "source": [
    "### 소감\n",
    "\n",
    "파이썬 언어를 이용하여 코딩을 하고 해당 과제를 수행하는 것보다는 사실 사진을 첨부하고 과제를 제출하는 방식 자체가 너무 생소하고 처음 사용해보는 방식이었어서 그 부분에서 많은 어려움을 겪었습니다. 아직 처음이라 그런 것이라 생각하고 이러한 방식이 곧 익숙해 질 수 있었으면 좋겠습니다."
   ]
  }
 ],
 "metadata": {
  "kernelspec": {
   "display_name": "Python 3",
   "language": "python",
   "name": "python3"
  },
  "language_info": {
   "codemirror_mode": {
    "name": "ipython",
    "version": 3
   },
   "file_extension": ".py",
   "mimetype": "text/x-python",
   "name": "python",
   "nbconvert_exporter": "python",
   "pygments_lexer": "ipython3",
   "version": "3.6.4"
  }
 },
 "nbformat": 4,
 "nbformat_minor": 2
}
