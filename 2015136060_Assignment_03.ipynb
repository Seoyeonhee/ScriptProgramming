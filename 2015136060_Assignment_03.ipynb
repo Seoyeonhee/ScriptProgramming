{
 "cells": [
  {
   "cell_type": "markdown",
   "metadata": {},
   "source": [
    "# 과제"
   ]
  },
  {
   "cell_type": "markdown",
   "metadata": {},
   "source": [
    "### 문제 1"
   ]
  },
  {
   "cell_type": "markdown",
   "metadata": {},
   "source": [
    "- 1)\n",
    "  - L[1:3] = [100]\n",
    "  - print(L)"
   ]
  },
  {
   "cell_type": "code",
   "execution_count": 2,
   "metadata": {},
   "outputs": [
    {
     "name": "stdout",
     "output_type": "stream",
     "text": [
      "[1, 100, 4, 5]\n"
     ]
    }
   ],
   "source": [
    "L = [1,2,3,4,5]\n",
    "\n",
    "L[1:3] = [100]\n",
    "print(L)"
   ]
  },
  {
   "cell_type": "markdown",
   "metadata": {},
   "source": [
    "#### [풀이]"
   ]
  },
  {
   "cell_type": "markdown",
   "metadata": {},
   "source": [
    "리스트에 원소에 대한 슬라이스 치환\n",
    "- #### 서로 다른 크기에 대한 슬라이스 치환<p>\n",
    "L[1:3], (1인덱스 포함, 3인덱스 미포함).   즉, 리스트의 2, 3번째에 해당하는 원소의 값을 100으로 바꾼다. 따라서, 리스트의 2, 3번째의 원소 값인 2와 3을 100으로 치환<p>\n",
    "수행 결과로는 L = [1, 100, 100, 4, 5]이 된다."
   ]
  },
  {
   "cell_type": "markdown",
   "metadata": {},
   "source": [
    "- 2)\n",
    "  - L[1:3] = [(100)]\n",
    "  - print(L)"
   ]
  },
  {
   "cell_type": "code",
   "execution_count": 3,
   "metadata": {},
   "outputs": [
    {
     "name": "stdout",
     "output_type": "stream",
     "text": [
      "[1, 100, 4, 5]\n"
     ]
    }
   ],
   "source": [
    "L = [1,2,3,4,5]\n",
    "\n",
    "L[1:3] = [(100)]\n",
    "print(L)"
   ]
  },
  {
   "cell_type": "markdown",
   "metadata": {},
   "source": [
    "#### [풀이]"
   ]
  },
  {
   "cell_type": "markdown",
   "metadata": {},
   "source": [
    "리스트의 원소로 튜플을 가질 수 있다.\n",
    "- #### 서로 다른 크기에 대한 슬라이딩<p>\n",
    "L = [1, 2, 3, 4, 5]일 때,<p>\n",
    "예를 들면, L[1:2] = [(100, 200, 300)]을 수행시키면,<p>\n",
    "L = [1, (100, 300, 400), 3, 4, 5]가 될 것이다.<p>\n",
    "L[1:3] = [(100)]을 수행시키면, 1:3에 해당하는 자리에 원소로 튜플(100)이 대입된다.<p>\n",
    "L = [1, 100, 4, 5]이 된다."
   ]
  },
  {
   "cell_type": "markdown",
   "metadata": {},
   "source": [
    "- 3)\n",
    "  - L[1:3] = 100\n",
    "  - print(L)"
   ]
  },
  {
   "cell_type": "code",
   "execution_count": 7,
   "metadata": {},
   "outputs": [
    {
     "ename": "TypeError",
     "evalue": "can only assign an iterable",
     "output_type": "error",
     "traceback": [
      "\u001b[1;31m---------------------------------------------------------------------------\u001b[0m",
      "\u001b[1;31mTypeError\u001b[0m                                 Traceback (most recent call last)",
      "\u001b[1;32m<ipython-input-7-1edd40531bca>\u001b[0m in \u001b[0;36m<module>\u001b[1;34m()\u001b[0m\n\u001b[0;32m      1\u001b[0m \u001b[0mL\u001b[0m \u001b[1;33m=\u001b[0m \u001b[1;33m[\u001b[0m\u001b[1;36m1\u001b[0m\u001b[1;33m,\u001b[0m \u001b[1;36m2\u001b[0m\u001b[1;33m,\u001b[0m \u001b[1;36m3\u001b[0m\u001b[1;33m,\u001b[0m \u001b[1;36m4\u001b[0m\u001b[1;33m,\u001b[0m \u001b[1;36m5\u001b[0m\u001b[1;33m]\u001b[0m\u001b[1;33m\u001b[0m\u001b[0m\n\u001b[0;32m      2\u001b[0m \u001b[1;33m\u001b[0m\u001b[0m\n\u001b[1;32m----> 3\u001b[1;33m \u001b[0mL\u001b[0m\u001b[1;33m[\u001b[0m\u001b[1;36m1\u001b[0m\u001b[1;33m:\u001b[0m\u001b[1;36m3\u001b[0m\u001b[1;33m]\u001b[0m \u001b[1;33m=\u001b[0m \u001b[1;36m100\u001b[0m\u001b[1;33m\u001b[0m\u001b[0m\n\u001b[0m\u001b[0;32m      4\u001b[0m \u001b[1;33m\u001b[0m\u001b[0m\n\u001b[0;32m      5\u001b[0m \u001b[0mprint\u001b[0m\u001b[1;33m(\u001b[0m\u001b[0mL\u001b[0m\u001b[1;33m)\u001b[0m\u001b[1;33m\u001b[0m\u001b[0m\n",
      "\u001b[1;31mTypeError\u001b[0m: can only assign an iterable"
     ]
    }
   ],
   "source": [
    "L = [1, 2, 3, 4, 5]\n",
    "\n",
    "L[1:3] = 100\n",
    "\n",
    "print(L)"
   ]
  },
  {
   "cell_type": "markdown",
   "metadata": {},
   "source": [
    "#### [풀이]"
   ]
  },
  {
   "cell_type": "markdown",
   "metadata": {},
   "source": [
    "리스트는 인덱스별로 꺼내서 할당해야 한다.<p>\n",
    "하지만, 인덱스 별로 꺼내서 할당하지 않고, 문제에서처럼 한 번에 할당하려고 하는 L[1:3] = 100을 수행하게 되면<br>\n",
    "TypeError : can only assign an iterable이 발생한다.<p>\n",
    "따라서, 결과를 얻기 위해선 각 인덱스 별로 꺼내서 할당하게끔<br>\n",
    "L[1:3] = 100, 100 -> [1, 100, 100, 4, 5]의 방식을 이용해야한다."
   ]
  },
  {
   "cell_type": "markdown",
   "metadata": {},
   "source": [
    "- 4)\n",
    "  - L[1:3] = (100)\n",
    "  - print(L)"
   ]
  },
  {
   "cell_type": "code",
   "execution_count": 14,
   "metadata": {},
   "outputs": [
    {
     "ename": "TypeError",
     "evalue": "can only assign an iterable",
     "output_type": "error",
     "traceback": [
      "\u001b[1;31m---------------------------------------------------------------------------\u001b[0m",
      "\u001b[1;31mTypeError\u001b[0m                                 Traceback (most recent call last)",
      "\u001b[1;32m<ipython-input-14-2575edd1f21d>\u001b[0m in \u001b[0;36m<module>\u001b[1;34m()\u001b[0m\n\u001b[0;32m      1\u001b[0m \u001b[0mL\u001b[0m \u001b[1;33m=\u001b[0m \u001b[1;33m[\u001b[0m\u001b[1;36m1\u001b[0m\u001b[1;33m,\u001b[0m \u001b[1;36m2\u001b[0m\u001b[1;33m,\u001b[0m \u001b[1;36m3\u001b[0m\u001b[1;33m,\u001b[0m \u001b[1;36m4\u001b[0m\u001b[1;33m,\u001b[0m \u001b[1;36m5\u001b[0m\u001b[1;33m]\u001b[0m\u001b[1;33m\u001b[0m\u001b[0m\n\u001b[0;32m      2\u001b[0m \u001b[1;33m\u001b[0m\u001b[0m\n\u001b[1;32m----> 3\u001b[1;33m \u001b[0mL\u001b[0m\u001b[1;33m[\u001b[0m\u001b[1;36m1\u001b[0m\u001b[1;33m:\u001b[0m\u001b[1;36m3\u001b[0m\u001b[1;33m]\u001b[0m \u001b[1;33m=\u001b[0m \u001b[1;33m(\u001b[0m\u001b[1;36m100\u001b[0m\u001b[1;33m)\u001b[0m\u001b[1;33m\u001b[0m\u001b[0m\n\u001b[0m\u001b[0;32m      4\u001b[0m \u001b[0mprint\u001b[0m\u001b[1;33m(\u001b[0m\u001b[0mL\u001b[0m\u001b[1;33m)\u001b[0m\u001b[1;33m\u001b[0m\u001b[0m\n",
      "\u001b[1;31mTypeError\u001b[0m: can only assign an iterable"
     ]
    }
   ],
   "source": [
    "L = [1, 2, 3, 4, 5]\n",
    "\n",
    "L[1:3] = (100)\n",
    "print(L)"
   ]
  },
  {
   "cell_type": "markdown",
   "metadata": {},
   "source": [
    "#### [풀이]"
   ]
  },
  {
   "cell_type": "markdown",
   "metadata": {},
   "source": [
    "마찬가지로 각 인덱스 별로 할당해야 하지만, 크기가 다르므로 TypeError : can only assign an iterable 에러 발생<p>\n",
    "따라서, 리스트 L의 [1:3] 원소에 100의 값을 넣기 위해선 위 문제에서 다룬 것 처럼<br>\n",
    "L[1:3] = 100, 100 혹은<br>\n",
    "L[1:3] = [100, 100]을 하거나,<br>\n",
    "L[1:3] = (100, 100)을 하면 된다."
   ]
  },
  {
   "cell_type": "markdown",
   "metadata": {},
   "source": [
    "- 5)\n",
    "  - L[1:3] = (100, 101, 102)\n",
    "  - print(L)"
   ]
  },
  {
   "cell_type": "code",
   "execution_count": 16,
   "metadata": {},
   "outputs": [
    {
     "name": "stdout",
     "output_type": "stream",
     "text": [
      "[1, 100, 101, 102, 4, 5]\n"
     ]
    }
   ],
   "source": [
    "L = [1, 2, 3, 4, 5]\n",
    "\n",
    "L[1:3] = (100, 101, 102)\n",
    "print(L)"
   ]
  },
  {
   "cell_type": "markdown",
   "metadata": {},
   "source": [
    "#### [풀이]"
   ]
  },
  {
   "cell_type": "markdown",
   "metadata": {},
   "source": [
    "서로 다른 크기에 대한 슬라이싱<p>\n",
    "1에서 2의 인덱스에 해당하는 값 2, 3의 자리에 100, 101, 102가 와서 총 원소의 개수가 늘어난다. 총 원소는 6개"
   ]
  },
  {
   "cell_type": "markdown",
   "metadata": {},
   "source": [
    "- 6)\n",
    "  - L[1:3] = [100, 101, 102]\n",
    "  - print(L)"
   ]
  },
  {
   "cell_type": "code",
   "execution_count": 17,
   "metadata": {},
   "outputs": [
    {
     "name": "stdout",
     "output_type": "stream",
     "text": [
      "[1, 100, 101, 102, 4, 5]\n"
     ]
    }
   ],
   "source": [
    "L = [1, 2, 3, 4, 5]\n",
    "\n",
    "L[1:3] = [100, 101, 102]\n",
    "print(L)"
   ]
  },
  {
   "cell_type": "markdown",
   "metadata": {},
   "source": [
    "#### [풀이]"
   ]
  },
  {
   "cell_type": "markdown",
   "metadata": {},
   "source": [
    "서로 다른 크기에 대한 슬라이싱에 리스트로 값을 집어넣을 때,<p>\n",
    "1에서 2의 인덱스에 해당하는 값 2, 3의 위치에 리스트 [100, 101, 102]값으로 치환된다. 총 원소는 6개"
   ]
  },
  {
   "cell_type": "markdown",
   "metadata": {},
   "source": [
    "- 7)\n",
    "  - L[1:3] = [(100, 101, 102)]\n",
    "  - print(L)"
   ]
  },
  {
   "cell_type": "code",
   "execution_count": 18,
   "metadata": {},
   "outputs": [
    {
     "name": "stdout",
     "output_type": "stream",
     "text": [
      "[1, (100, 101, 102), 4, 5]\n"
     ]
    }
   ],
   "source": [
    "L = [1,2,3,4,5]\n",
    "\n",
    "L[1:3] = [(100, 101, 102)]\n",
    "print(L)"
   ]
  },
  {
   "cell_type": "markdown",
   "metadata": {},
   "source": [
    "#### [풀이]"
   ]
  },
  {
   "cell_type": "markdown",
   "metadata": {},
   "source": [
    "서로 다른 크기에 대한 슬라이싱에, 원소로 튜플을 가지는 코드<p>\n",
    "1에서 2의 인덱스에 해당하는 값 2, 3이 튜플 (100, 101, 102)으로 바뀐다. 총 원소는 4개"
   ]
  },
  {
   "cell_type": "markdown",
   "metadata": {},
   "source": [
    "- 8)\n",
    "  - L[1:3] = [[100, 101, 102]]\n",
    "  - print(L)"
   ]
  },
  {
   "cell_type": "code",
   "execution_count": 20,
   "metadata": {},
   "outputs": [
    {
     "name": "stdout",
     "output_type": "stream",
     "text": [
      "[1, [100, 101, 102], 4, 5]\n"
     ]
    }
   ],
   "source": [
    "L = [1, 2, 3, 4, 5]\n",
    "\n",
    "L[1:3] = [[100, 101, 102]]\n",
    "print(L)"
   ]
  },
  {
   "cell_type": "markdown",
   "metadata": {},
   "source": [
    "#### [풀이]"
   ]
  },
  {
   "cell_type": "markdown",
   "metadata": {},
   "source": [
    "리스트의 원소로 리스트가 올 수 있다. 그리고 서로 다른 크기에 대한 슬라이싱이다.<p>\n",
    "1에서 2의 인덱스에 해당하는 값 2, 3이 리스트 [100, 101, 102]로 바뀐다. 총 원소의 개수는 4개"
   ]
  },
  {
   "cell_type": "markdown",
   "metadata": {},
   "source": [
    "### 문제 2"
   ]
  },
  {
   "cell_type": "markdown",
   "metadata": {},
   "source": [
    "- 문자열 S = 'Hello World and Python'에 대해 다음 요구사항에 대한 Python 코드를 제시하시오.\n",
    "  - 1) 단어의 순서가 역순으로 되어진 문자열 ('Python and World Hello')을 만들고\n",
    "  - 2) 1)의 결과 문자열에 대해 메소드 split과 join을 이용하여 공백을 없앤 문자열 'PythonandWorldHello'을 만드시오."
   ]
  },
  {
   "cell_type": "code",
   "execution_count": 21,
   "metadata": {},
   "outputs": [
    {
     "name": "stdout",
     "output_type": "stream",
     "text": [
      "Python and World Hello\n",
      "\n",
      "PythonandWorldHello\n"
     ]
    }
   ],
   "source": [
    "S = 'Hello World and Python'\n",
    "\n",
    "str1 = S.split()     # 리스트str1에 문자열 S를 공백을 기준으로 쪼갠 단어들을 원소들로 갖는다.\n",
    "str1 = str1[::-1]    # 리스트str1의 원소들을 역순으로 대입\n",
    "S = \" \".join(str1)   # \" \"즉, 공백을 띄우고 str1의 원소들을 합쳐 문자열을 만든 S\n",
    "\n",
    "print(S)\n",
    "\n",
    "print()\n",
    "\n",
    "str2 = S.split()     # 문자열 S을 다시 공백을 기준으로 쪼개 리스트str2에 대입\n",
    "S = \"\".join(str2)    # \"\" 즉, 공백 없이 str2의 원소들을 합쳐 문자열 S를 만듦\n",
    "\n",
    "print(S)"
   ]
  },
  {
   "cell_type": "markdown",
   "metadata": {},
   "source": [
    "#### [풀이]"
   ]
  },
  {
   "cell_type": "markdown",
   "metadata": {},
   "source": [
    "문자열 메소드 split()은 문자열을 공백을 기준으로 쪼갠 원소들을 가지는 리스트를 만드는 것이고, 문자열 메소드 join()은 입력받은 리스트의 원소들을 합치는 메소드이다.<br>\n",
    "이 때, \"\".join(입력 리스트)는 각 원소 사이에 공백을 가지고 문자열로 합치는 것"
   ]
  },
  {
   "cell_type": "markdown",
   "metadata": {},
   "source": [
    "### 문제 3"
   ]
  },
  {
   "cell_type": "markdown",
   "metadata": {},
   "source": [
    "- 다음 코드를 보고 물음에 답하시오.<p>\n",
    "  a = [1, 2, 3]<p>\n",
    "  b = a * 3<p>\n",
    "  c = [a] * 3<p>\n",
    "  print(b)<p>\n",
    "  print(c)<p>\n",
    "      \n",
    "    - 1) 위 코드를 수행한 이후 다음 코드를 수행한 후 b와 c의 내용을 확인하시오.<p>\n",
    "          a[0]=0<p>\n",
    "    - 2) b와 c 객체의 차이는 무엇인가?"
   ]
  },
  {
   "cell_type": "code",
   "execution_count": 23,
   "metadata": {},
   "outputs": [
    {
     "name": "stdout",
     "output_type": "stream",
     "text": [
      "[1, 2, 3, 1, 2, 3, 1, 2, 3]\n",
      "[[1, 2, 3], [1, 2, 3], [1, 2, 3]]\n",
      "\n",
      "[1, 2, 3, 1, 2, 3, 1, 2, 3]\n",
      "[[0, 2, 3], [0, 2, 3], [0, 2, 3]]\n",
      "1951290435784\n",
      "1951290306120\n",
      "1951290435784\n"
     ]
    }
   ],
   "source": [
    "a = [1, 2, 3]\n",
    "b = a * 3\n",
    "c = [a] * 3\n",
    "\n",
    "print(b)\n",
    "print(c)\n",
    "\n",
    "print()\n",
    "\n",
    "a[0] = 0\n",
    "print(b)\n",
    "print(c)\n",
    "\n",
    "\n",
    "print(id(a))\n",
    "print(id(b))\n",
    "print(id(c[1]))"
   ]
  },
  {
   "cell_type": "markdown",
   "metadata": {},
   "source": [
    "#### [풀이]"
   ]
  },
  {
   "cell_type": "markdown",
   "metadata": {},
   "source": [
    "- b 객체는 리스트 원소의 반복을 표현하는 방법으로 리스트*연산(곱하기)를 사용할 수 있다.\n",
    "  - 즉, 리스트 * 반복하고 싶은 횟수\n",
    "    \n",
    "- c 객체는 리스트 자체를 반복 표현하는 방법으로 [리스트]*연산(곱하기)를 사용하여 표현한다.\n",
    "  - 즉, [리스트] * 반복하고 싶은 횟수\n",
    "    \n",
    "a[0] = 0 수행 후<br>\n",
    "b는 a의 원소 값만을 이용하여 새로운 객체를 만든 것     c는 원소 중 일부가 리스트 a를 참조하는 새로운 객체를 만든 것. (단, 이 때 각 원소는 a를 참조)"
   ]
  },
  {
   "cell_type": "markdown",
   "metadata": {},
   "source": [
    "### 문제 4"
   ]
  },
  {
   "cell_type": "markdown",
   "metadata": {},
   "source": [
    "- 다음 문자열을 ':'을 기준으로 분리하여 리스트로 만들고 각 문자열의 좌우 공백을 제거하시오 (즉, 문자열 S에서 I를 만들어라)<br>\n",
    "    S = '  irst star   :   second star   : third star  '<br>\n",
    "    I = ['first star', 'second star', 'third star']\n",
    "    - 1) for ~ in 문을 이용한 코드를 작성하시오.\n",
    "    - 2) 리스트 내포(list comprehension)를 이용한 코드를 작성하시오."
   ]
  },
  {
   "cell_type": "code",
   "execution_count": 40,
   "metadata": {},
   "outputs": [
    {
     "name": "stdout",
     "output_type": "stream",
     "text": [
      "['first star', 'second star', 'third star']\n"
     ]
    }
   ],
   "source": [
    "S = '  first star     :     second star     :     third star  '\n",
    "abc = S.split(':')     # 문자열을 ':'를 기준으로 쪼개 abc 리스트의 원소로 갖는다.\n",
    "\n",
    "# 1) for ~ in 문을 이용한 코드\n",
    "for x in range(len(abc)):\n",
    "    I[x] = abc[x].strip()\n",
    "    \n",
    "print(I)"
   ]
  },
  {
   "cell_type": "markdown",
   "metadata": {},
   "source": [
    "#### [풀이]"
   ]
  },
  {
   "cell_type": "markdown",
   "metadata": {},
   "source": [
    "우선, 문자열을 :을 기준으로 쪼개 원소로 갖는 리스트 abc를 만든다.<br>\n",
    "I는 최종적으로 ':', 공백이 제거된 원소들을 갖는 리스트이므로, 선언과 동시에 길이를 정해준다.<br>\n",
    "for~in 문은 범위(range(len(abc))), 즉 3이며,<br>\n",
    "리스트 I의 각 인덱스에 맞게 ':'을 기준으로 쪼갠 문자열 abc의 원소들에서 양 공백을 제거한 (strip()) 원소를 갖는다."
   ]
  },
  {
   "cell_type": "code",
   "execution_count": 41,
   "metadata": {},
   "outputs": [
    {
     "name": "stdout",
     "output_type": "stream",
     "text": [
      "['first star', 'second star', 'third star']\n"
     ]
    }
   ],
   "source": [
    "# 2) 리스트 내포(list comprehension)을 이용한 코드\n",
    "\n",
    "S = '  first star   :   second star   :    third star  '\n",
    "abc = S.split(':')      # 문자열을 ':'를 기준으로 쪼개 abc 리스트의 원소로 갖는다.  \n",
    "\n",
    "I = [abc[x].strip() for x in range(len(abc))]\n",
    "\n",
    "print(I)"
   ]
  },
  {
   "cell_type": "markdown",
   "metadata": {},
   "source": [
    "#### [풀이]"
   ]
  },
  {
   "cell_type": "markdown",
   "metadata": {},
   "source": [
    "리스트 내포(lsit comprehension)를 이용한 코드는<br>\n",
    "[표현식 for ~ in]으로 표현할 수 있다.<br>\n",
    "따라서 I = [abc[x].strip() for x in range(len(abc))]"
   ]
  },
  {
   "cell_type": "markdown",
   "metadata": {},
   "source": [
    "### 문제 5"
   ]
  },
  {
   "cell_type": "markdown",
   "metadata": {},
   "source": [
    "- 다음과 같이 0보다 큰 정수 리스트 변수 list를 인자로 받는 함수 addall(list)와 addallodd(list)를 for ~ in 리터널과 리스트 내포 방식으로 각각 제시하시오.\n",
    "  - 1) addall(list) 함수 (리스트 낸의 모든 정수를 더하는 함수로서 해답으로는 for ~ in 리터널과 리스트 내포 방식으로 각각 제시하시오.)<p>\n",
    "      - addall([1])<p>\n",
    "          1\n",
    "      - addall([1, 2, 3, 4, 5, 6, 7, 8, 9])<p>\n",
    "          45"
   ]
  },
  {
   "cell_type": "code",
   "execution_count": 47,
   "metadata": {},
   "outputs": [
    {
     "name": "stdout",
     "output_type": "stream",
     "text": [
      "1\n",
      "45\n"
     ]
    }
   ],
   "source": [
    "# for-in\n",
    "def addall(list_1):\n",
    "    sum = 0\n",
    "    for x in range(len(list_1)):\n",
    "        sum = sum + list_1[x]\n",
    "    return print(sum)\n",
    "\n",
    "addall([1])\n",
    "addall([1, 2, 3, 4, 5, 6, 7, 8, 9])"
   ]
  },
  {
   "cell_type": "code",
   "execution_count": 48,
   "metadata": {},
   "outputs": [
    {
     "name": "stdout",
     "output_type": "stream",
     "text": [
      "1\n",
      "45\n"
     ]
    }
   ],
   "source": [
    "# 리스트 내포\n",
    "def addall(list_1):\n",
    "    return print(sum([list_1[x] for x in range(len(list_1))]))\n",
    "\n",
    "addall([1])\n",
    "addall([1, 2, 3, 4, 5, 6, 7, 8, 9])"
   ]
  },
  {
   "cell_type": "markdown",
   "metadata": {},
   "source": [
    "  - 2) addallodd(list 함수 (리스트내의 모든 홀수를 더하는 함수로서 해답으로는 for ~ in 리터럴과 리스트 내포 방식으로 각각 제시하시오.)<p>\n",
    "      - addallodd([1])<p>\n",
    "          1\n",
    "      - addallodd([1, 2, 3, 4, 5, 6, 7, 8, 9])<p>\n",
    "          25"
   ]
  },
  {
   "cell_type": "code",
   "execution_count": 50,
   "metadata": {},
   "outputs": [
    {
     "name": "stdout",
     "output_type": "stream",
     "text": [
      "1\n",
      "25\n"
     ]
    }
   ],
   "source": [
    "# for-in\n",
    "def addallodd(list_1):\n",
    "    sum = 0\n",
    "    for x in range(len(list_1)):\n",
    "        if(list_1[x]%2 == 1):\n",
    "            sum = sum + list_1[x]\n",
    "    return print(sum)\n",
    "\n",
    "addallodd([1])\n",
    "addallodd([1, 2, 3, 4, 5, 6, 7, 8, 9])"
   ]
  },
  {
   "cell_type": "code",
   "execution_count": 51,
   "metadata": {},
   "outputs": [
    {
     "name": "stdout",
     "output_type": "stream",
     "text": [
      "1\n",
      "25\n"
     ]
    }
   ],
   "source": [
    "# 리스트 내포\n",
    "def addallodd(list_1):\n",
    "    return print(sum([list_1[x] for x in range(len(list_1)) if list_1[x]%2 == 1]))\n",
    "\n",
    "addallodd([1])\n",
    "addallodd([1, 2, 3, 4, 5, 6, 7, 8, 9])"
   ]
  },
  {
   "cell_type": "markdown",
   "metadata": {},
   "source": [
    "#### [풀이]"
   ]
  },
  {
   "cell_type": "markdown",
   "metadata": {},
   "source": [
    "- 1)과 2)의 풀이를 한번에 같이 아래에 서술하였습니다.\n",
    "\n",
    "리스트 변수를 인자로 받는 함수 addall, addallodd를 만들 때, 함수문 선언을 하고, 그 내부에 for~in, 리스트 내포 두 가지 방법으로 제시하는 문제이다.<p>\n",
    "우선, for~in으로 문제를 해결할 때에는 내장함수 sum()을 사용하지 않고, 리스트의 각 원소의 값의 합을 저장할 sum = 0을 선언하여 해결한다.<br>\n",
    "1) addall 함수에서는 반복문 내에서 sum = sum + list[x]를 이용하여 리스트의 모든 정수 원소 값들을 더해나갔고<br>\n",
    "2) addallodd 함수에서는 조건문을 하나 추가하여 홀수인 경우에만 덧셈이 이루어지도록 if(list[x]%2 == 1)일 때에만 더해지도록 하였다.<p>\n",
    "둘째로, 리스트 내포 방식으로 문제를 해결하기 위해서는 내장함수 sum()을 이용하여야 하는데, 리스트 내포 방식의 출력은 리스트이므로 sun()을 이용해서 리스트 결과값의 각 원소의 합을 출력하도록 한다.<br>\n",
    "리스트 내포에서 조건문을 쓰는 방법은 for~in과 달리 위와같이 return print(sum([list_1[x] for x in range(len(list_1)) if list_1[x]%2 == 1])) 과 같은 형식을 띈다."
   ]
  },
  {
   "cell_type": "markdown",
   "metadata": {},
   "source": [
    "### 문제 6"
   ]
  },
  {
   "cell_type": "markdown",
   "metadata": {},
   "source": [
    "- 다음 코드를 보고 물음에 답하시오.<p>\n",
    "    L1 = [1, 2, 3]<br>\n",
    "    L2 = [4, 5, 6]<br>\n",
    "    d = {'low':L1, 'high':L2}<br>\n",
    "    e = d<br>\n",
    "    f = d.copy()<br>\n",
    "    print(d)<br>\n",
    "    print(e)<br>\n",
    "    print(f)<br>\n",
    "    print()<br>\n",
    "    d['low'] = [10, 20, 30]<br>\n",
    "    d['high'][1] = 500<br>\n",
    "    print(d)<br>\n",
    "    print(e)<br>\n",
    "    print(f)<p>\n",
    "        \n",
    "  - 1) 위 코드의 수행 결과 d와 e는 항상 같은 결과를 출력한다. 그 이유는 무엇인가?\n",
    "  - 2) 위 코드의 수행 결과 마지막 f의 내용은 다음과 같다. 이 때 'high'키의 값 내용 중 500이 출력된 이유와 'low'키의 값 내용 중 [1, 2, 3]이 출력된 이유를 설명하시오 ([hint]:shallow copy 관점에서 설명하시오.)<p>\n",
    "        {'high' : [4, 500, 6], 'low' : [1, 2, 3]}"
   ]
  },
  {
   "cell_type": "code",
   "execution_count": 52,
   "metadata": {},
   "outputs": [
    {
     "name": "stdout",
     "output_type": "stream",
     "text": [
      "{'low': [1, 2, 3], 'high': [4, 5, 6]}\n",
      "{'low': [1, 2, 3], 'high': [4, 5, 6]}\n",
      "{'low': [1, 2, 3], 'high': [4, 5, 6]}\n",
      "\n",
      "{'low': [10, 20, 30], 'high': [4, 500, 6]}\n",
      "{'low': [10, 20, 30], 'high': [4, 500, 6]}\n",
      "{'low': [1, 2, 3], 'high': [4, 500, 6]}\n"
     ]
    }
   ],
   "source": [
    "L1 = [1, 2, 3]\n",
    "L2 = [4, 5, 6]\n",
    "d = {'low':L1, 'high':L2}\n",
    "e = d\n",
    "f = d.copy()\n",
    "\n",
    "print(d)\n",
    "print(e)\n",
    "print(f)\n",
    "print()\n",
    "\n",
    "d['low'] = [10, 20, 30]\n",
    "d['high'][1] = 500\n",
    "\n",
    "print(d)\n",
    "print(e)\n",
    "print(f)"
   ]
  },
  {
   "cell_type": "markdown",
   "metadata": {},
   "source": [
    "#### [풀이]"
   ]
  },
  {
   "cell_type": "markdown",
   "metadata": {},
   "source": [
    "위 코드의 수행 결과 d와 e는 항상 같은 결과를 출력한다. 그 이유는 d와 e는 같은 객체를 가리키고 있기 때문이다.<br>\n",
    "따라서, d['low'] = [10, 20, 30]<br>\n",
    "d['high'][1]<br>\n",
    "는 새로운 객체를 만드는 것이 아니라 참조하고 있던 객체의 원소 값을 변경하기 때문에, 같은 객체를 가리키고 있는 d와 e는 같은 결과를 출력한다.<p>\n",
    "f는 d객체에 내장함수 copy()를 이용한 얕은 복사(Shallow Copy)했으므로, 객체가 가진 멤버의 값들을 새로운 객체로 복사하는데, 객체가 참조 타입의 멤버를 가지고 있으면 참조 값만 복사되기 때문이다."
   ]
  },
  {
   "cell_type": "markdown",
   "metadata": {},
   "source": [
    "### 문제 7"
   ]
  },
  {
   "cell_type": "markdown",
   "metadata": {},
   "source": [
    "- 사전 d = {'one':1, 'tow':2, 'three':3, 'four':4, 'five':5}가 주어졌을 때 다음 요구사항에 맞는 코드를 제시하시오\n",
    "  - [참고] : d.keys(), d.values()를 통해 리스트를 얻어낸 후 리스트가 지니고 있는 sort(cmp=None, key=None, reverse=False) 함수를 활용하시오.\n",
    "  - 1) 키의 알파벳 오름차순 순서대로 튜플 (키, 값)을 차례대로 출력하시오.\n",
    "  - 2) 키의 알파벳 내림차순 순서대로 튜플 (키, 값)을 차례대로 출력하시오.\n",
    "  - 3) 값의 오름차순 순서대로 튜플 (키, 값)을 차례대로 출력하시오.\n",
    "  - 4) 값의 내림차순 순서대로 튜플 (키, 값)을 차례대로 출력하시오."
   ]
  },
  {
   "cell_type": "code",
   "execution_count": 56,
   "metadata": {},
   "outputs": [
    {
     "name": "stdout",
     "output_type": "stream",
     "text": [
      "[('five', 5), ('four', 4), ('one', 1), ('three', 3), ('two', 2)]\n",
      "\n",
      "[('two', 2), ('three', 3), ('one', 1), ('four', 4), ('five', 5)]\n",
      "\n",
      "[('one', 1), ('two', 2), ('three', 3), ('four', 4), ('five', 5)]\n",
      "\n",
      "[('five', 5), ('four', 4), ('three', 3), ('two', 2), ('one', 1)]\n",
      "\n"
     ]
    }
   ],
   "source": [
    "import operator\n",
    "\n",
    "d = {'one':1, 'two':2, 'three':3, 'four':4, 'five':5}\n",
    "\n",
    "a = [a for a in d.items()]\n",
    "a.sort()                             # 키의 알파벳 오름차순으로 정렬\n",
    "print(a)\n",
    "print()\n",
    "\n",
    "a.reverse()                          # 키의 알파벳 내림차순으로 정렬\n",
    "print(a)\n",
    "print()\n",
    "                                     # 값의 오름차순으로 정렬\n",
    "print(sorted(d.items(), key=operator.itemgetter(1)))\n",
    "print()\n",
    "                                     # 값의 내림차순으로 정렬\n",
    "print(sorted(d.items(), key=operator.itemgetter(1), reverse = True))\n",
    "print()"
   ]
  },
  {
   "cell_type": "markdown",
   "metadata": {},
   "source": [
    "#### [풀이]"
   ]
  },
  {
   "cell_type": "markdown",
   "metadata": {},
   "source": [
    "a = [a for a in d.items()]를 이용하여 사전 d의 items들을 리스트 내 튜플 원소 형태로 객체 a를 만든다.<p>\n",
    "그 뒤에 a.sort()로 key의 알파벳 오름차순을 기준으로 정렬한다. 아무런 조건 없이 sort()함수를 쓴다면 key를 기준으로 한다.<br>\n",
    "그리고, a.reserve()를 이용하여 key의 알파벳 오름차순으로 정렬된 리스트를 역순으로 즉, 알파벳 내림차순으로 정렬한다.<p>\n",
    "value를 기준으로 정렬하기 위해서 나는 sorted 메소드를 사용하였는데, sorted(d.items(), key=operator.itemgetter(1))에서 1은 값을 기준으로 정렬할때 사용한다. 따라서 이를 이용해 value의 숫자를 오름차순으로 정렬할 수 있었다.<br>\n",
    "마지막으로, 인자에 reverse = True를 추가하여 앞서 값을 기준으로 오름차순으로 정렬했던 것을 역순으로 즉, 숫자의 내림차순으로 정렬한다.<p>\n",
    "이 메소드 처럼 사용하기 위해서는 operator 모듈을 import 해야한다."
   ]
  },
  {
   "cell_type": "markdown",
   "metadata": {},
   "source": [
    "### [ACM-ICPC 문제 1673번]"
   ]
  },
  {
   "cell_type": "markdown",
   "metadata": {},
   "source": [
    "- 치킨 쿠폰\n",
    "  - https://www.acmicpc.net/problem/1673"
   ]
  },
  {
   "cell_type": "code",
   "execution_count": null,
   "metadata": {},
   "outputs": [
    {
     "name": "stdout",
     "output_type": "stream",
     "text": [
      "4\n",
      "3\n",
      "5\n",
      "10\n",
      "3\n",
      "14\n",
      "100\n",
      "5\n",
      "124\n"
     ]
    }
   ],
   "source": [
    "while True:\n",
    "    n = int(input())\n",
    "    k = int(input())\n",
    "    total = coupon = n\n",
    "    \n",
    "    while coupon >= k:\n",
    "        total = total + coupon/k\n",
    "        coupon = coupon/k + coupon%k\n",
    "    total = int(total)\n",
    "    print (total)"
   ]
  },
  {
   "cell_type": "markdown",
   "metadata": {},
   "source": [
    "#### [풀이]"
   ]
  },
  {
   "cell_type": "markdown",
   "metadata": {},
   "source": [
    "주피터 노트북에서는 결과가 잘 나오는 것 같은데 백준에서는 런타임에러가 떠요..왜그런지 모르겠어요"
   ]
  },
  {
   "cell_type": "markdown",
   "metadata": {},
   "source": [
    "![Result](./2015136060_03.PNG)"
   ]
  },
  {
   "cell_type": "markdown",
   "metadata": {},
   "source": [
    "## Incremental Project 문제"
   ]
  },
  {
   "cell_type": "markdown",
   "metadata": {},
   "source": [
    "이전 Assignment 2의 마지막 문제는 웹 URL로 지정된 웹페이지를 문자열로 가져와 모든 HTML 태그를 제외한 순수 텍스트를 얻어내고 그 안에 존재하는 단어를 추출하고 단어들의 총 개수를 출력하는 프로그램을 작성하는 것이었다. 이번에는 그 마지막 숙제를 그대로 확장하여 웹 URL로 지정된 웹페이지 내 순수 텍스트 안에 존재하는 각 단어들에 대해 다음 요구사항 대로 출력하는 프로그램을 작성하시오.\n",
    "- 요구사항 1. CSS와 Javascript 내용도 모두 제거하시오 (이전 숙제에서 이미 제외하였다면 본 요구사항 무시)\n",
    "- 요구사항 2. 순수 텍스트 안에 존재하는 단어들에 대해 string 모듈을 활용하여 모든 punctuation (구두문자)를 완벽히 제거하시오.\n",
    "  - 예 : ['world!', ':', '+hello+', '~python$$$', '=', 'world'] ---> ['world', 'hello', 'python', 'world']\n",
    "  - 모든 punctuation을 확인하는 방법은 아래와 같다.<p>\n",
    "      import string<br>\n",
    "      print(string.punctuation)\n",
    "- 요구사항 3. 만약 punctuation (구두문자)를 제거한 이후 공백으로 판명되는 단어들은 해당 단어 리스트에서 제거하시오.\n",
    "  - 예: ['컴퓨터공학부!', '---?', '%지향~', '...'] ---> ['컴퓨터공학부', '', '지향', ''] ---> ['컴퓨터공학부', '지향'] \n",
    "- 요구사항 4. 각 단어들의 출현빈도를 사전형태로 저장하여 출력하시오.\n",
    "  - 예 : ['world', 'hello', 'python', 'world', '컴퓨터공학부', '지향'] ---> {'world': 2, 'hello': 1, 'python': 1, '컴퓨터공학부': 1, '지향': 1} \n",
    "- 요구사항 5. 다음 5개의 사이트에 대한 단어 출현빈도 결과를 출력하시오.\n",
    "  - http://cse.koreatech.ac.kr\n",
    "  - https://www.koreatech.ac.kr\n",
    "  - http://www.naver.com\n",
    "  - http://www.daum.net\n",
    "  - http://www.nytimes.com"
   ]
  },
  {
   "cell_type": "code",
   "execution_count": 1,
   "metadata": {},
   "outputs": [
    {
     "name": "stdout",
     "output_type": "stream",
     "text": [
      "475\n",
      "\n",
      "{'2031': 2, 'All': 1, 'Google': 2, '사용할': 1, '대한': 1, '20181007': 1, 'Online': 1, '공지사항': 1, 'be': 1, '생태계': 1, '기업용': 1, 'CSE': 1, '1010': 1, '1917': 2, '2018년': 1, '고수가': 1, '경진대회': 1, '교육': 1, '구인천안': 1, '학부서비스': 1, '동남구': 2, '국제적인': 1, '따른': 1, '보안': 1, 'Science': 1, 'CK': 1, '2학기': 1, 'and': 3, 'Computer': 1, '수': 2, 'expand': 1, '동향은': 1, '교육의': 2, '취업게시판': 1, 'SK텔레콤': 1, '31253': 1, '20181022': 1, '접속부터는': 1, '졸업작품전시회': 1, 'Southeast': 1, '2018': 5, '홈페이지에': 1, 'IT융합': 2, '교직원': 1, '★문화의날': 1, '운영': 1, '소개': 1, '29일': 1, '20180927': 1, '지원': 2, '©': 1, '포럼’': 1, '바로가기': 2, '불법만': 1, '1409': 2, '얼마': 1, '필요가': 1, 'China’s': 1, '평생교육원': 1, 'to': 2, '컴퓨터공학부': 8, 'Empowerment': 1, '신입경력': 1, '학사안내': 1, 'Future': 1, '시': 1, '1461': 1, '하반기': 1, '대표': 1, '한국기술교육대학교': 7, '1501': 2, '안내': 1, '비즈니스': 1, '게임방': 1, 'KoreaI': 1, '20181025': 2, '학교': 1, '20181029': 17, '입학': 1, '1630': 2, '20180910': 1, 'Firebase': 1, '유지될': 1, 'beefs': 1, '0937': 2, 'on': 1, '아니면': 1, '나선다': 1, '분야': 1, '다음': 1, '자료실': 2, '공학교육인증': 1, '동향': 1, 'Contact': 1, 'should': 1, 'Quick': 1, 'from': 1, '특성화': 3, '장비': 1, 'IT전문인력': 1, '2032': 2, 'Registration': 1, '20181004': 1, 'of': 1, '※모의토익비': 1, 'betting': 1, '1530': 2, '유지': 2, '이용': 1, '0936': 2, '세계': 1, '1313': 2, '모집정보보호': 1, 'SK브로드밴드': 1, 'TEL': 1, 'Design': 1, '포트폴리오': 1, '1460': 1, '1418': 2, '있으니': 1, '온라인': 3, '찾기': 1, 'Close': 1, 'exists': 1, '남았습니다': 1, '국가보안기술연구소': 1, '1700': 8, '1629': 2, '0836': 2, 'Leading': 1, 'it': 1, '졸업작품': 2, 'Brighter': 1, '교육생': 1, '비밀번호': 1, 'Grab': 1, '방법': 1, 'farm': 1, 'IT융합분야에': 1, '로그인할': 1, '평가회': 1, 'Back': 1, '컨텐츠': 2, '병천면': 2, '닫더라도': 1, '전산실': 1, 'Platum': 1, 'into': 1, 'Fun': 1, 'in': 1, '㈜비즈테크파트너스': 1, 'Contents': 1, 'for': 3, '중소기업과': 1, '메카': 2, '공지※': 1, '로그인이': 1, 'rights': 1, '“블록체인': 1, '등': 1, 'Hydrogen': 1, '자유게시판': 1, 'Top': 1, '브라우저를': 1, 'is': 2, '95': 1, '기능을': 1, '5대': 1, '문화행사': 1, '천안시': 2, '한글과컴퓨터그룹': 1, '2100': 4, '주니어': 1, '2130': 2, '업무': 1, 'ente': 1, '채용': 1, '공지': 1, '도입': 1, '안내2학기': 1, '캠프': 1, '결과에': 1, '0943': 2, 'KShield': 1, '‘블록오': 1, 'Navigation': 1, 'Capston': 1, '3번째': 1, 'phone': 1, '환영합니다': 1, 'ARVR분야': 1, '20180903': 1, '공공장소에서': 1, '200M': 1, 'Red': 2, '안': 1, 'Copyright': 1, '역차별': 1, 'the': 2, '560': 2, '것을': 1, '검증': 1, 'Education': 1, '행사': 1, '글로벌': 4, '아산나눔재단': 1, 'Asia’s': 1, '개발': 1, '충무병원': 1, 'trav': 1, '수준의': 1, '있습니다': 1, '정규직': 1, 'Location': 1, '계획': 1, 'Campus': 1, '20180928': 1, '소개합니다': 1, '041': 2, '공채': 1, 'poised': 1, '메쉬코리아': 1, '커리어피드': 1, 'WEBMAIL': 1, 'pulls': 1, '되는': 1, 'IT': 5, '모세혈관': 1, '기업가정신': 1, '표철민': 1, 'Linkedin': 1, 'FAX': 1, '컨텐츠를': 1, '국정감사화웨이': 1, '20180918': 1, 'Plus': 1, 'Capability': 1, 'LG': 1, '위드': 1, '1600': 2, '0753': 2, '학부': 1, '1525': 2, 'Study': 1, '조성위해': 1, '교육역량강화사업': 3, '프로그래매틱': 1, '산업체': 1, '2018학년도': 1, 'IBM': 1, '계속': 1, 'Together': 1, '대학원': 2, '없습니다': 1, '—': 2, '스타트업': 3, 'but': 1, 'Hat': 1, '블록체인': 1, '더팀스': 1, '정부교육': 1, 'platform': 1, '5G': 2, '아이디': 1, '1136': 2, '충청남도': 2, '신입': 1, '아이디어': 1, '20180913': 1, '고도화': 1, '기반': 1, '양성': 1, '구성원소개': 1, '이슈분석역차별': 1, 'TechCrunch': 1, '광고': 1, '1056': 2, '인력양성사업': 3, '전자신문': 1, '헤어메이크업': 1, '모집': 1, 'One': 1, '경우': 1, '10월': 1, 'Intensive': 1, '강좌': 1, '20181130금': 1, 'Facebook': 1, '로그아웃을': 1, '홈페이지': 1, '해소': 2, 'CoBot': 1, '1841': 2, 'Schoolfun': 1, '2146': 2, '개발직': 1, '개최': 1, 'ACMICPC': 1, 'Engineering': 1, 'Twitter': 1, 'Creative': 1, '2015': 1, '로그인': 4, '이슈분석글로벌ICT기업': 1, '경쟁력': 1, '충절로': 2, 'Chuxing': 1, '학부광장': 1, '가전리': 1, '1462': 1, 'CNS자회사': 1, '1448': 2, '공지★': 1, '취소': 1, 'IDPW': 1, 'AR': 1, '융합소프트웨어': 3, '1550': 2, '개인정보가': 1, '유출될': 1, '20181019': 2, '고취': 1, '신청기간이': 1, '수용': 1, '취업의': 1, '학과사무실': 1, '예선': 1, 'reserved': 1, 'The': 1, '해주세요': 1, '기간': 1, '‘아산': 1, 'Didi': 1, 'up': 1, 'School': 1, '회원가입': 1, '단': 1, '오신': 1, '꼭': 1, '0837': 2, '솔루션': 1}\n"
     ]
    }
   ],
   "source": [
    "import string\n",
    "\n",
    "from urllib import request \n",
    " \n",
    "url = 'http://cse.koreatech.ac.kr'\n",
    "\n",
    "f = request.urlopen(url)\n",
    "source_bytes = f.read()\n",
    "source = source_bytes.decode('utf-8')\n",
    "\n",
    "source.strip()                                  #양 쪽 끝에 있는 공백을 없앤다.\n",
    "a = 0\n",
    "b = 0\n",
    "count = 0                                       #HTML 구문, 코드를 제외한 문자의 개수\n",
    "t1 = 0\n",
    "t2 = 0\n",
    "c = []\n",
    "\n",
    "i = 0\n",
    "# javaScript 태그 없애기\n",
    "while(i != 2):\n",
    "    while(t1 != -1):                                 # a != -1의 조건 기준은 source.find('<', b)에서 b 인덱스 이후로 < 문자가 더이상 존재하지 않을 때, a에다가 -1을 리턴해준다.\n",
    "        t1 = source.find('<script', t2)\n",
    "        t2 = source.find('</script>', t1)\n",
    "\n",
    "        if(t1 != t2):\n",
    "            source = source[:t1] + source[t2:]\n",
    "\n",
    "    t1 = 0\n",
    "    t2 = 0\n",
    "    i = i + 1\n",
    "    \n",
    "i = 0\n",
    "# CSS 태그 없애기\n",
    "while(i != 2):\n",
    "    while(t1 != -1):                                 # a != -1의 조건 기준은 source.find('<', b)에서 b 인덱스 이후로 < 문자가 더이상 존재하지 않을 때, a에다가 -1을 리턴해준다.\n",
    "        t1 = source.find('<style', t2)\n",
    "        t2 = source.find('</style>', t1)\n",
    "\n",
    "        if(t1 != t2):\n",
    "            source = source[:t1] + source[t2:]\n",
    "\n",
    "    t1 = 0\n",
    "    t2 = 0\n",
    "    i = i + 1\n",
    "\n",
    "while(a != -1):                                 # a != -1의 조건 기준은 source.find('<', b)에서 b 인덱스 이후로 \n",
    "                                                # < 문자가 더이상 존재하지 않을 때, a에다가 -1을 리턴해준다.\n",
    "    a = source.find('<', b) \n",
    "    b = source.find('>', a) \n",
    "    a1 = source.find('<', b)\n",
    "\n",
    "    if((a1 > b) and (a1 != a) ):                # > 이 사이에 있는 것이 문자열이라는 조건 <\n",
    "        count = count + len(source[(b+1):a1].split())        # 그 사이에 있는 것이 문자열인데 그 안에 단어가 몇개 있는지를 공백 기준 쪼갠다.\n",
    "        if(len(source[(b+1):a1].split()) > 0):\n",
    "            c = c + source[(b+1):a1].split()\n",
    "            \n",
    "c = ' '.join(c)        # 리스트는 구두문자를 제거하기 위한 translate를 사용할 수 없으므로 문자열로 만든다. 이 때, 각 원소의\n",
    "                       # 구분은 공백문자로 한다. 이후에 공백문자를 기준으로 다시 리스트를 만들 것이다.\n",
    "translator = str.maketrans('', '', string.punctuation)\n",
    "c = c.translate(translator)\n",
    "c = c.split()\n",
    "k = 0\n",
    "result = []\n",
    "\n",
    "#리스트 내에 구두문자를 제거한 단어들을 삽입한다.\n",
    "while(k < len(c)):\n",
    "    result.append((c[k],c.count(c[k])))\n",
    "    k = k + 1\n",
    "\n",
    "    \n",
    "#중복 문자 삭제\n",
    "result = set(result)\n",
    "\n",
    "#리스트로의 형변환\n",
    "result = list(result)\n",
    "\n",
    "# 사전화\n",
    "k = 0\n",
    "list_key = []\n",
    "list_value = []\n",
    "\n",
    "while(k < len(result)):\n",
    "    list_key.append(result[k][0])\n",
    "    list_value.append(result[k][1])\n",
    "    k = k + 1\n",
    " \n",
    "#key, value(반복횟수)를 리스트로 각각 저장했었기 때문에, 리스트와 리스트 간\n",
    "#mapping을 위해 zip()사용.\n",
    "\n",
    "t = zip(list_key, list_value)\n",
    "\n",
    "#zip 후, 사전으로 형변환\n",
    "t = dict(t)\n",
    "\n",
    "print(count) #중복을 제외한 단어의 개수\n",
    "print()\n",
    "print(t)\n"
   ]
  },
  {
   "cell_type": "code",
   "execution_count": 7,
   "metadata": {},
   "outputs": [
    {
     "ename": "HTTPError",
     "evalue": "HTTP Error 302: The HTTP server returned a redirect error that would lead to an infinite loop.\nThe last 30x error message was:\nFound",
     "output_type": "error",
     "traceback": [
      "\u001b[1;31m---------------------------------------------------------------------------\u001b[0m",
      "\u001b[1;31mHTTPError\u001b[0m                                 Traceback (most recent call last)",
      "\u001b[1;32m<ipython-input-7-aa9ad2efd993>\u001b[0m in \u001b[0;36m<module>\u001b[1;34m()\u001b[0m\n\u001b[0;32m      2\u001b[0m \u001b[1;32mfrom\u001b[0m \u001b[0murllib\u001b[0m \u001b[1;32mimport\u001b[0m \u001b[0mrequest\u001b[0m\u001b[1;33m\u001b[0m\u001b[0m\n\u001b[0;32m      3\u001b[0m \u001b[0murl\u001b[0m \u001b[1;33m=\u001b[0m \u001b[1;34m'http://www.koreatech.ac.kr'\u001b[0m\u001b[1;33m\u001b[0m\u001b[0m\n\u001b[1;32m----> 4\u001b[1;33m \u001b[0mf\u001b[0m \u001b[1;33m=\u001b[0m \u001b[0mrequest\u001b[0m\u001b[1;33m.\u001b[0m\u001b[0murlopen\u001b[0m\u001b[1;33m(\u001b[0m\u001b[0murl\u001b[0m\u001b[1;33m)\u001b[0m\u001b[1;33m\u001b[0m\u001b[0m\n\u001b[0m\u001b[0;32m      5\u001b[0m \u001b[0msource_bytes\u001b[0m \u001b[1;33m=\u001b[0m \u001b[0mf\u001b[0m\u001b[1;33m.\u001b[0m\u001b[0mread\u001b[0m\u001b[1;33m(\u001b[0m\u001b[1;33m)\u001b[0m\u001b[1;33m\u001b[0m\u001b[0m\n\u001b[0;32m      6\u001b[0m \u001b[0msource\u001b[0m \u001b[1;33m=\u001b[0m \u001b[0msource_bytes\u001b[0m\u001b[1;33m.\u001b[0m\u001b[0mdecode\u001b[0m\u001b[1;33m(\u001b[0m\u001b[1;34m'utf-8'\u001b[0m\u001b[1;33m)\u001b[0m\u001b[1;33m\u001b[0m\u001b[0m\n",
      "\u001b[1;32mC:\\Anaconda3\\lib\\urllib\\request.py\u001b[0m in \u001b[0;36murlopen\u001b[1;34m(url, data, timeout, cafile, capath, cadefault, context)\u001b[0m\n\u001b[0;32m    220\u001b[0m     \u001b[1;32melse\u001b[0m\u001b[1;33m:\u001b[0m\u001b[1;33m\u001b[0m\u001b[0m\n\u001b[0;32m    221\u001b[0m         \u001b[0mopener\u001b[0m \u001b[1;33m=\u001b[0m \u001b[0m_opener\u001b[0m\u001b[1;33m\u001b[0m\u001b[0m\n\u001b[1;32m--> 222\u001b[1;33m     \u001b[1;32mreturn\u001b[0m \u001b[0mopener\u001b[0m\u001b[1;33m.\u001b[0m\u001b[0mopen\u001b[0m\u001b[1;33m(\u001b[0m\u001b[0murl\u001b[0m\u001b[1;33m,\u001b[0m \u001b[0mdata\u001b[0m\u001b[1;33m,\u001b[0m \u001b[0mtimeout\u001b[0m\u001b[1;33m)\u001b[0m\u001b[1;33m\u001b[0m\u001b[0m\n\u001b[0m\u001b[0;32m    223\u001b[0m \u001b[1;33m\u001b[0m\u001b[0m\n\u001b[0;32m    224\u001b[0m \u001b[1;32mdef\u001b[0m \u001b[0minstall_opener\u001b[0m\u001b[1;33m(\u001b[0m\u001b[0mopener\u001b[0m\u001b[1;33m)\u001b[0m\u001b[1;33m:\u001b[0m\u001b[1;33m\u001b[0m\u001b[0m\n",
      "\u001b[1;32mC:\\Anaconda3\\lib\\urllib\\request.py\u001b[0m in \u001b[0;36mopen\u001b[1;34m(self, fullurl, data, timeout)\u001b[0m\n\u001b[0;32m    529\u001b[0m         \u001b[1;32mfor\u001b[0m \u001b[0mprocessor\u001b[0m \u001b[1;32min\u001b[0m \u001b[0mself\u001b[0m\u001b[1;33m.\u001b[0m\u001b[0mprocess_response\u001b[0m\u001b[1;33m.\u001b[0m\u001b[0mget\u001b[0m\u001b[1;33m(\u001b[0m\u001b[0mprotocol\u001b[0m\u001b[1;33m,\u001b[0m \u001b[1;33m[\u001b[0m\u001b[1;33m]\u001b[0m\u001b[1;33m)\u001b[0m\u001b[1;33m:\u001b[0m\u001b[1;33m\u001b[0m\u001b[0m\n\u001b[0;32m    530\u001b[0m             \u001b[0mmeth\u001b[0m \u001b[1;33m=\u001b[0m \u001b[0mgetattr\u001b[0m\u001b[1;33m(\u001b[0m\u001b[0mprocessor\u001b[0m\u001b[1;33m,\u001b[0m \u001b[0mmeth_name\u001b[0m\u001b[1;33m)\u001b[0m\u001b[1;33m\u001b[0m\u001b[0m\n\u001b[1;32m--> 531\u001b[1;33m             \u001b[0mresponse\u001b[0m \u001b[1;33m=\u001b[0m \u001b[0mmeth\u001b[0m\u001b[1;33m(\u001b[0m\u001b[0mreq\u001b[0m\u001b[1;33m,\u001b[0m \u001b[0mresponse\u001b[0m\u001b[1;33m)\u001b[0m\u001b[1;33m\u001b[0m\u001b[0m\n\u001b[0m\u001b[0;32m    532\u001b[0m \u001b[1;33m\u001b[0m\u001b[0m\n\u001b[0;32m    533\u001b[0m         \u001b[1;32mreturn\u001b[0m \u001b[0mresponse\u001b[0m\u001b[1;33m\u001b[0m\u001b[0m\n",
      "\u001b[1;32mC:\\Anaconda3\\lib\\urllib\\request.py\u001b[0m in \u001b[0;36mhttp_response\u001b[1;34m(self, request, response)\u001b[0m\n\u001b[0;32m    639\u001b[0m         \u001b[1;32mif\u001b[0m \u001b[1;32mnot\u001b[0m \u001b[1;33m(\u001b[0m\u001b[1;36m200\u001b[0m \u001b[1;33m<=\u001b[0m \u001b[0mcode\u001b[0m \u001b[1;33m<\u001b[0m \u001b[1;36m300\u001b[0m\u001b[1;33m)\u001b[0m\u001b[1;33m:\u001b[0m\u001b[1;33m\u001b[0m\u001b[0m\n\u001b[0;32m    640\u001b[0m             response = self.parent.error(\n\u001b[1;32m--> 641\u001b[1;33m                 'http', request, response, code, msg, hdrs)\n\u001b[0m\u001b[0;32m    642\u001b[0m \u001b[1;33m\u001b[0m\u001b[0m\n\u001b[0;32m    643\u001b[0m         \u001b[1;32mreturn\u001b[0m \u001b[0mresponse\u001b[0m\u001b[1;33m\u001b[0m\u001b[0m\n",
      "\u001b[1;32mC:\\Anaconda3\\lib\\urllib\\request.py\u001b[0m in \u001b[0;36merror\u001b[1;34m(self, proto, *args)\u001b[0m\n\u001b[0;32m    561\u001b[0m             \u001b[0mhttp_err\u001b[0m \u001b[1;33m=\u001b[0m \u001b[1;36m0\u001b[0m\u001b[1;33m\u001b[0m\u001b[0m\n\u001b[0;32m    562\u001b[0m         \u001b[0margs\u001b[0m \u001b[1;33m=\u001b[0m \u001b[1;33m(\u001b[0m\u001b[0mdict\u001b[0m\u001b[1;33m,\u001b[0m \u001b[0mproto\u001b[0m\u001b[1;33m,\u001b[0m \u001b[0mmeth_name\u001b[0m\u001b[1;33m)\u001b[0m \u001b[1;33m+\u001b[0m \u001b[0margs\u001b[0m\u001b[1;33m\u001b[0m\u001b[0m\n\u001b[1;32m--> 563\u001b[1;33m         \u001b[0mresult\u001b[0m \u001b[1;33m=\u001b[0m \u001b[0mself\u001b[0m\u001b[1;33m.\u001b[0m\u001b[0m_call_chain\u001b[0m\u001b[1;33m(\u001b[0m\u001b[1;33m*\u001b[0m\u001b[0margs\u001b[0m\u001b[1;33m)\u001b[0m\u001b[1;33m\u001b[0m\u001b[0m\n\u001b[0m\u001b[0;32m    564\u001b[0m         \u001b[1;32mif\u001b[0m \u001b[0mresult\u001b[0m\u001b[1;33m:\u001b[0m\u001b[1;33m\u001b[0m\u001b[0m\n\u001b[0;32m    565\u001b[0m             \u001b[1;32mreturn\u001b[0m \u001b[0mresult\u001b[0m\u001b[1;33m\u001b[0m\u001b[0m\n",
      "\u001b[1;32mC:\\Anaconda3\\lib\\urllib\\request.py\u001b[0m in \u001b[0;36m_call_chain\u001b[1;34m(self, chain, kind, meth_name, *args)\u001b[0m\n\u001b[0;32m    501\u001b[0m         \u001b[1;32mfor\u001b[0m \u001b[0mhandler\u001b[0m \u001b[1;32min\u001b[0m \u001b[0mhandlers\u001b[0m\u001b[1;33m:\u001b[0m\u001b[1;33m\u001b[0m\u001b[0m\n\u001b[0;32m    502\u001b[0m             \u001b[0mfunc\u001b[0m \u001b[1;33m=\u001b[0m \u001b[0mgetattr\u001b[0m\u001b[1;33m(\u001b[0m\u001b[0mhandler\u001b[0m\u001b[1;33m,\u001b[0m \u001b[0mmeth_name\u001b[0m\u001b[1;33m)\u001b[0m\u001b[1;33m\u001b[0m\u001b[0m\n\u001b[1;32m--> 503\u001b[1;33m             \u001b[0mresult\u001b[0m \u001b[1;33m=\u001b[0m \u001b[0mfunc\u001b[0m\u001b[1;33m(\u001b[0m\u001b[1;33m*\u001b[0m\u001b[0margs\u001b[0m\u001b[1;33m)\u001b[0m\u001b[1;33m\u001b[0m\u001b[0m\n\u001b[0m\u001b[0;32m    504\u001b[0m             \u001b[1;32mif\u001b[0m \u001b[0mresult\u001b[0m \u001b[1;32mis\u001b[0m \u001b[1;32mnot\u001b[0m \u001b[1;32mNone\u001b[0m\u001b[1;33m:\u001b[0m\u001b[1;33m\u001b[0m\u001b[0m\n\u001b[0;32m    505\u001b[0m                 \u001b[1;32mreturn\u001b[0m \u001b[0mresult\u001b[0m\u001b[1;33m\u001b[0m\u001b[0m\n",
      "\u001b[1;32mC:\\Anaconda3\\lib\\urllib\\request.py\u001b[0m in \u001b[0;36mhttp_error_302\u001b[1;34m(self, req, fp, code, msg, headers)\u001b[0m\n\u001b[0;32m    753\u001b[0m         \u001b[0mfp\u001b[0m\u001b[1;33m.\u001b[0m\u001b[0mclose\u001b[0m\u001b[1;33m(\u001b[0m\u001b[1;33m)\u001b[0m\u001b[1;33m\u001b[0m\u001b[0m\n\u001b[0;32m    754\u001b[0m \u001b[1;33m\u001b[0m\u001b[0m\n\u001b[1;32m--> 755\u001b[1;33m         \u001b[1;32mreturn\u001b[0m \u001b[0mself\u001b[0m\u001b[1;33m.\u001b[0m\u001b[0mparent\u001b[0m\u001b[1;33m.\u001b[0m\u001b[0mopen\u001b[0m\u001b[1;33m(\u001b[0m\u001b[0mnew\u001b[0m\u001b[1;33m,\u001b[0m \u001b[0mtimeout\u001b[0m\u001b[1;33m=\u001b[0m\u001b[0mreq\u001b[0m\u001b[1;33m.\u001b[0m\u001b[0mtimeout\u001b[0m\u001b[1;33m)\u001b[0m\u001b[1;33m\u001b[0m\u001b[0m\n\u001b[0m\u001b[0;32m    756\u001b[0m \u001b[1;33m\u001b[0m\u001b[0m\n\u001b[0;32m    757\u001b[0m     \u001b[0mhttp_error_301\u001b[0m \u001b[1;33m=\u001b[0m \u001b[0mhttp_error_303\u001b[0m \u001b[1;33m=\u001b[0m \u001b[0mhttp_error_307\u001b[0m \u001b[1;33m=\u001b[0m \u001b[0mhttp_error_302\u001b[0m\u001b[1;33m\u001b[0m\u001b[0m\n",
      "\u001b[1;32mC:\\Anaconda3\\lib\\urllib\\request.py\u001b[0m in \u001b[0;36mopen\u001b[1;34m(self, fullurl, data, timeout)\u001b[0m\n\u001b[0;32m    529\u001b[0m         \u001b[1;32mfor\u001b[0m \u001b[0mprocessor\u001b[0m \u001b[1;32min\u001b[0m \u001b[0mself\u001b[0m\u001b[1;33m.\u001b[0m\u001b[0mprocess_response\u001b[0m\u001b[1;33m.\u001b[0m\u001b[0mget\u001b[0m\u001b[1;33m(\u001b[0m\u001b[0mprotocol\u001b[0m\u001b[1;33m,\u001b[0m \u001b[1;33m[\u001b[0m\u001b[1;33m]\u001b[0m\u001b[1;33m)\u001b[0m\u001b[1;33m:\u001b[0m\u001b[1;33m\u001b[0m\u001b[0m\n\u001b[0;32m    530\u001b[0m             \u001b[0mmeth\u001b[0m \u001b[1;33m=\u001b[0m \u001b[0mgetattr\u001b[0m\u001b[1;33m(\u001b[0m\u001b[0mprocessor\u001b[0m\u001b[1;33m,\u001b[0m \u001b[0mmeth_name\u001b[0m\u001b[1;33m)\u001b[0m\u001b[1;33m\u001b[0m\u001b[0m\n\u001b[1;32m--> 531\u001b[1;33m             \u001b[0mresponse\u001b[0m \u001b[1;33m=\u001b[0m \u001b[0mmeth\u001b[0m\u001b[1;33m(\u001b[0m\u001b[0mreq\u001b[0m\u001b[1;33m,\u001b[0m \u001b[0mresponse\u001b[0m\u001b[1;33m)\u001b[0m\u001b[1;33m\u001b[0m\u001b[0m\n\u001b[0m\u001b[0;32m    532\u001b[0m \u001b[1;33m\u001b[0m\u001b[0m\n\u001b[0;32m    533\u001b[0m         \u001b[1;32mreturn\u001b[0m \u001b[0mresponse\u001b[0m\u001b[1;33m\u001b[0m\u001b[0m\n",
      "\u001b[1;32mC:\\Anaconda3\\lib\\urllib\\request.py\u001b[0m in \u001b[0;36mhttp_response\u001b[1;34m(self, request, response)\u001b[0m\n\u001b[0;32m    639\u001b[0m         \u001b[1;32mif\u001b[0m \u001b[1;32mnot\u001b[0m \u001b[1;33m(\u001b[0m\u001b[1;36m200\u001b[0m \u001b[1;33m<=\u001b[0m \u001b[0mcode\u001b[0m \u001b[1;33m<\u001b[0m \u001b[1;36m300\u001b[0m\u001b[1;33m)\u001b[0m\u001b[1;33m:\u001b[0m\u001b[1;33m\u001b[0m\u001b[0m\n\u001b[0;32m    640\u001b[0m             response = self.parent.error(\n\u001b[1;32m--> 641\u001b[1;33m                 'http', request, response, code, msg, hdrs)\n\u001b[0m\u001b[0;32m    642\u001b[0m \u001b[1;33m\u001b[0m\u001b[0m\n\u001b[0;32m    643\u001b[0m         \u001b[1;32mreturn\u001b[0m \u001b[0mresponse\u001b[0m\u001b[1;33m\u001b[0m\u001b[0m\n",
      "\u001b[1;32mC:\\Anaconda3\\lib\\urllib\\request.py\u001b[0m in \u001b[0;36merror\u001b[1;34m(self, proto, *args)\u001b[0m\n\u001b[0;32m    561\u001b[0m             \u001b[0mhttp_err\u001b[0m \u001b[1;33m=\u001b[0m \u001b[1;36m0\u001b[0m\u001b[1;33m\u001b[0m\u001b[0m\n\u001b[0;32m    562\u001b[0m         \u001b[0margs\u001b[0m \u001b[1;33m=\u001b[0m \u001b[1;33m(\u001b[0m\u001b[0mdict\u001b[0m\u001b[1;33m,\u001b[0m \u001b[0mproto\u001b[0m\u001b[1;33m,\u001b[0m \u001b[0mmeth_name\u001b[0m\u001b[1;33m)\u001b[0m \u001b[1;33m+\u001b[0m \u001b[0margs\u001b[0m\u001b[1;33m\u001b[0m\u001b[0m\n\u001b[1;32m--> 563\u001b[1;33m         \u001b[0mresult\u001b[0m \u001b[1;33m=\u001b[0m \u001b[0mself\u001b[0m\u001b[1;33m.\u001b[0m\u001b[0m_call_chain\u001b[0m\u001b[1;33m(\u001b[0m\u001b[1;33m*\u001b[0m\u001b[0margs\u001b[0m\u001b[1;33m)\u001b[0m\u001b[1;33m\u001b[0m\u001b[0m\n\u001b[0m\u001b[0;32m    564\u001b[0m         \u001b[1;32mif\u001b[0m \u001b[0mresult\u001b[0m\u001b[1;33m:\u001b[0m\u001b[1;33m\u001b[0m\u001b[0m\n\u001b[0;32m    565\u001b[0m             \u001b[1;32mreturn\u001b[0m \u001b[0mresult\u001b[0m\u001b[1;33m\u001b[0m\u001b[0m\n",
      "\u001b[1;32mC:\\Anaconda3\\lib\\urllib\\request.py\u001b[0m in \u001b[0;36m_call_chain\u001b[1;34m(self, chain, kind, meth_name, *args)\u001b[0m\n\u001b[0;32m    501\u001b[0m         \u001b[1;32mfor\u001b[0m \u001b[0mhandler\u001b[0m \u001b[1;32min\u001b[0m \u001b[0mhandlers\u001b[0m\u001b[1;33m:\u001b[0m\u001b[1;33m\u001b[0m\u001b[0m\n\u001b[0;32m    502\u001b[0m             \u001b[0mfunc\u001b[0m \u001b[1;33m=\u001b[0m \u001b[0mgetattr\u001b[0m\u001b[1;33m(\u001b[0m\u001b[0mhandler\u001b[0m\u001b[1;33m,\u001b[0m \u001b[0mmeth_name\u001b[0m\u001b[1;33m)\u001b[0m\u001b[1;33m\u001b[0m\u001b[0m\n\u001b[1;32m--> 503\u001b[1;33m             \u001b[0mresult\u001b[0m \u001b[1;33m=\u001b[0m \u001b[0mfunc\u001b[0m\u001b[1;33m(\u001b[0m\u001b[1;33m*\u001b[0m\u001b[0margs\u001b[0m\u001b[1;33m)\u001b[0m\u001b[1;33m\u001b[0m\u001b[0m\n\u001b[0m\u001b[0;32m    504\u001b[0m             \u001b[1;32mif\u001b[0m \u001b[0mresult\u001b[0m \u001b[1;32mis\u001b[0m \u001b[1;32mnot\u001b[0m \u001b[1;32mNone\u001b[0m\u001b[1;33m:\u001b[0m\u001b[1;33m\u001b[0m\u001b[0m\n\u001b[0;32m    505\u001b[0m                 \u001b[1;32mreturn\u001b[0m \u001b[0mresult\u001b[0m\u001b[1;33m\u001b[0m\u001b[0m\n",
      "\u001b[1;32mC:\\Anaconda3\\lib\\urllib\\request.py\u001b[0m in \u001b[0;36mhttp_error_302\u001b[1;34m(self, req, fp, code, msg, headers)\u001b[0m\n\u001b[0;32m    753\u001b[0m         \u001b[0mfp\u001b[0m\u001b[1;33m.\u001b[0m\u001b[0mclose\u001b[0m\u001b[1;33m(\u001b[0m\u001b[1;33m)\u001b[0m\u001b[1;33m\u001b[0m\u001b[0m\n\u001b[0;32m    754\u001b[0m \u001b[1;33m\u001b[0m\u001b[0m\n\u001b[1;32m--> 755\u001b[1;33m         \u001b[1;32mreturn\u001b[0m \u001b[0mself\u001b[0m\u001b[1;33m.\u001b[0m\u001b[0mparent\u001b[0m\u001b[1;33m.\u001b[0m\u001b[0mopen\u001b[0m\u001b[1;33m(\u001b[0m\u001b[0mnew\u001b[0m\u001b[1;33m,\u001b[0m \u001b[0mtimeout\u001b[0m\u001b[1;33m=\u001b[0m\u001b[0mreq\u001b[0m\u001b[1;33m.\u001b[0m\u001b[0mtimeout\u001b[0m\u001b[1;33m)\u001b[0m\u001b[1;33m\u001b[0m\u001b[0m\n\u001b[0m\u001b[0;32m    756\u001b[0m \u001b[1;33m\u001b[0m\u001b[0m\n\u001b[0;32m    757\u001b[0m     \u001b[0mhttp_error_301\u001b[0m \u001b[1;33m=\u001b[0m \u001b[0mhttp_error_303\u001b[0m \u001b[1;33m=\u001b[0m \u001b[0mhttp_error_307\u001b[0m \u001b[1;33m=\u001b[0m \u001b[0mhttp_error_302\u001b[0m\u001b[1;33m\u001b[0m\u001b[0m\n",
      "\u001b[1;32mC:\\Anaconda3\\lib\\urllib\\request.py\u001b[0m in \u001b[0;36mopen\u001b[1;34m(self, fullurl, data, timeout)\u001b[0m\n\u001b[0;32m    529\u001b[0m         \u001b[1;32mfor\u001b[0m \u001b[0mprocessor\u001b[0m \u001b[1;32min\u001b[0m \u001b[0mself\u001b[0m\u001b[1;33m.\u001b[0m\u001b[0mprocess_response\u001b[0m\u001b[1;33m.\u001b[0m\u001b[0mget\u001b[0m\u001b[1;33m(\u001b[0m\u001b[0mprotocol\u001b[0m\u001b[1;33m,\u001b[0m \u001b[1;33m[\u001b[0m\u001b[1;33m]\u001b[0m\u001b[1;33m)\u001b[0m\u001b[1;33m:\u001b[0m\u001b[1;33m\u001b[0m\u001b[0m\n\u001b[0;32m    530\u001b[0m             \u001b[0mmeth\u001b[0m \u001b[1;33m=\u001b[0m \u001b[0mgetattr\u001b[0m\u001b[1;33m(\u001b[0m\u001b[0mprocessor\u001b[0m\u001b[1;33m,\u001b[0m \u001b[0mmeth_name\u001b[0m\u001b[1;33m)\u001b[0m\u001b[1;33m\u001b[0m\u001b[0m\n\u001b[1;32m--> 531\u001b[1;33m             \u001b[0mresponse\u001b[0m \u001b[1;33m=\u001b[0m \u001b[0mmeth\u001b[0m\u001b[1;33m(\u001b[0m\u001b[0mreq\u001b[0m\u001b[1;33m,\u001b[0m \u001b[0mresponse\u001b[0m\u001b[1;33m)\u001b[0m\u001b[1;33m\u001b[0m\u001b[0m\n\u001b[0m\u001b[0;32m    532\u001b[0m \u001b[1;33m\u001b[0m\u001b[0m\n\u001b[0;32m    533\u001b[0m         \u001b[1;32mreturn\u001b[0m \u001b[0mresponse\u001b[0m\u001b[1;33m\u001b[0m\u001b[0m\n",
      "\u001b[1;32mC:\\Anaconda3\\lib\\urllib\\request.py\u001b[0m in \u001b[0;36mhttp_response\u001b[1;34m(self, request, response)\u001b[0m\n\u001b[0;32m    639\u001b[0m         \u001b[1;32mif\u001b[0m \u001b[1;32mnot\u001b[0m \u001b[1;33m(\u001b[0m\u001b[1;36m200\u001b[0m \u001b[1;33m<=\u001b[0m \u001b[0mcode\u001b[0m \u001b[1;33m<\u001b[0m \u001b[1;36m300\u001b[0m\u001b[1;33m)\u001b[0m\u001b[1;33m:\u001b[0m\u001b[1;33m\u001b[0m\u001b[0m\n\u001b[0;32m    640\u001b[0m             response = self.parent.error(\n\u001b[1;32m--> 641\u001b[1;33m                 'http', request, response, code, msg, hdrs)\n\u001b[0m\u001b[0;32m    642\u001b[0m \u001b[1;33m\u001b[0m\u001b[0m\n\u001b[0;32m    643\u001b[0m         \u001b[1;32mreturn\u001b[0m \u001b[0mresponse\u001b[0m\u001b[1;33m\u001b[0m\u001b[0m\n",
      "\u001b[1;32mC:\\Anaconda3\\lib\\urllib\\request.py\u001b[0m in \u001b[0;36merror\u001b[1;34m(self, proto, *args)\u001b[0m\n\u001b[0;32m    561\u001b[0m             \u001b[0mhttp_err\u001b[0m \u001b[1;33m=\u001b[0m \u001b[1;36m0\u001b[0m\u001b[1;33m\u001b[0m\u001b[0m\n\u001b[0;32m    562\u001b[0m         \u001b[0margs\u001b[0m \u001b[1;33m=\u001b[0m \u001b[1;33m(\u001b[0m\u001b[0mdict\u001b[0m\u001b[1;33m,\u001b[0m \u001b[0mproto\u001b[0m\u001b[1;33m,\u001b[0m \u001b[0mmeth_name\u001b[0m\u001b[1;33m)\u001b[0m \u001b[1;33m+\u001b[0m \u001b[0margs\u001b[0m\u001b[1;33m\u001b[0m\u001b[0m\n\u001b[1;32m--> 563\u001b[1;33m         \u001b[0mresult\u001b[0m \u001b[1;33m=\u001b[0m \u001b[0mself\u001b[0m\u001b[1;33m.\u001b[0m\u001b[0m_call_chain\u001b[0m\u001b[1;33m(\u001b[0m\u001b[1;33m*\u001b[0m\u001b[0margs\u001b[0m\u001b[1;33m)\u001b[0m\u001b[1;33m\u001b[0m\u001b[0m\n\u001b[0m\u001b[0;32m    564\u001b[0m         \u001b[1;32mif\u001b[0m \u001b[0mresult\u001b[0m\u001b[1;33m:\u001b[0m\u001b[1;33m\u001b[0m\u001b[0m\n\u001b[0;32m    565\u001b[0m             \u001b[1;32mreturn\u001b[0m \u001b[0mresult\u001b[0m\u001b[1;33m\u001b[0m\u001b[0m\n",
      "\u001b[1;32mC:\\Anaconda3\\lib\\urllib\\request.py\u001b[0m in \u001b[0;36m_call_chain\u001b[1;34m(self, chain, kind, meth_name, *args)\u001b[0m\n\u001b[0;32m    501\u001b[0m         \u001b[1;32mfor\u001b[0m \u001b[0mhandler\u001b[0m \u001b[1;32min\u001b[0m \u001b[0mhandlers\u001b[0m\u001b[1;33m:\u001b[0m\u001b[1;33m\u001b[0m\u001b[0m\n\u001b[0;32m    502\u001b[0m             \u001b[0mfunc\u001b[0m \u001b[1;33m=\u001b[0m \u001b[0mgetattr\u001b[0m\u001b[1;33m(\u001b[0m\u001b[0mhandler\u001b[0m\u001b[1;33m,\u001b[0m \u001b[0mmeth_name\u001b[0m\u001b[1;33m)\u001b[0m\u001b[1;33m\u001b[0m\u001b[0m\n\u001b[1;32m--> 503\u001b[1;33m             \u001b[0mresult\u001b[0m \u001b[1;33m=\u001b[0m \u001b[0mfunc\u001b[0m\u001b[1;33m(\u001b[0m\u001b[1;33m*\u001b[0m\u001b[0margs\u001b[0m\u001b[1;33m)\u001b[0m\u001b[1;33m\u001b[0m\u001b[0m\n\u001b[0m\u001b[0;32m    504\u001b[0m             \u001b[1;32mif\u001b[0m \u001b[0mresult\u001b[0m \u001b[1;32mis\u001b[0m \u001b[1;32mnot\u001b[0m \u001b[1;32mNone\u001b[0m\u001b[1;33m:\u001b[0m\u001b[1;33m\u001b[0m\u001b[0m\n\u001b[0;32m    505\u001b[0m                 \u001b[1;32mreturn\u001b[0m \u001b[0mresult\u001b[0m\u001b[1;33m\u001b[0m\u001b[0m\n",
      "\u001b[1;32mC:\\Anaconda3\\lib\\urllib\\request.py\u001b[0m in \u001b[0;36mhttp_error_302\u001b[1;34m(self, req, fp, code, msg, headers)\u001b[0m\n\u001b[0;32m    753\u001b[0m         \u001b[0mfp\u001b[0m\u001b[1;33m.\u001b[0m\u001b[0mclose\u001b[0m\u001b[1;33m(\u001b[0m\u001b[1;33m)\u001b[0m\u001b[1;33m\u001b[0m\u001b[0m\n\u001b[0;32m    754\u001b[0m \u001b[1;33m\u001b[0m\u001b[0m\n\u001b[1;32m--> 755\u001b[1;33m         \u001b[1;32mreturn\u001b[0m \u001b[0mself\u001b[0m\u001b[1;33m.\u001b[0m\u001b[0mparent\u001b[0m\u001b[1;33m.\u001b[0m\u001b[0mopen\u001b[0m\u001b[1;33m(\u001b[0m\u001b[0mnew\u001b[0m\u001b[1;33m,\u001b[0m \u001b[0mtimeout\u001b[0m\u001b[1;33m=\u001b[0m\u001b[0mreq\u001b[0m\u001b[1;33m.\u001b[0m\u001b[0mtimeout\u001b[0m\u001b[1;33m)\u001b[0m\u001b[1;33m\u001b[0m\u001b[0m\n\u001b[0m\u001b[0;32m    756\u001b[0m \u001b[1;33m\u001b[0m\u001b[0m\n\u001b[0;32m    757\u001b[0m     \u001b[0mhttp_error_301\u001b[0m \u001b[1;33m=\u001b[0m \u001b[0mhttp_error_303\u001b[0m \u001b[1;33m=\u001b[0m \u001b[0mhttp_error_307\u001b[0m \u001b[1;33m=\u001b[0m \u001b[0mhttp_error_302\u001b[0m\u001b[1;33m\u001b[0m\u001b[0m\n",
      "\u001b[1;32mC:\\Anaconda3\\lib\\urllib\\request.py\u001b[0m in \u001b[0;36mopen\u001b[1;34m(self, fullurl, data, timeout)\u001b[0m\n\u001b[0;32m    529\u001b[0m         \u001b[1;32mfor\u001b[0m \u001b[0mprocessor\u001b[0m \u001b[1;32min\u001b[0m \u001b[0mself\u001b[0m\u001b[1;33m.\u001b[0m\u001b[0mprocess_response\u001b[0m\u001b[1;33m.\u001b[0m\u001b[0mget\u001b[0m\u001b[1;33m(\u001b[0m\u001b[0mprotocol\u001b[0m\u001b[1;33m,\u001b[0m \u001b[1;33m[\u001b[0m\u001b[1;33m]\u001b[0m\u001b[1;33m)\u001b[0m\u001b[1;33m:\u001b[0m\u001b[1;33m\u001b[0m\u001b[0m\n\u001b[0;32m    530\u001b[0m             \u001b[0mmeth\u001b[0m \u001b[1;33m=\u001b[0m \u001b[0mgetattr\u001b[0m\u001b[1;33m(\u001b[0m\u001b[0mprocessor\u001b[0m\u001b[1;33m,\u001b[0m \u001b[0mmeth_name\u001b[0m\u001b[1;33m)\u001b[0m\u001b[1;33m\u001b[0m\u001b[0m\n\u001b[1;32m--> 531\u001b[1;33m             \u001b[0mresponse\u001b[0m \u001b[1;33m=\u001b[0m \u001b[0mmeth\u001b[0m\u001b[1;33m(\u001b[0m\u001b[0mreq\u001b[0m\u001b[1;33m,\u001b[0m \u001b[0mresponse\u001b[0m\u001b[1;33m)\u001b[0m\u001b[1;33m\u001b[0m\u001b[0m\n\u001b[0m\u001b[0;32m    532\u001b[0m \u001b[1;33m\u001b[0m\u001b[0m\n\u001b[0;32m    533\u001b[0m         \u001b[1;32mreturn\u001b[0m \u001b[0mresponse\u001b[0m\u001b[1;33m\u001b[0m\u001b[0m\n",
      "\u001b[1;32mC:\\Anaconda3\\lib\\urllib\\request.py\u001b[0m in \u001b[0;36mhttp_response\u001b[1;34m(self, request, response)\u001b[0m\n\u001b[0;32m    639\u001b[0m         \u001b[1;32mif\u001b[0m \u001b[1;32mnot\u001b[0m \u001b[1;33m(\u001b[0m\u001b[1;36m200\u001b[0m \u001b[1;33m<=\u001b[0m \u001b[0mcode\u001b[0m \u001b[1;33m<\u001b[0m \u001b[1;36m300\u001b[0m\u001b[1;33m)\u001b[0m\u001b[1;33m:\u001b[0m\u001b[1;33m\u001b[0m\u001b[0m\n\u001b[0;32m    640\u001b[0m             response = self.parent.error(\n\u001b[1;32m--> 641\u001b[1;33m                 'http', request, response, code, msg, hdrs)\n\u001b[0m\u001b[0;32m    642\u001b[0m \u001b[1;33m\u001b[0m\u001b[0m\n\u001b[0;32m    643\u001b[0m         \u001b[1;32mreturn\u001b[0m \u001b[0mresponse\u001b[0m\u001b[1;33m\u001b[0m\u001b[0m\n",
      "\u001b[1;32mC:\\Anaconda3\\lib\\urllib\\request.py\u001b[0m in \u001b[0;36merror\u001b[1;34m(self, proto, *args)\u001b[0m\n\u001b[0;32m    561\u001b[0m             \u001b[0mhttp_err\u001b[0m \u001b[1;33m=\u001b[0m \u001b[1;36m0\u001b[0m\u001b[1;33m\u001b[0m\u001b[0m\n\u001b[0;32m    562\u001b[0m         \u001b[0margs\u001b[0m \u001b[1;33m=\u001b[0m \u001b[1;33m(\u001b[0m\u001b[0mdict\u001b[0m\u001b[1;33m,\u001b[0m \u001b[0mproto\u001b[0m\u001b[1;33m,\u001b[0m \u001b[0mmeth_name\u001b[0m\u001b[1;33m)\u001b[0m \u001b[1;33m+\u001b[0m \u001b[0margs\u001b[0m\u001b[1;33m\u001b[0m\u001b[0m\n\u001b[1;32m--> 563\u001b[1;33m         \u001b[0mresult\u001b[0m \u001b[1;33m=\u001b[0m \u001b[0mself\u001b[0m\u001b[1;33m.\u001b[0m\u001b[0m_call_chain\u001b[0m\u001b[1;33m(\u001b[0m\u001b[1;33m*\u001b[0m\u001b[0margs\u001b[0m\u001b[1;33m)\u001b[0m\u001b[1;33m\u001b[0m\u001b[0m\n\u001b[0m\u001b[0;32m    564\u001b[0m         \u001b[1;32mif\u001b[0m \u001b[0mresult\u001b[0m\u001b[1;33m:\u001b[0m\u001b[1;33m\u001b[0m\u001b[0m\n\u001b[0;32m    565\u001b[0m             \u001b[1;32mreturn\u001b[0m \u001b[0mresult\u001b[0m\u001b[1;33m\u001b[0m\u001b[0m\n",
      "\u001b[1;32mC:\\Anaconda3\\lib\\urllib\\request.py\u001b[0m in \u001b[0;36m_call_chain\u001b[1;34m(self, chain, kind, meth_name, *args)\u001b[0m\n\u001b[0;32m    501\u001b[0m         \u001b[1;32mfor\u001b[0m \u001b[0mhandler\u001b[0m \u001b[1;32min\u001b[0m \u001b[0mhandlers\u001b[0m\u001b[1;33m:\u001b[0m\u001b[1;33m\u001b[0m\u001b[0m\n\u001b[0;32m    502\u001b[0m             \u001b[0mfunc\u001b[0m \u001b[1;33m=\u001b[0m \u001b[0mgetattr\u001b[0m\u001b[1;33m(\u001b[0m\u001b[0mhandler\u001b[0m\u001b[1;33m,\u001b[0m \u001b[0mmeth_name\u001b[0m\u001b[1;33m)\u001b[0m\u001b[1;33m\u001b[0m\u001b[0m\n\u001b[1;32m--> 503\u001b[1;33m             \u001b[0mresult\u001b[0m \u001b[1;33m=\u001b[0m \u001b[0mfunc\u001b[0m\u001b[1;33m(\u001b[0m\u001b[1;33m*\u001b[0m\u001b[0margs\u001b[0m\u001b[1;33m)\u001b[0m\u001b[1;33m\u001b[0m\u001b[0m\n\u001b[0m\u001b[0;32m    504\u001b[0m             \u001b[1;32mif\u001b[0m \u001b[0mresult\u001b[0m \u001b[1;32mis\u001b[0m \u001b[1;32mnot\u001b[0m \u001b[1;32mNone\u001b[0m\u001b[1;33m:\u001b[0m\u001b[1;33m\u001b[0m\u001b[0m\n\u001b[0;32m    505\u001b[0m                 \u001b[1;32mreturn\u001b[0m \u001b[0mresult\u001b[0m\u001b[1;33m\u001b[0m\u001b[0m\n",
      "\u001b[1;32mC:\\Anaconda3\\lib\\urllib\\request.py\u001b[0m in \u001b[0;36mhttp_error_302\u001b[1;34m(self, req, fp, code, msg, headers)\u001b[0m\n\u001b[0;32m    753\u001b[0m         \u001b[0mfp\u001b[0m\u001b[1;33m.\u001b[0m\u001b[0mclose\u001b[0m\u001b[1;33m(\u001b[0m\u001b[1;33m)\u001b[0m\u001b[1;33m\u001b[0m\u001b[0m\n\u001b[0;32m    754\u001b[0m \u001b[1;33m\u001b[0m\u001b[0m\n\u001b[1;32m--> 755\u001b[1;33m         \u001b[1;32mreturn\u001b[0m \u001b[0mself\u001b[0m\u001b[1;33m.\u001b[0m\u001b[0mparent\u001b[0m\u001b[1;33m.\u001b[0m\u001b[0mopen\u001b[0m\u001b[1;33m(\u001b[0m\u001b[0mnew\u001b[0m\u001b[1;33m,\u001b[0m \u001b[0mtimeout\u001b[0m\u001b[1;33m=\u001b[0m\u001b[0mreq\u001b[0m\u001b[1;33m.\u001b[0m\u001b[0mtimeout\u001b[0m\u001b[1;33m)\u001b[0m\u001b[1;33m\u001b[0m\u001b[0m\n\u001b[0m\u001b[0;32m    756\u001b[0m \u001b[1;33m\u001b[0m\u001b[0m\n\u001b[0;32m    757\u001b[0m     \u001b[0mhttp_error_301\u001b[0m \u001b[1;33m=\u001b[0m \u001b[0mhttp_error_303\u001b[0m \u001b[1;33m=\u001b[0m \u001b[0mhttp_error_307\u001b[0m \u001b[1;33m=\u001b[0m \u001b[0mhttp_error_302\u001b[0m\u001b[1;33m\u001b[0m\u001b[0m\n",
      "\u001b[1;32mC:\\Anaconda3\\lib\\urllib\\request.py\u001b[0m in \u001b[0;36mopen\u001b[1;34m(self, fullurl, data, timeout)\u001b[0m\n\u001b[0;32m    529\u001b[0m         \u001b[1;32mfor\u001b[0m \u001b[0mprocessor\u001b[0m \u001b[1;32min\u001b[0m \u001b[0mself\u001b[0m\u001b[1;33m.\u001b[0m\u001b[0mprocess_response\u001b[0m\u001b[1;33m.\u001b[0m\u001b[0mget\u001b[0m\u001b[1;33m(\u001b[0m\u001b[0mprotocol\u001b[0m\u001b[1;33m,\u001b[0m \u001b[1;33m[\u001b[0m\u001b[1;33m]\u001b[0m\u001b[1;33m)\u001b[0m\u001b[1;33m:\u001b[0m\u001b[1;33m\u001b[0m\u001b[0m\n\u001b[0;32m    530\u001b[0m             \u001b[0mmeth\u001b[0m \u001b[1;33m=\u001b[0m \u001b[0mgetattr\u001b[0m\u001b[1;33m(\u001b[0m\u001b[0mprocessor\u001b[0m\u001b[1;33m,\u001b[0m \u001b[0mmeth_name\u001b[0m\u001b[1;33m)\u001b[0m\u001b[1;33m\u001b[0m\u001b[0m\n\u001b[1;32m--> 531\u001b[1;33m             \u001b[0mresponse\u001b[0m \u001b[1;33m=\u001b[0m \u001b[0mmeth\u001b[0m\u001b[1;33m(\u001b[0m\u001b[0mreq\u001b[0m\u001b[1;33m,\u001b[0m \u001b[0mresponse\u001b[0m\u001b[1;33m)\u001b[0m\u001b[1;33m\u001b[0m\u001b[0m\n\u001b[0m\u001b[0;32m    532\u001b[0m \u001b[1;33m\u001b[0m\u001b[0m\n\u001b[0;32m    533\u001b[0m         \u001b[1;32mreturn\u001b[0m \u001b[0mresponse\u001b[0m\u001b[1;33m\u001b[0m\u001b[0m\n",
      "\u001b[1;32mC:\\Anaconda3\\lib\\urllib\\request.py\u001b[0m in \u001b[0;36mhttp_response\u001b[1;34m(self, request, response)\u001b[0m\n\u001b[0;32m    639\u001b[0m         \u001b[1;32mif\u001b[0m \u001b[1;32mnot\u001b[0m \u001b[1;33m(\u001b[0m\u001b[1;36m200\u001b[0m \u001b[1;33m<=\u001b[0m \u001b[0mcode\u001b[0m \u001b[1;33m<\u001b[0m \u001b[1;36m300\u001b[0m\u001b[1;33m)\u001b[0m\u001b[1;33m:\u001b[0m\u001b[1;33m\u001b[0m\u001b[0m\n\u001b[0;32m    640\u001b[0m             response = self.parent.error(\n\u001b[1;32m--> 641\u001b[1;33m                 'http', request, response, code, msg, hdrs)\n\u001b[0m\u001b[0;32m    642\u001b[0m \u001b[1;33m\u001b[0m\u001b[0m\n\u001b[0;32m    643\u001b[0m         \u001b[1;32mreturn\u001b[0m \u001b[0mresponse\u001b[0m\u001b[1;33m\u001b[0m\u001b[0m\n",
      "\u001b[1;32mC:\\Anaconda3\\lib\\urllib\\request.py\u001b[0m in \u001b[0;36merror\u001b[1;34m(self, proto, *args)\u001b[0m\n\u001b[0;32m    561\u001b[0m             \u001b[0mhttp_err\u001b[0m \u001b[1;33m=\u001b[0m \u001b[1;36m0\u001b[0m\u001b[1;33m\u001b[0m\u001b[0m\n\u001b[0;32m    562\u001b[0m         \u001b[0margs\u001b[0m \u001b[1;33m=\u001b[0m \u001b[1;33m(\u001b[0m\u001b[0mdict\u001b[0m\u001b[1;33m,\u001b[0m \u001b[0mproto\u001b[0m\u001b[1;33m,\u001b[0m \u001b[0mmeth_name\u001b[0m\u001b[1;33m)\u001b[0m \u001b[1;33m+\u001b[0m \u001b[0margs\u001b[0m\u001b[1;33m\u001b[0m\u001b[0m\n\u001b[1;32m--> 563\u001b[1;33m         \u001b[0mresult\u001b[0m \u001b[1;33m=\u001b[0m \u001b[0mself\u001b[0m\u001b[1;33m.\u001b[0m\u001b[0m_call_chain\u001b[0m\u001b[1;33m(\u001b[0m\u001b[1;33m*\u001b[0m\u001b[0margs\u001b[0m\u001b[1;33m)\u001b[0m\u001b[1;33m\u001b[0m\u001b[0m\n\u001b[0m\u001b[0;32m    564\u001b[0m         \u001b[1;32mif\u001b[0m \u001b[0mresult\u001b[0m\u001b[1;33m:\u001b[0m\u001b[1;33m\u001b[0m\u001b[0m\n\u001b[0;32m    565\u001b[0m             \u001b[1;32mreturn\u001b[0m \u001b[0mresult\u001b[0m\u001b[1;33m\u001b[0m\u001b[0m\n",
      "\u001b[1;32mC:\\Anaconda3\\lib\\urllib\\request.py\u001b[0m in \u001b[0;36m_call_chain\u001b[1;34m(self, chain, kind, meth_name, *args)\u001b[0m\n\u001b[0;32m    501\u001b[0m         \u001b[1;32mfor\u001b[0m \u001b[0mhandler\u001b[0m \u001b[1;32min\u001b[0m \u001b[0mhandlers\u001b[0m\u001b[1;33m:\u001b[0m\u001b[1;33m\u001b[0m\u001b[0m\n\u001b[0;32m    502\u001b[0m             \u001b[0mfunc\u001b[0m \u001b[1;33m=\u001b[0m \u001b[0mgetattr\u001b[0m\u001b[1;33m(\u001b[0m\u001b[0mhandler\u001b[0m\u001b[1;33m,\u001b[0m \u001b[0mmeth_name\u001b[0m\u001b[1;33m)\u001b[0m\u001b[1;33m\u001b[0m\u001b[0m\n\u001b[1;32m--> 503\u001b[1;33m             \u001b[0mresult\u001b[0m \u001b[1;33m=\u001b[0m \u001b[0mfunc\u001b[0m\u001b[1;33m(\u001b[0m\u001b[1;33m*\u001b[0m\u001b[0margs\u001b[0m\u001b[1;33m)\u001b[0m\u001b[1;33m\u001b[0m\u001b[0m\n\u001b[0m\u001b[0;32m    504\u001b[0m             \u001b[1;32mif\u001b[0m \u001b[0mresult\u001b[0m \u001b[1;32mis\u001b[0m \u001b[1;32mnot\u001b[0m \u001b[1;32mNone\u001b[0m\u001b[1;33m:\u001b[0m\u001b[1;33m\u001b[0m\u001b[0m\n\u001b[0;32m    505\u001b[0m                 \u001b[1;32mreturn\u001b[0m \u001b[0mresult\u001b[0m\u001b[1;33m\u001b[0m\u001b[0m\n",
      "\u001b[1;32mC:\\Anaconda3\\lib\\urllib\\request.py\u001b[0m in \u001b[0;36mhttp_error_302\u001b[1;34m(self, req, fp, code, msg, headers)\u001b[0m\n\u001b[0;32m    753\u001b[0m         \u001b[0mfp\u001b[0m\u001b[1;33m.\u001b[0m\u001b[0mclose\u001b[0m\u001b[1;33m(\u001b[0m\u001b[1;33m)\u001b[0m\u001b[1;33m\u001b[0m\u001b[0m\n\u001b[0;32m    754\u001b[0m \u001b[1;33m\u001b[0m\u001b[0m\n\u001b[1;32m--> 755\u001b[1;33m         \u001b[1;32mreturn\u001b[0m \u001b[0mself\u001b[0m\u001b[1;33m.\u001b[0m\u001b[0mparent\u001b[0m\u001b[1;33m.\u001b[0m\u001b[0mopen\u001b[0m\u001b[1;33m(\u001b[0m\u001b[0mnew\u001b[0m\u001b[1;33m,\u001b[0m \u001b[0mtimeout\u001b[0m\u001b[1;33m=\u001b[0m\u001b[0mreq\u001b[0m\u001b[1;33m.\u001b[0m\u001b[0mtimeout\u001b[0m\u001b[1;33m)\u001b[0m\u001b[1;33m\u001b[0m\u001b[0m\n\u001b[0m\u001b[0;32m    756\u001b[0m \u001b[1;33m\u001b[0m\u001b[0m\n\u001b[0;32m    757\u001b[0m     \u001b[0mhttp_error_301\u001b[0m \u001b[1;33m=\u001b[0m \u001b[0mhttp_error_303\u001b[0m \u001b[1;33m=\u001b[0m \u001b[0mhttp_error_307\u001b[0m \u001b[1;33m=\u001b[0m \u001b[0mhttp_error_302\u001b[0m\u001b[1;33m\u001b[0m\u001b[0m\n",
      "\u001b[1;32mC:\\Anaconda3\\lib\\urllib\\request.py\u001b[0m in \u001b[0;36mopen\u001b[1;34m(self, fullurl, data, timeout)\u001b[0m\n\u001b[0;32m    529\u001b[0m         \u001b[1;32mfor\u001b[0m \u001b[0mprocessor\u001b[0m \u001b[1;32min\u001b[0m \u001b[0mself\u001b[0m\u001b[1;33m.\u001b[0m\u001b[0mprocess_response\u001b[0m\u001b[1;33m.\u001b[0m\u001b[0mget\u001b[0m\u001b[1;33m(\u001b[0m\u001b[0mprotocol\u001b[0m\u001b[1;33m,\u001b[0m \u001b[1;33m[\u001b[0m\u001b[1;33m]\u001b[0m\u001b[1;33m)\u001b[0m\u001b[1;33m:\u001b[0m\u001b[1;33m\u001b[0m\u001b[0m\n\u001b[0;32m    530\u001b[0m             \u001b[0mmeth\u001b[0m \u001b[1;33m=\u001b[0m \u001b[0mgetattr\u001b[0m\u001b[1;33m(\u001b[0m\u001b[0mprocessor\u001b[0m\u001b[1;33m,\u001b[0m \u001b[0mmeth_name\u001b[0m\u001b[1;33m)\u001b[0m\u001b[1;33m\u001b[0m\u001b[0m\n\u001b[1;32m--> 531\u001b[1;33m             \u001b[0mresponse\u001b[0m \u001b[1;33m=\u001b[0m \u001b[0mmeth\u001b[0m\u001b[1;33m(\u001b[0m\u001b[0mreq\u001b[0m\u001b[1;33m,\u001b[0m \u001b[0mresponse\u001b[0m\u001b[1;33m)\u001b[0m\u001b[1;33m\u001b[0m\u001b[0m\n\u001b[0m\u001b[0;32m    532\u001b[0m \u001b[1;33m\u001b[0m\u001b[0m\n\u001b[0;32m    533\u001b[0m         \u001b[1;32mreturn\u001b[0m \u001b[0mresponse\u001b[0m\u001b[1;33m\u001b[0m\u001b[0m\n",
      "\u001b[1;32mC:\\Anaconda3\\lib\\urllib\\request.py\u001b[0m in \u001b[0;36mhttp_response\u001b[1;34m(self, request, response)\u001b[0m\n\u001b[0;32m    639\u001b[0m         \u001b[1;32mif\u001b[0m \u001b[1;32mnot\u001b[0m \u001b[1;33m(\u001b[0m\u001b[1;36m200\u001b[0m \u001b[1;33m<=\u001b[0m \u001b[0mcode\u001b[0m \u001b[1;33m<\u001b[0m \u001b[1;36m300\u001b[0m\u001b[1;33m)\u001b[0m\u001b[1;33m:\u001b[0m\u001b[1;33m\u001b[0m\u001b[0m\n\u001b[0;32m    640\u001b[0m             response = self.parent.error(\n\u001b[1;32m--> 641\u001b[1;33m                 'http', request, response, code, msg, hdrs)\n\u001b[0m\u001b[0;32m    642\u001b[0m \u001b[1;33m\u001b[0m\u001b[0m\n\u001b[0;32m    643\u001b[0m         \u001b[1;32mreturn\u001b[0m \u001b[0mresponse\u001b[0m\u001b[1;33m\u001b[0m\u001b[0m\n",
      "\u001b[1;32mC:\\Anaconda3\\lib\\urllib\\request.py\u001b[0m in \u001b[0;36merror\u001b[1;34m(self, proto, *args)\u001b[0m\n\u001b[0;32m    561\u001b[0m             \u001b[0mhttp_err\u001b[0m \u001b[1;33m=\u001b[0m \u001b[1;36m0\u001b[0m\u001b[1;33m\u001b[0m\u001b[0m\n\u001b[0;32m    562\u001b[0m         \u001b[0margs\u001b[0m \u001b[1;33m=\u001b[0m \u001b[1;33m(\u001b[0m\u001b[0mdict\u001b[0m\u001b[1;33m,\u001b[0m \u001b[0mproto\u001b[0m\u001b[1;33m,\u001b[0m \u001b[0mmeth_name\u001b[0m\u001b[1;33m)\u001b[0m \u001b[1;33m+\u001b[0m \u001b[0margs\u001b[0m\u001b[1;33m\u001b[0m\u001b[0m\n\u001b[1;32m--> 563\u001b[1;33m         \u001b[0mresult\u001b[0m \u001b[1;33m=\u001b[0m \u001b[0mself\u001b[0m\u001b[1;33m.\u001b[0m\u001b[0m_call_chain\u001b[0m\u001b[1;33m(\u001b[0m\u001b[1;33m*\u001b[0m\u001b[0margs\u001b[0m\u001b[1;33m)\u001b[0m\u001b[1;33m\u001b[0m\u001b[0m\n\u001b[0m\u001b[0;32m    564\u001b[0m         \u001b[1;32mif\u001b[0m \u001b[0mresult\u001b[0m\u001b[1;33m:\u001b[0m\u001b[1;33m\u001b[0m\u001b[0m\n\u001b[0;32m    565\u001b[0m             \u001b[1;32mreturn\u001b[0m \u001b[0mresult\u001b[0m\u001b[1;33m\u001b[0m\u001b[0m\n",
      "\u001b[1;32mC:\\Anaconda3\\lib\\urllib\\request.py\u001b[0m in \u001b[0;36m_call_chain\u001b[1;34m(self, chain, kind, meth_name, *args)\u001b[0m\n\u001b[0;32m    501\u001b[0m         \u001b[1;32mfor\u001b[0m \u001b[0mhandler\u001b[0m \u001b[1;32min\u001b[0m \u001b[0mhandlers\u001b[0m\u001b[1;33m:\u001b[0m\u001b[1;33m\u001b[0m\u001b[0m\n\u001b[0;32m    502\u001b[0m             \u001b[0mfunc\u001b[0m \u001b[1;33m=\u001b[0m \u001b[0mgetattr\u001b[0m\u001b[1;33m(\u001b[0m\u001b[0mhandler\u001b[0m\u001b[1;33m,\u001b[0m \u001b[0mmeth_name\u001b[0m\u001b[1;33m)\u001b[0m\u001b[1;33m\u001b[0m\u001b[0m\n\u001b[1;32m--> 503\u001b[1;33m             \u001b[0mresult\u001b[0m \u001b[1;33m=\u001b[0m \u001b[0mfunc\u001b[0m\u001b[1;33m(\u001b[0m\u001b[1;33m*\u001b[0m\u001b[0margs\u001b[0m\u001b[1;33m)\u001b[0m\u001b[1;33m\u001b[0m\u001b[0m\n\u001b[0m\u001b[0;32m    504\u001b[0m             \u001b[1;32mif\u001b[0m \u001b[0mresult\u001b[0m \u001b[1;32mis\u001b[0m \u001b[1;32mnot\u001b[0m \u001b[1;32mNone\u001b[0m\u001b[1;33m:\u001b[0m\u001b[1;33m\u001b[0m\u001b[0m\n\u001b[0;32m    505\u001b[0m                 \u001b[1;32mreturn\u001b[0m \u001b[0mresult\u001b[0m\u001b[1;33m\u001b[0m\u001b[0m\n",
      "\u001b[1;32mC:\\Anaconda3\\lib\\urllib\\request.py\u001b[0m in \u001b[0;36mhttp_error_302\u001b[1;34m(self, req, fp, code, msg, headers)\u001b[0m\n\u001b[0;32m    753\u001b[0m         \u001b[0mfp\u001b[0m\u001b[1;33m.\u001b[0m\u001b[0mclose\u001b[0m\u001b[1;33m(\u001b[0m\u001b[1;33m)\u001b[0m\u001b[1;33m\u001b[0m\u001b[0m\n\u001b[0;32m    754\u001b[0m \u001b[1;33m\u001b[0m\u001b[0m\n\u001b[1;32m--> 755\u001b[1;33m         \u001b[1;32mreturn\u001b[0m \u001b[0mself\u001b[0m\u001b[1;33m.\u001b[0m\u001b[0mparent\u001b[0m\u001b[1;33m.\u001b[0m\u001b[0mopen\u001b[0m\u001b[1;33m(\u001b[0m\u001b[0mnew\u001b[0m\u001b[1;33m,\u001b[0m \u001b[0mtimeout\u001b[0m\u001b[1;33m=\u001b[0m\u001b[0mreq\u001b[0m\u001b[1;33m.\u001b[0m\u001b[0mtimeout\u001b[0m\u001b[1;33m)\u001b[0m\u001b[1;33m\u001b[0m\u001b[0m\n\u001b[0m\u001b[0;32m    756\u001b[0m \u001b[1;33m\u001b[0m\u001b[0m\n\u001b[0;32m    757\u001b[0m     \u001b[0mhttp_error_301\u001b[0m \u001b[1;33m=\u001b[0m \u001b[0mhttp_error_303\u001b[0m \u001b[1;33m=\u001b[0m \u001b[0mhttp_error_307\u001b[0m \u001b[1;33m=\u001b[0m \u001b[0mhttp_error_302\u001b[0m\u001b[1;33m\u001b[0m\u001b[0m\n",
      "\u001b[1;32mC:\\Anaconda3\\lib\\urllib\\request.py\u001b[0m in \u001b[0;36mopen\u001b[1;34m(self, fullurl, data, timeout)\u001b[0m\n\u001b[0;32m    529\u001b[0m         \u001b[1;32mfor\u001b[0m \u001b[0mprocessor\u001b[0m \u001b[1;32min\u001b[0m \u001b[0mself\u001b[0m\u001b[1;33m.\u001b[0m\u001b[0mprocess_response\u001b[0m\u001b[1;33m.\u001b[0m\u001b[0mget\u001b[0m\u001b[1;33m(\u001b[0m\u001b[0mprotocol\u001b[0m\u001b[1;33m,\u001b[0m \u001b[1;33m[\u001b[0m\u001b[1;33m]\u001b[0m\u001b[1;33m)\u001b[0m\u001b[1;33m:\u001b[0m\u001b[1;33m\u001b[0m\u001b[0m\n\u001b[0;32m    530\u001b[0m             \u001b[0mmeth\u001b[0m \u001b[1;33m=\u001b[0m \u001b[0mgetattr\u001b[0m\u001b[1;33m(\u001b[0m\u001b[0mprocessor\u001b[0m\u001b[1;33m,\u001b[0m \u001b[0mmeth_name\u001b[0m\u001b[1;33m)\u001b[0m\u001b[1;33m\u001b[0m\u001b[0m\n\u001b[1;32m--> 531\u001b[1;33m             \u001b[0mresponse\u001b[0m \u001b[1;33m=\u001b[0m \u001b[0mmeth\u001b[0m\u001b[1;33m(\u001b[0m\u001b[0mreq\u001b[0m\u001b[1;33m,\u001b[0m \u001b[0mresponse\u001b[0m\u001b[1;33m)\u001b[0m\u001b[1;33m\u001b[0m\u001b[0m\n\u001b[0m\u001b[0;32m    532\u001b[0m \u001b[1;33m\u001b[0m\u001b[0m\n\u001b[0;32m    533\u001b[0m         \u001b[1;32mreturn\u001b[0m \u001b[0mresponse\u001b[0m\u001b[1;33m\u001b[0m\u001b[0m\n",
      "\u001b[1;32mC:\\Anaconda3\\lib\\urllib\\request.py\u001b[0m in \u001b[0;36mhttp_response\u001b[1;34m(self, request, response)\u001b[0m\n\u001b[0;32m    639\u001b[0m         \u001b[1;32mif\u001b[0m \u001b[1;32mnot\u001b[0m \u001b[1;33m(\u001b[0m\u001b[1;36m200\u001b[0m \u001b[1;33m<=\u001b[0m \u001b[0mcode\u001b[0m \u001b[1;33m<\u001b[0m \u001b[1;36m300\u001b[0m\u001b[1;33m)\u001b[0m\u001b[1;33m:\u001b[0m\u001b[1;33m\u001b[0m\u001b[0m\n\u001b[0;32m    640\u001b[0m             response = self.parent.error(\n\u001b[1;32m--> 641\u001b[1;33m                 'http', request, response, code, msg, hdrs)\n\u001b[0m\u001b[0;32m    642\u001b[0m \u001b[1;33m\u001b[0m\u001b[0m\n\u001b[0;32m    643\u001b[0m         \u001b[1;32mreturn\u001b[0m \u001b[0mresponse\u001b[0m\u001b[1;33m\u001b[0m\u001b[0m\n",
      "\u001b[1;32mC:\\Anaconda3\\lib\\urllib\\request.py\u001b[0m in \u001b[0;36merror\u001b[1;34m(self, proto, *args)\u001b[0m\n\u001b[0;32m    561\u001b[0m             \u001b[0mhttp_err\u001b[0m \u001b[1;33m=\u001b[0m \u001b[1;36m0\u001b[0m\u001b[1;33m\u001b[0m\u001b[0m\n\u001b[0;32m    562\u001b[0m         \u001b[0margs\u001b[0m \u001b[1;33m=\u001b[0m \u001b[1;33m(\u001b[0m\u001b[0mdict\u001b[0m\u001b[1;33m,\u001b[0m \u001b[0mproto\u001b[0m\u001b[1;33m,\u001b[0m \u001b[0mmeth_name\u001b[0m\u001b[1;33m)\u001b[0m \u001b[1;33m+\u001b[0m \u001b[0margs\u001b[0m\u001b[1;33m\u001b[0m\u001b[0m\n\u001b[1;32m--> 563\u001b[1;33m         \u001b[0mresult\u001b[0m \u001b[1;33m=\u001b[0m \u001b[0mself\u001b[0m\u001b[1;33m.\u001b[0m\u001b[0m_call_chain\u001b[0m\u001b[1;33m(\u001b[0m\u001b[1;33m*\u001b[0m\u001b[0margs\u001b[0m\u001b[1;33m)\u001b[0m\u001b[1;33m\u001b[0m\u001b[0m\n\u001b[0m\u001b[0;32m    564\u001b[0m         \u001b[1;32mif\u001b[0m \u001b[0mresult\u001b[0m\u001b[1;33m:\u001b[0m\u001b[1;33m\u001b[0m\u001b[0m\n\u001b[0;32m    565\u001b[0m             \u001b[1;32mreturn\u001b[0m \u001b[0mresult\u001b[0m\u001b[1;33m\u001b[0m\u001b[0m\n",
      "\u001b[1;32mC:\\Anaconda3\\lib\\urllib\\request.py\u001b[0m in \u001b[0;36m_call_chain\u001b[1;34m(self, chain, kind, meth_name, *args)\u001b[0m\n\u001b[0;32m    501\u001b[0m         \u001b[1;32mfor\u001b[0m \u001b[0mhandler\u001b[0m \u001b[1;32min\u001b[0m \u001b[0mhandlers\u001b[0m\u001b[1;33m:\u001b[0m\u001b[1;33m\u001b[0m\u001b[0m\n\u001b[0;32m    502\u001b[0m             \u001b[0mfunc\u001b[0m \u001b[1;33m=\u001b[0m \u001b[0mgetattr\u001b[0m\u001b[1;33m(\u001b[0m\u001b[0mhandler\u001b[0m\u001b[1;33m,\u001b[0m \u001b[0mmeth_name\u001b[0m\u001b[1;33m)\u001b[0m\u001b[1;33m\u001b[0m\u001b[0m\n\u001b[1;32m--> 503\u001b[1;33m             \u001b[0mresult\u001b[0m \u001b[1;33m=\u001b[0m \u001b[0mfunc\u001b[0m\u001b[1;33m(\u001b[0m\u001b[1;33m*\u001b[0m\u001b[0margs\u001b[0m\u001b[1;33m)\u001b[0m\u001b[1;33m\u001b[0m\u001b[0m\n\u001b[0m\u001b[0;32m    504\u001b[0m             \u001b[1;32mif\u001b[0m \u001b[0mresult\u001b[0m \u001b[1;32mis\u001b[0m \u001b[1;32mnot\u001b[0m \u001b[1;32mNone\u001b[0m\u001b[1;33m:\u001b[0m\u001b[1;33m\u001b[0m\u001b[0m\n\u001b[0;32m    505\u001b[0m                 \u001b[1;32mreturn\u001b[0m \u001b[0mresult\u001b[0m\u001b[1;33m\u001b[0m\u001b[0m\n",
      "\u001b[1;32mC:\\Anaconda3\\lib\\urllib\\request.py\u001b[0m in \u001b[0;36mhttp_error_302\u001b[1;34m(self, req, fp, code, msg, headers)\u001b[0m\n\u001b[0;32m    753\u001b[0m         \u001b[0mfp\u001b[0m\u001b[1;33m.\u001b[0m\u001b[0mclose\u001b[0m\u001b[1;33m(\u001b[0m\u001b[1;33m)\u001b[0m\u001b[1;33m\u001b[0m\u001b[0m\n\u001b[0;32m    754\u001b[0m \u001b[1;33m\u001b[0m\u001b[0m\n\u001b[1;32m--> 755\u001b[1;33m         \u001b[1;32mreturn\u001b[0m \u001b[0mself\u001b[0m\u001b[1;33m.\u001b[0m\u001b[0mparent\u001b[0m\u001b[1;33m.\u001b[0m\u001b[0mopen\u001b[0m\u001b[1;33m(\u001b[0m\u001b[0mnew\u001b[0m\u001b[1;33m,\u001b[0m \u001b[0mtimeout\u001b[0m\u001b[1;33m=\u001b[0m\u001b[0mreq\u001b[0m\u001b[1;33m.\u001b[0m\u001b[0mtimeout\u001b[0m\u001b[1;33m)\u001b[0m\u001b[1;33m\u001b[0m\u001b[0m\n\u001b[0m\u001b[0;32m    756\u001b[0m \u001b[1;33m\u001b[0m\u001b[0m\n\u001b[0;32m    757\u001b[0m     \u001b[0mhttp_error_301\u001b[0m \u001b[1;33m=\u001b[0m \u001b[0mhttp_error_303\u001b[0m \u001b[1;33m=\u001b[0m \u001b[0mhttp_error_307\u001b[0m \u001b[1;33m=\u001b[0m \u001b[0mhttp_error_302\u001b[0m\u001b[1;33m\u001b[0m\u001b[0m\n",
      "\u001b[1;32mC:\\Anaconda3\\lib\\urllib\\request.py\u001b[0m in \u001b[0;36mopen\u001b[1;34m(self, fullurl, data, timeout)\u001b[0m\n\u001b[0;32m    529\u001b[0m         \u001b[1;32mfor\u001b[0m \u001b[0mprocessor\u001b[0m \u001b[1;32min\u001b[0m \u001b[0mself\u001b[0m\u001b[1;33m.\u001b[0m\u001b[0mprocess_response\u001b[0m\u001b[1;33m.\u001b[0m\u001b[0mget\u001b[0m\u001b[1;33m(\u001b[0m\u001b[0mprotocol\u001b[0m\u001b[1;33m,\u001b[0m \u001b[1;33m[\u001b[0m\u001b[1;33m]\u001b[0m\u001b[1;33m)\u001b[0m\u001b[1;33m:\u001b[0m\u001b[1;33m\u001b[0m\u001b[0m\n\u001b[0;32m    530\u001b[0m             \u001b[0mmeth\u001b[0m \u001b[1;33m=\u001b[0m \u001b[0mgetattr\u001b[0m\u001b[1;33m(\u001b[0m\u001b[0mprocessor\u001b[0m\u001b[1;33m,\u001b[0m \u001b[0mmeth_name\u001b[0m\u001b[1;33m)\u001b[0m\u001b[1;33m\u001b[0m\u001b[0m\n\u001b[1;32m--> 531\u001b[1;33m             \u001b[0mresponse\u001b[0m \u001b[1;33m=\u001b[0m \u001b[0mmeth\u001b[0m\u001b[1;33m(\u001b[0m\u001b[0mreq\u001b[0m\u001b[1;33m,\u001b[0m \u001b[0mresponse\u001b[0m\u001b[1;33m)\u001b[0m\u001b[1;33m\u001b[0m\u001b[0m\n\u001b[0m\u001b[0;32m    532\u001b[0m \u001b[1;33m\u001b[0m\u001b[0m\n\u001b[0;32m    533\u001b[0m         \u001b[1;32mreturn\u001b[0m \u001b[0mresponse\u001b[0m\u001b[1;33m\u001b[0m\u001b[0m\n",
      "\u001b[1;32mC:\\Anaconda3\\lib\\urllib\\request.py\u001b[0m in \u001b[0;36mhttp_response\u001b[1;34m(self, request, response)\u001b[0m\n\u001b[0;32m    639\u001b[0m         \u001b[1;32mif\u001b[0m \u001b[1;32mnot\u001b[0m \u001b[1;33m(\u001b[0m\u001b[1;36m200\u001b[0m \u001b[1;33m<=\u001b[0m \u001b[0mcode\u001b[0m \u001b[1;33m<\u001b[0m \u001b[1;36m300\u001b[0m\u001b[1;33m)\u001b[0m\u001b[1;33m:\u001b[0m\u001b[1;33m\u001b[0m\u001b[0m\n\u001b[0;32m    640\u001b[0m             response = self.parent.error(\n\u001b[1;32m--> 641\u001b[1;33m                 'http', request, response, code, msg, hdrs)\n\u001b[0m\u001b[0;32m    642\u001b[0m \u001b[1;33m\u001b[0m\u001b[0m\n\u001b[0;32m    643\u001b[0m         \u001b[1;32mreturn\u001b[0m \u001b[0mresponse\u001b[0m\u001b[1;33m\u001b[0m\u001b[0m\n",
      "\u001b[1;32mC:\\Anaconda3\\lib\\urllib\\request.py\u001b[0m in \u001b[0;36merror\u001b[1;34m(self, proto, *args)\u001b[0m\n\u001b[0;32m    561\u001b[0m             \u001b[0mhttp_err\u001b[0m \u001b[1;33m=\u001b[0m \u001b[1;36m0\u001b[0m\u001b[1;33m\u001b[0m\u001b[0m\n\u001b[0;32m    562\u001b[0m         \u001b[0margs\u001b[0m \u001b[1;33m=\u001b[0m \u001b[1;33m(\u001b[0m\u001b[0mdict\u001b[0m\u001b[1;33m,\u001b[0m \u001b[0mproto\u001b[0m\u001b[1;33m,\u001b[0m \u001b[0mmeth_name\u001b[0m\u001b[1;33m)\u001b[0m \u001b[1;33m+\u001b[0m \u001b[0margs\u001b[0m\u001b[1;33m\u001b[0m\u001b[0m\n\u001b[1;32m--> 563\u001b[1;33m         \u001b[0mresult\u001b[0m \u001b[1;33m=\u001b[0m \u001b[0mself\u001b[0m\u001b[1;33m.\u001b[0m\u001b[0m_call_chain\u001b[0m\u001b[1;33m(\u001b[0m\u001b[1;33m*\u001b[0m\u001b[0margs\u001b[0m\u001b[1;33m)\u001b[0m\u001b[1;33m\u001b[0m\u001b[0m\n\u001b[0m\u001b[0;32m    564\u001b[0m         \u001b[1;32mif\u001b[0m \u001b[0mresult\u001b[0m\u001b[1;33m:\u001b[0m\u001b[1;33m\u001b[0m\u001b[0m\n\u001b[0;32m    565\u001b[0m             \u001b[1;32mreturn\u001b[0m \u001b[0mresult\u001b[0m\u001b[1;33m\u001b[0m\u001b[0m\n",
      "\u001b[1;32mC:\\Anaconda3\\lib\\urllib\\request.py\u001b[0m in \u001b[0;36m_call_chain\u001b[1;34m(self, chain, kind, meth_name, *args)\u001b[0m\n\u001b[0;32m    501\u001b[0m         \u001b[1;32mfor\u001b[0m \u001b[0mhandler\u001b[0m \u001b[1;32min\u001b[0m \u001b[0mhandlers\u001b[0m\u001b[1;33m:\u001b[0m\u001b[1;33m\u001b[0m\u001b[0m\n\u001b[0;32m    502\u001b[0m             \u001b[0mfunc\u001b[0m \u001b[1;33m=\u001b[0m \u001b[0mgetattr\u001b[0m\u001b[1;33m(\u001b[0m\u001b[0mhandler\u001b[0m\u001b[1;33m,\u001b[0m \u001b[0mmeth_name\u001b[0m\u001b[1;33m)\u001b[0m\u001b[1;33m\u001b[0m\u001b[0m\n\u001b[1;32m--> 503\u001b[1;33m             \u001b[0mresult\u001b[0m \u001b[1;33m=\u001b[0m \u001b[0mfunc\u001b[0m\u001b[1;33m(\u001b[0m\u001b[1;33m*\u001b[0m\u001b[0margs\u001b[0m\u001b[1;33m)\u001b[0m\u001b[1;33m\u001b[0m\u001b[0m\n\u001b[0m\u001b[0;32m    504\u001b[0m             \u001b[1;32mif\u001b[0m \u001b[0mresult\u001b[0m \u001b[1;32mis\u001b[0m \u001b[1;32mnot\u001b[0m \u001b[1;32mNone\u001b[0m\u001b[1;33m:\u001b[0m\u001b[1;33m\u001b[0m\u001b[0m\n\u001b[0;32m    505\u001b[0m                 \u001b[1;32mreturn\u001b[0m \u001b[0mresult\u001b[0m\u001b[1;33m\u001b[0m\u001b[0m\n",
      "\u001b[1;32mC:\\Anaconda3\\lib\\urllib\\request.py\u001b[0m in \u001b[0;36mhttp_error_302\u001b[1;34m(self, req, fp, code, msg, headers)\u001b[0m\n\u001b[0;32m    753\u001b[0m         \u001b[0mfp\u001b[0m\u001b[1;33m.\u001b[0m\u001b[0mclose\u001b[0m\u001b[1;33m(\u001b[0m\u001b[1;33m)\u001b[0m\u001b[1;33m\u001b[0m\u001b[0m\n\u001b[0;32m    754\u001b[0m \u001b[1;33m\u001b[0m\u001b[0m\n\u001b[1;32m--> 755\u001b[1;33m         \u001b[1;32mreturn\u001b[0m \u001b[0mself\u001b[0m\u001b[1;33m.\u001b[0m\u001b[0mparent\u001b[0m\u001b[1;33m.\u001b[0m\u001b[0mopen\u001b[0m\u001b[1;33m(\u001b[0m\u001b[0mnew\u001b[0m\u001b[1;33m,\u001b[0m \u001b[0mtimeout\u001b[0m\u001b[1;33m=\u001b[0m\u001b[0mreq\u001b[0m\u001b[1;33m.\u001b[0m\u001b[0mtimeout\u001b[0m\u001b[1;33m)\u001b[0m\u001b[1;33m\u001b[0m\u001b[0m\n\u001b[0m\u001b[0;32m    756\u001b[0m \u001b[1;33m\u001b[0m\u001b[0m\n\u001b[0;32m    757\u001b[0m     \u001b[0mhttp_error_301\u001b[0m \u001b[1;33m=\u001b[0m \u001b[0mhttp_error_303\u001b[0m \u001b[1;33m=\u001b[0m \u001b[0mhttp_error_307\u001b[0m \u001b[1;33m=\u001b[0m \u001b[0mhttp_error_302\u001b[0m\u001b[1;33m\u001b[0m\u001b[0m\n",
      "\u001b[1;32mC:\\Anaconda3\\lib\\urllib\\request.py\u001b[0m in \u001b[0;36mopen\u001b[1;34m(self, fullurl, data, timeout)\u001b[0m\n\u001b[0;32m    529\u001b[0m         \u001b[1;32mfor\u001b[0m \u001b[0mprocessor\u001b[0m \u001b[1;32min\u001b[0m \u001b[0mself\u001b[0m\u001b[1;33m.\u001b[0m\u001b[0mprocess_response\u001b[0m\u001b[1;33m.\u001b[0m\u001b[0mget\u001b[0m\u001b[1;33m(\u001b[0m\u001b[0mprotocol\u001b[0m\u001b[1;33m,\u001b[0m \u001b[1;33m[\u001b[0m\u001b[1;33m]\u001b[0m\u001b[1;33m)\u001b[0m\u001b[1;33m:\u001b[0m\u001b[1;33m\u001b[0m\u001b[0m\n\u001b[0;32m    530\u001b[0m             \u001b[0mmeth\u001b[0m \u001b[1;33m=\u001b[0m \u001b[0mgetattr\u001b[0m\u001b[1;33m(\u001b[0m\u001b[0mprocessor\u001b[0m\u001b[1;33m,\u001b[0m \u001b[0mmeth_name\u001b[0m\u001b[1;33m)\u001b[0m\u001b[1;33m\u001b[0m\u001b[0m\n\u001b[1;32m--> 531\u001b[1;33m             \u001b[0mresponse\u001b[0m \u001b[1;33m=\u001b[0m \u001b[0mmeth\u001b[0m\u001b[1;33m(\u001b[0m\u001b[0mreq\u001b[0m\u001b[1;33m,\u001b[0m \u001b[0mresponse\u001b[0m\u001b[1;33m)\u001b[0m\u001b[1;33m\u001b[0m\u001b[0m\n\u001b[0m\u001b[0;32m    532\u001b[0m \u001b[1;33m\u001b[0m\u001b[0m\n\u001b[0;32m    533\u001b[0m         \u001b[1;32mreturn\u001b[0m \u001b[0mresponse\u001b[0m\u001b[1;33m\u001b[0m\u001b[0m\n",
      "\u001b[1;32mC:\\Anaconda3\\lib\\urllib\\request.py\u001b[0m in \u001b[0;36mhttp_response\u001b[1;34m(self, request, response)\u001b[0m\n\u001b[0;32m    639\u001b[0m         \u001b[1;32mif\u001b[0m \u001b[1;32mnot\u001b[0m \u001b[1;33m(\u001b[0m\u001b[1;36m200\u001b[0m \u001b[1;33m<=\u001b[0m \u001b[0mcode\u001b[0m \u001b[1;33m<\u001b[0m \u001b[1;36m300\u001b[0m\u001b[1;33m)\u001b[0m\u001b[1;33m:\u001b[0m\u001b[1;33m\u001b[0m\u001b[0m\n\u001b[0;32m    640\u001b[0m             response = self.parent.error(\n\u001b[1;32m--> 641\u001b[1;33m                 'http', request, response, code, msg, hdrs)\n\u001b[0m\u001b[0;32m    642\u001b[0m \u001b[1;33m\u001b[0m\u001b[0m\n\u001b[0;32m    643\u001b[0m         \u001b[1;32mreturn\u001b[0m \u001b[0mresponse\u001b[0m\u001b[1;33m\u001b[0m\u001b[0m\n",
      "\u001b[1;32mC:\\Anaconda3\\lib\\urllib\\request.py\u001b[0m in \u001b[0;36merror\u001b[1;34m(self, proto, *args)\u001b[0m\n\u001b[0;32m    561\u001b[0m             \u001b[0mhttp_err\u001b[0m \u001b[1;33m=\u001b[0m \u001b[1;36m0\u001b[0m\u001b[1;33m\u001b[0m\u001b[0m\n\u001b[0;32m    562\u001b[0m         \u001b[0margs\u001b[0m \u001b[1;33m=\u001b[0m \u001b[1;33m(\u001b[0m\u001b[0mdict\u001b[0m\u001b[1;33m,\u001b[0m \u001b[0mproto\u001b[0m\u001b[1;33m,\u001b[0m \u001b[0mmeth_name\u001b[0m\u001b[1;33m)\u001b[0m \u001b[1;33m+\u001b[0m \u001b[0margs\u001b[0m\u001b[1;33m\u001b[0m\u001b[0m\n\u001b[1;32m--> 563\u001b[1;33m         \u001b[0mresult\u001b[0m \u001b[1;33m=\u001b[0m \u001b[0mself\u001b[0m\u001b[1;33m.\u001b[0m\u001b[0m_call_chain\u001b[0m\u001b[1;33m(\u001b[0m\u001b[1;33m*\u001b[0m\u001b[0margs\u001b[0m\u001b[1;33m)\u001b[0m\u001b[1;33m\u001b[0m\u001b[0m\n\u001b[0m\u001b[0;32m    564\u001b[0m         \u001b[1;32mif\u001b[0m \u001b[0mresult\u001b[0m\u001b[1;33m:\u001b[0m\u001b[1;33m\u001b[0m\u001b[0m\n\u001b[0;32m    565\u001b[0m             \u001b[1;32mreturn\u001b[0m \u001b[0mresult\u001b[0m\u001b[1;33m\u001b[0m\u001b[0m\n",
      "\u001b[1;32mC:\\Anaconda3\\lib\\urllib\\request.py\u001b[0m in \u001b[0;36m_call_chain\u001b[1;34m(self, chain, kind, meth_name, *args)\u001b[0m\n\u001b[0;32m    501\u001b[0m         \u001b[1;32mfor\u001b[0m \u001b[0mhandler\u001b[0m \u001b[1;32min\u001b[0m \u001b[0mhandlers\u001b[0m\u001b[1;33m:\u001b[0m\u001b[1;33m\u001b[0m\u001b[0m\n\u001b[0;32m    502\u001b[0m             \u001b[0mfunc\u001b[0m \u001b[1;33m=\u001b[0m \u001b[0mgetattr\u001b[0m\u001b[1;33m(\u001b[0m\u001b[0mhandler\u001b[0m\u001b[1;33m,\u001b[0m \u001b[0mmeth_name\u001b[0m\u001b[1;33m)\u001b[0m\u001b[1;33m\u001b[0m\u001b[0m\n\u001b[1;32m--> 503\u001b[1;33m             \u001b[0mresult\u001b[0m \u001b[1;33m=\u001b[0m \u001b[0mfunc\u001b[0m\u001b[1;33m(\u001b[0m\u001b[1;33m*\u001b[0m\u001b[0margs\u001b[0m\u001b[1;33m)\u001b[0m\u001b[1;33m\u001b[0m\u001b[0m\n\u001b[0m\u001b[0;32m    504\u001b[0m             \u001b[1;32mif\u001b[0m \u001b[0mresult\u001b[0m \u001b[1;32mis\u001b[0m \u001b[1;32mnot\u001b[0m \u001b[1;32mNone\u001b[0m\u001b[1;33m:\u001b[0m\u001b[1;33m\u001b[0m\u001b[0m\n\u001b[0;32m    505\u001b[0m                 \u001b[1;32mreturn\u001b[0m \u001b[0mresult\u001b[0m\u001b[1;33m\u001b[0m\u001b[0m\n",
      "\u001b[1;32mC:\\Anaconda3\\lib\\urllib\\request.py\u001b[0m in \u001b[0;36mhttp_error_302\u001b[1;34m(self, req, fp, code, msg, headers)\u001b[0m\n\u001b[0;32m    753\u001b[0m         \u001b[0mfp\u001b[0m\u001b[1;33m.\u001b[0m\u001b[0mclose\u001b[0m\u001b[1;33m(\u001b[0m\u001b[1;33m)\u001b[0m\u001b[1;33m\u001b[0m\u001b[0m\n\u001b[0;32m    754\u001b[0m \u001b[1;33m\u001b[0m\u001b[0m\n\u001b[1;32m--> 755\u001b[1;33m         \u001b[1;32mreturn\u001b[0m \u001b[0mself\u001b[0m\u001b[1;33m.\u001b[0m\u001b[0mparent\u001b[0m\u001b[1;33m.\u001b[0m\u001b[0mopen\u001b[0m\u001b[1;33m(\u001b[0m\u001b[0mnew\u001b[0m\u001b[1;33m,\u001b[0m \u001b[0mtimeout\u001b[0m\u001b[1;33m=\u001b[0m\u001b[0mreq\u001b[0m\u001b[1;33m.\u001b[0m\u001b[0mtimeout\u001b[0m\u001b[1;33m)\u001b[0m\u001b[1;33m\u001b[0m\u001b[0m\n\u001b[0m\u001b[0;32m    756\u001b[0m \u001b[1;33m\u001b[0m\u001b[0m\n\u001b[0;32m    757\u001b[0m     \u001b[0mhttp_error_301\u001b[0m \u001b[1;33m=\u001b[0m \u001b[0mhttp_error_303\u001b[0m \u001b[1;33m=\u001b[0m \u001b[0mhttp_error_307\u001b[0m \u001b[1;33m=\u001b[0m \u001b[0mhttp_error_302\u001b[0m\u001b[1;33m\u001b[0m\u001b[0m\n",
      "\u001b[1;32mC:\\Anaconda3\\lib\\urllib\\request.py\u001b[0m in \u001b[0;36mopen\u001b[1;34m(self, fullurl, data, timeout)\u001b[0m\n\u001b[0;32m    529\u001b[0m         \u001b[1;32mfor\u001b[0m \u001b[0mprocessor\u001b[0m \u001b[1;32min\u001b[0m \u001b[0mself\u001b[0m\u001b[1;33m.\u001b[0m\u001b[0mprocess_response\u001b[0m\u001b[1;33m.\u001b[0m\u001b[0mget\u001b[0m\u001b[1;33m(\u001b[0m\u001b[0mprotocol\u001b[0m\u001b[1;33m,\u001b[0m \u001b[1;33m[\u001b[0m\u001b[1;33m]\u001b[0m\u001b[1;33m)\u001b[0m\u001b[1;33m:\u001b[0m\u001b[1;33m\u001b[0m\u001b[0m\n\u001b[0;32m    530\u001b[0m             \u001b[0mmeth\u001b[0m \u001b[1;33m=\u001b[0m \u001b[0mgetattr\u001b[0m\u001b[1;33m(\u001b[0m\u001b[0mprocessor\u001b[0m\u001b[1;33m,\u001b[0m \u001b[0mmeth_name\u001b[0m\u001b[1;33m)\u001b[0m\u001b[1;33m\u001b[0m\u001b[0m\n\u001b[1;32m--> 531\u001b[1;33m             \u001b[0mresponse\u001b[0m \u001b[1;33m=\u001b[0m \u001b[0mmeth\u001b[0m\u001b[1;33m(\u001b[0m\u001b[0mreq\u001b[0m\u001b[1;33m,\u001b[0m \u001b[0mresponse\u001b[0m\u001b[1;33m)\u001b[0m\u001b[1;33m\u001b[0m\u001b[0m\n\u001b[0m\u001b[0;32m    532\u001b[0m \u001b[1;33m\u001b[0m\u001b[0m\n\u001b[0;32m    533\u001b[0m         \u001b[1;32mreturn\u001b[0m \u001b[0mresponse\u001b[0m\u001b[1;33m\u001b[0m\u001b[0m\n",
      "\u001b[1;32mC:\\Anaconda3\\lib\\urllib\\request.py\u001b[0m in \u001b[0;36mhttp_response\u001b[1;34m(self, request, response)\u001b[0m\n\u001b[0;32m    639\u001b[0m         \u001b[1;32mif\u001b[0m \u001b[1;32mnot\u001b[0m \u001b[1;33m(\u001b[0m\u001b[1;36m200\u001b[0m \u001b[1;33m<=\u001b[0m \u001b[0mcode\u001b[0m \u001b[1;33m<\u001b[0m \u001b[1;36m300\u001b[0m\u001b[1;33m)\u001b[0m\u001b[1;33m:\u001b[0m\u001b[1;33m\u001b[0m\u001b[0m\n\u001b[0;32m    640\u001b[0m             response = self.parent.error(\n\u001b[1;32m--> 641\u001b[1;33m                 'http', request, response, code, msg, hdrs)\n\u001b[0m\u001b[0;32m    642\u001b[0m \u001b[1;33m\u001b[0m\u001b[0m\n\u001b[0;32m    643\u001b[0m         \u001b[1;32mreturn\u001b[0m \u001b[0mresponse\u001b[0m\u001b[1;33m\u001b[0m\u001b[0m\n",
      "\u001b[1;32mC:\\Anaconda3\\lib\\urllib\\request.py\u001b[0m in \u001b[0;36merror\u001b[1;34m(self, proto, *args)\u001b[0m\n\u001b[0;32m    561\u001b[0m             \u001b[0mhttp_err\u001b[0m \u001b[1;33m=\u001b[0m \u001b[1;36m0\u001b[0m\u001b[1;33m\u001b[0m\u001b[0m\n\u001b[0;32m    562\u001b[0m         \u001b[0margs\u001b[0m \u001b[1;33m=\u001b[0m \u001b[1;33m(\u001b[0m\u001b[0mdict\u001b[0m\u001b[1;33m,\u001b[0m \u001b[0mproto\u001b[0m\u001b[1;33m,\u001b[0m \u001b[0mmeth_name\u001b[0m\u001b[1;33m)\u001b[0m \u001b[1;33m+\u001b[0m \u001b[0margs\u001b[0m\u001b[1;33m\u001b[0m\u001b[0m\n\u001b[1;32m--> 563\u001b[1;33m         \u001b[0mresult\u001b[0m \u001b[1;33m=\u001b[0m \u001b[0mself\u001b[0m\u001b[1;33m.\u001b[0m\u001b[0m_call_chain\u001b[0m\u001b[1;33m(\u001b[0m\u001b[1;33m*\u001b[0m\u001b[0margs\u001b[0m\u001b[1;33m)\u001b[0m\u001b[1;33m\u001b[0m\u001b[0m\n\u001b[0m\u001b[0;32m    564\u001b[0m         \u001b[1;32mif\u001b[0m \u001b[0mresult\u001b[0m\u001b[1;33m:\u001b[0m\u001b[1;33m\u001b[0m\u001b[0m\n\u001b[0;32m    565\u001b[0m             \u001b[1;32mreturn\u001b[0m \u001b[0mresult\u001b[0m\u001b[1;33m\u001b[0m\u001b[0m\n",
      "\u001b[1;32mC:\\Anaconda3\\lib\\urllib\\request.py\u001b[0m in \u001b[0;36m_call_chain\u001b[1;34m(self, chain, kind, meth_name, *args)\u001b[0m\n\u001b[0;32m    501\u001b[0m         \u001b[1;32mfor\u001b[0m \u001b[0mhandler\u001b[0m \u001b[1;32min\u001b[0m \u001b[0mhandlers\u001b[0m\u001b[1;33m:\u001b[0m\u001b[1;33m\u001b[0m\u001b[0m\n\u001b[0;32m    502\u001b[0m             \u001b[0mfunc\u001b[0m \u001b[1;33m=\u001b[0m \u001b[0mgetattr\u001b[0m\u001b[1;33m(\u001b[0m\u001b[0mhandler\u001b[0m\u001b[1;33m,\u001b[0m \u001b[0mmeth_name\u001b[0m\u001b[1;33m)\u001b[0m\u001b[1;33m\u001b[0m\u001b[0m\n\u001b[1;32m--> 503\u001b[1;33m             \u001b[0mresult\u001b[0m \u001b[1;33m=\u001b[0m \u001b[0mfunc\u001b[0m\u001b[1;33m(\u001b[0m\u001b[1;33m*\u001b[0m\u001b[0margs\u001b[0m\u001b[1;33m)\u001b[0m\u001b[1;33m\u001b[0m\u001b[0m\n\u001b[0m\u001b[0;32m    504\u001b[0m             \u001b[1;32mif\u001b[0m \u001b[0mresult\u001b[0m \u001b[1;32mis\u001b[0m \u001b[1;32mnot\u001b[0m \u001b[1;32mNone\u001b[0m\u001b[1;33m:\u001b[0m\u001b[1;33m\u001b[0m\u001b[0m\n\u001b[0;32m    505\u001b[0m                 \u001b[1;32mreturn\u001b[0m \u001b[0mresult\u001b[0m\u001b[1;33m\u001b[0m\u001b[0m\n",
      "\u001b[1;32mC:\\Anaconda3\\lib\\urllib\\request.py\u001b[0m in \u001b[0;36mhttp_error_302\u001b[1;34m(self, req, fp, code, msg, headers)\u001b[0m\n\u001b[0;32m    753\u001b[0m         \u001b[0mfp\u001b[0m\u001b[1;33m.\u001b[0m\u001b[0mclose\u001b[0m\u001b[1;33m(\u001b[0m\u001b[1;33m)\u001b[0m\u001b[1;33m\u001b[0m\u001b[0m\n\u001b[0;32m    754\u001b[0m \u001b[1;33m\u001b[0m\u001b[0m\n\u001b[1;32m--> 755\u001b[1;33m         \u001b[1;32mreturn\u001b[0m \u001b[0mself\u001b[0m\u001b[1;33m.\u001b[0m\u001b[0mparent\u001b[0m\u001b[1;33m.\u001b[0m\u001b[0mopen\u001b[0m\u001b[1;33m(\u001b[0m\u001b[0mnew\u001b[0m\u001b[1;33m,\u001b[0m \u001b[0mtimeout\u001b[0m\u001b[1;33m=\u001b[0m\u001b[0mreq\u001b[0m\u001b[1;33m.\u001b[0m\u001b[0mtimeout\u001b[0m\u001b[1;33m)\u001b[0m\u001b[1;33m\u001b[0m\u001b[0m\n\u001b[0m\u001b[0;32m    756\u001b[0m \u001b[1;33m\u001b[0m\u001b[0m\n\u001b[0;32m    757\u001b[0m     \u001b[0mhttp_error_301\u001b[0m \u001b[1;33m=\u001b[0m \u001b[0mhttp_error_303\u001b[0m \u001b[1;33m=\u001b[0m \u001b[0mhttp_error_307\u001b[0m \u001b[1;33m=\u001b[0m \u001b[0mhttp_error_302\u001b[0m\u001b[1;33m\u001b[0m\u001b[0m\n",
      "\u001b[1;32mC:\\Anaconda3\\lib\\urllib\\request.py\u001b[0m in \u001b[0;36mopen\u001b[1;34m(self, fullurl, data, timeout)\u001b[0m\n\u001b[0;32m    529\u001b[0m         \u001b[1;32mfor\u001b[0m \u001b[0mprocessor\u001b[0m \u001b[1;32min\u001b[0m \u001b[0mself\u001b[0m\u001b[1;33m.\u001b[0m\u001b[0mprocess_response\u001b[0m\u001b[1;33m.\u001b[0m\u001b[0mget\u001b[0m\u001b[1;33m(\u001b[0m\u001b[0mprotocol\u001b[0m\u001b[1;33m,\u001b[0m \u001b[1;33m[\u001b[0m\u001b[1;33m]\u001b[0m\u001b[1;33m)\u001b[0m\u001b[1;33m:\u001b[0m\u001b[1;33m\u001b[0m\u001b[0m\n\u001b[0;32m    530\u001b[0m             \u001b[0mmeth\u001b[0m \u001b[1;33m=\u001b[0m \u001b[0mgetattr\u001b[0m\u001b[1;33m(\u001b[0m\u001b[0mprocessor\u001b[0m\u001b[1;33m,\u001b[0m \u001b[0mmeth_name\u001b[0m\u001b[1;33m)\u001b[0m\u001b[1;33m\u001b[0m\u001b[0m\n\u001b[1;32m--> 531\u001b[1;33m             \u001b[0mresponse\u001b[0m \u001b[1;33m=\u001b[0m \u001b[0mmeth\u001b[0m\u001b[1;33m(\u001b[0m\u001b[0mreq\u001b[0m\u001b[1;33m,\u001b[0m \u001b[0mresponse\u001b[0m\u001b[1;33m)\u001b[0m\u001b[1;33m\u001b[0m\u001b[0m\n\u001b[0m\u001b[0;32m    532\u001b[0m \u001b[1;33m\u001b[0m\u001b[0m\n\u001b[0;32m    533\u001b[0m         \u001b[1;32mreturn\u001b[0m \u001b[0mresponse\u001b[0m\u001b[1;33m\u001b[0m\u001b[0m\n",
      "\u001b[1;32mC:\\Anaconda3\\lib\\urllib\\request.py\u001b[0m in \u001b[0;36mhttp_response\u001b[1;34m(self, request, response)\u001b[0m\n\u001b[0;32m    639\u001b[0m         \u001b[1;32mif\u001b[0m \u001b[1;32mnot\u001b[0m \u001b[1;33m(\u001b[0m\u001b[1;36m200\u001b[0m \u001b[1;33m<=\u001b[0m \u001b[0mcode\u001b[0m \u001b[1;33m<\u001b[0m \u001b[1;36m300\u001b[0m\u001b[1;33m)\u001b[0m\u001b[1;33m:\u001b[0m\u001b[1;33m\u001b[0m\u001b[0m\n\u001b[0;32m    640\u001b[0m             response = self.parent.error(\n\u001b[1;32m--> 641\u001b[1;33m                 'http', request, response, code, msg, hdrs)\n\u001b[0m\u001b[0;32m    642\u001b[0m \u001b[1;33m\u001b[0m\u001b[0m\n\u001b[0;32m    643\u001b[0m         \u001b[1;32mreturn\u001b[0m \u001b[0mresponse\u001b[0m\u001b[1;33m\u001b[0m\u001b[0m\n",
      "\u001b[1;32mC:\\Anaconda3\\lib\\urllib\\request.py\u001b[0m in \u001b[0;36merror\u001b[1;34m(self, proto, *args)\u001b[0m\n\u001b[0;32m    561\u001b[0m             \u001b[0mhttp_err\u001b[0m \u001b[1;33m=\u001b[0m \u001b[1;36m0\u001b[0m\u001b[1;33m\u001b[0m\u001b[0m\n\u001b[0;32m    562\u001b[0m         \u001b[0margs\u001b[0m \u001b[1;33m=\u001b[0m \u001b[1;33m(\u001b[0m\u001b[0mdict\u001b[0m\u001b[1;33m,\u001b[0m \u001b[0mproto\u001b[0m\u001b[1;33m,\u001b[0m \u001b[0mmeth_name\u001b[0m\u001b[1;33m)\u001b[0m \u001b[1;33m+\u001b[0m \u001b[0margs\u001b[0m\u001b[1;33m\u001b[0m\u001b[0m\n\u001b[1;32m--> 563\u001b[1;33m         \u001b[0mresult\u001b[0m \u001b[1;33m=\u001b[0m \u001b[0mself\u001b[0m\u001b[1;33m.\u001b[0m\u001b[0m_call_chain\u001b[0m\u001b[1;33m(\u001b[0m\u001b[1;33m*\u001b[0m\u001b[0margs\u001b[0m\u001b[1;33m)\u001b[0m\u001b[1;33m\u001b[0m\u001b[0m\n\u001b[0m\u001b[0;32m    564\u001b[0m         \u001b[1;32mif\u001b[0m \u001b[0mresult\u001b[0m\u001b[1;33m:\u001b[0m\u001b[1;33m\u001b[0m\u001b[0m\n\u001b[0;32m    565\u001b[0m             \u001b[1;32mreturn\u001b[0m \u001b[0mresult\u001b[0m\u001b[1;33m\u001b[0m\u001b[0m\n",
      "\u001b[1;32mC:\\Anaconda3\\lib\\urllib\\request.py\u001b[0m in \u001b[0;36m_call_chain\u001b[1;34m(self, chain, kind, meth_name, *args)\u001b[0m\n\u001b[0;32m    501\u001b[0m         \u001b[1;32mfor\u001b[0m \u001b[0mhandler\u001b[0m \u001b[1;32min\u001b[0m \u001b[0mhandlers\u001b[0m\u001b[1;33m:\u001b[0m\u001b[1;33m\u001b[0m\u001b[0m\n\u001b[0;32m    502\u001b[0m             \u001b[0mfunc\u001b[0m \u001b[1;33m=\u001b[0m \u001b[0mgetattr\u001b[0m\u001b[1;33m(\u001b[0m\u001b[0mhandler\u001b[0m\u001b[1;33m,\u001b[0m \u001b[0mmeth_name\u001b[0m\u001b[1;33m)\u001b[0m\u001b[1;33m\u001b[0m\u001b[0m\n\u001b[1;32m--> 503\u001b[1;33m             \u001b[0mresult\u001b[0m \u001b[1;33m=\u001b[0m \u001b[0mfunc\u001b[0m\u001b[1;33m(\u001b[0m\u001b[1;33m*\u001b[0m\u001b[0margs\u001b[0m\u001b[1;33m)\u001b[0m\u001b[1;33m\u001b[0m\u001b[0m\n\u001b[0m\u001b[0;32m    504\u001b[0m             \u001b[1;32mif\u001b[0m \u001b[0mresult\u001b[0m \u001b[1;32mis\u001b[0m \u001b[1;32mnot\u001b[0m \u001b[1;32mNone\u001b[0m\u001b[1;33m:\u001b[0m\u001b[1;33m\u001b[0m\u001b[0m\n\u001b[0;32m    505\u001b[0m                 \u001b[1;32mreturn\u001b[0m \u001b[0mresult\u001b[0m\u001b[1;33m\u001b[0m\u001b[0m\n",
      "\u001b[1;32mC:\\Anaconda3\\lib\\urllib\\request.py\u001b[0m in \u001b[0;36mhttp_error_302\u001b[1;34m(self, req, fp, code, msg, headers)\u001b[0m\n\u001b[0;32m    753\u001b[0m         \u001b[0mfp\u001b[0m\u001b[1;33m.\u001b[0m\u001b[0mclose\u001b[0m\u001b[1;33m(\u001b[0m\u001b[1;33m)\u001b[0m\u001b[1;33m\u001b[0m\u001b[0m\n\u001b[0;32m    754\u001b[0m \u001b[1;33m\u001b[0m\u001b[0m\n\u001b[1;32m--> 755\u001b[1;33m         \u001b[1;32mreturn\u001b[0m \u001b[0mself\u001b[0m\u001b[1;33m.\u001b[0m\u001b[0mparent\u001b[0m\u001b[1;33m.\u001b[0m\u001b[0mopen\u001b[0m\u001b[1;33m(\u001b[0m\u001b[0mnew\u001b[0m\u001b[1;33m,\u001b[0m \u001b[0mtimeout\u001b[0m\u001b[1;33m=\u001b[0m\u001b[0mreq\u001b[0m\u001b[1;33m.\u001b[0m\u001b[0mtimeout\u001b[0m\u001b[1;33m)\u001b[0m\u001b[1;33m\u001b[0m\u001b[0m\n\u001b[0m\u001b[0;32m    756\u001b[0m \u001b[1;33m\u001b[0m\u001b[0m\n\u001b[0;32m    757\u001b[0m     \u001b[0mhttp_error_301\u001b[0m \u001b[1;33m=\u001b[0m \u001b[0mhttp_error_303\u001b[0m \u001b[1;33m=\u001b[0m \u001b[0mhttp_error_307\u001b[0m \u001b[1;33m=\u001b[0m \u001b[0mhttp_error_302\u001b[0m\u001b[1;33m\u001b[0m\u001b[0m\n",
      "\u001b[1;32mC:\\Anaconda3\\lib\\urllib\\request.py\u001b[0m in \u001b[0;36mopen\u001b[1;34m(self, fullurl, data, timeout)\u001b[0m\n\u001b[0;32m    529\u001b[0m         \u001b[1;32mfor\u001b[0m \u001b[0mprocessor\u001b[0m \u001b[1;32min\u001b[0m \u001b[0mself\u001b[0m\u001b[1;33m.\u001b[0m\u001b[0mprocess_response\u001b[0m\u001b[1;33m.\u001b[0m\u001b[0mget\u001b[0m\u001b[1;33m(\u001b[0m\u001b[0mprotocol\u001b[0m\u001b[1;33m,\u001b[0m \u001b[1;33m[\u001b[0m\u001b[1;33m]\u001b[0m\u001b[1;33m)\u001b[0m\u001b[1;33m:\u001b[0m\u001b[1;33m\u001b[0m\u001b[0m\n\u001b[0;32m    530\u001b[0m             \u001b[0mmeth\u001b[0m \u001b[1;33m=\u001b[0m \u001b[0mgetattr\u001b[0m\u001b[1;33m(\u001b[0m\u001b[0mprocessor\u001b[0m\u001b[1;33m,\u001b[0m \u001b[0mmeth_name\u001b[0m\u001b[1;33m)\u001b[0m\u001b[1;33m\u001b[0m\u001b[0m\n\u001b[1;32m--> 531\u001b[1;33m             \u001b[0mresponse\u001b[0m \u001b[1;33m=\u001b[0m \u001b[0mmeth\u001b[0m\u001b[1;33m(\u001b[0m\u001b[0mreq\u001b[0m\u001b[1;33m,\u001b[0m \u001b[0mresponse\u001b[0m\u001b[1;33m)\u001b[0m\u001b[1;33m\u001b[0m\u001b[0m\n\u001b[0m\u001b[0;32m    532\u001b[0m \u001b[1;33m\u001b[0m\u001b[0m\n\u001b[0;32m    533\u001b[0m         \u001b[1;32mreturn\u001b[0m \u001b[0mresponse\u001b[0m\u001b[1;33m\u001b[0m\u001b[0m\n",
      "\u001b[1;32mC:\\Anaconda3\\lib\\urllib\\request.py\u001b[0m in \u001b[0;36mhttp_response\u001b[1;34m(self, request, response)\u001b[0m\n\u001b[0;32m    639\u001b[0m         \u001b[1;32mif\u001b[0m \u001b[1;32mnot\u001b[0m \u001b[1;33m(\u001b[0m\u001b[1;36m200\u001b[0m \u001b[1;33m<=\u001b[0m \u001b[0mcode\u001b[0m \u001b[1;33m<\u001b[0m \u001b[1;36m300\u001b[0m\u001b[1;33m)\u001b[0m\u001b[1;33m:\u001b[0m\u001b[1;33m\u001b[0m\u001b[0m\n\u001b[0;32m    640\u001b[0m             response = self.parent.error(\n\u001b[1;32m--> 641\u001b[1;33m                 'http', request, response, code, msg, hdrs)\n\u001b[0m\u001b[0;32m    642\u001b[0m \u001b[1;33m\u001b[0m\u001b[0m\n\u001b[0;32m    643\u001b[0m         \u001b[1;32mreturn\u001b[0m \u001b[0mresponse\u001b[0m\u001b[1;33m\u001b[0m\u001b[0m\n",
      "\u001b[1;32mC:\\Anaconda3\\lib\\urllib\\request.py\u001b[0m in \u001b[0;36merror\u001b[1;34m(self, proto, *args)\u001b[0m\n\u001b[0;32m    561\u001b[0m             \u001b[0mhttp_err\u001b[0m \u001b[1;33m=\u001b[0m \u001b[1;36m0\u001b[0m\u001b[1;33m\u001b[0m\u001b[0m\n\u001b[0;32m    562\u001b[0m         \u001b[0margs\u001b[0m \u001b[1;33m=\u001b[0m \u001b[1;33m(\u001b[0m\u001b[0mdict\u001b[0m\u001b[1;33m,\u001b[0m \u001b[0mproto\u001b[0m\u001b[1;33m,\u001b[0m \u001b[0mmeth_name\u001b[0m\u001b[1;33m)\u001b[0m \u001b[1;33m+\u001b[0m \u001b[0margs\u001b[0m\u001b[1;33m\u001b[0m\u001b[0m\n\u001b[1;32m--> 563\u001b[1;33m         \u001b[0mresult\u001b[0m \u001b[1;33m=\u001b[0m \u001b[0mself\u001b[0m\u001b[1;33m.\u001b[0m\u001b[0m_call_chain\u001b[0m\u001b[1;33m(\u001b[0m\u001b[1;33m*\u001b[0m\u001b[0margs\u001b[0m\u001b[1;33m)\u001b[0m\u001b[1;33m\u001b[0m\u001b[0m\n\u001b[0m\u001b[0;32m    564\u001b[0m         \u001b[1;32mif\u001b[0m \u001b[0mresult\u001b[0m\u001b[1;33m:\u001b[0m\u001b[1;33m\u001b[0m\u001b[0m\n\u001b[0;32m    565\u001b[0m             \u001b[1;32mreturn\u001b[0m \u001b[0mresult\u001b[0m\u001b[1;33m\u001b[0m\u001b[0m\n",
      "\u001b[1;32mC:\\Anaconda3\\lib\\urllib\\request.py\u001b[0m in \u001b[0;36m_call_chain\u001b[1;34m(self, chain, kind, meth_name, *args)\u001b[0m\n\u001b[0;32m    501\u001b[0m         \u001b[1;32mfor\u001b[0m \u001b[0mhandler\u001b[0m \u001b[1;32min\u001b[0m \u001b[0mhandlers\u001b[0m\u001b[1;33m:\u001b[0m\u001b[1;33m\u001b[0m\u001b[0m\n\u001b[0;32m    502\u001b[0m             \u001b[0mfunc\u001b[0m \u001b[1;33m=\u001b[0m \u001b[0mgetattr\u001b[0m\u001b[1;33m(\u001b[0m\u001b[0mhandler\u001b[0m\u001b[1;33m,\u001b[0m \u001b[0mmeth_name\u001b[0m\u001b[1;33m)\u001b[0m\u001b[1;33m\u001b[0m\u001b[0m\n\u001b[1;32m--> 503\u001b[1;33m             \u001b[0mresult\u001b[0m \u001b[1;33m=\u001b[0m \u001b[0mfunc\u001b[0m\u001b[1;33m(\u001b[0m\u001b[1;33m*\u001b[0m\u001b[0margs\u001b[0m\u001b[1;33m)\u001b[0m\u001b[1;33m\u001b[0m\u001b[0m\n\u001b[0m\u001b[0;32m    504\u001b[0m             \u001b[1;32mif\u001b[0m \u001b[0mresult\u001b[0m \u001b[1;32mis\u001b[0m \u001b[1;32mnot\u001b[0m \u001b[1;32mNone\u001b[0m\u001b[1;33m:\u001b[0m\u001b[1;33m\u001b[0m\u001b[0m\n\u001b[0;32m    505\u001b[0m                 \u001b[1;32mreturn\u001b[0m \u001b[0mresult\u001b[0m\u001b[1;33m\u001b[0m\u001b[0m\n",
      "\u001b[1;32mC:\\Anaconda3\\lib\\urllib\\request.py\u001b[0m in \u001b[0;36mhttp_error_302\u001b[1;34m(self, req, fp, code, msg, headers)\u001b[0m\n\u001b[0;32m    753\u001b[0m         \u001b[0mfp\u001b[0m\u001b[1;33m.\u001b[0m\u001b[0mclose\u001b[0m\u001b[1;33m(\u001b[0m\u001b[1;33m)\u001b[0m\u001b[1;33m\u001b[0m\u001b[0m\n\u001b[0;32m    754\u001b[0m \u001b[1;33m\u001b[0m\u001b[0m\n\u001b[1;32m--> 755\u001b[1;33m         \u001b[1;32mreturn\u001b[0m \u001b[0mself\u001b[0m\u001b[1;33m.\u001b[0m\u001b[0mparent\u001b[0m\u001b[1;33m.\u001b[0m\u001b[0mopen\u001b[0m\u001b[1;33m(\u001b[0m\u001b[0mnew\u001b[0m\u001b[1;33m,\u001b[0m \u001b[0mtimeout\u001b[0m\u001b[1;33m=\u001b[0m\u001b[0mreq\u001b[0m\u001b[1;33m.\u001b[0m\u001b[0mtimeout\u001b[0m\u001b[1;33m)\u001b[0m\u001b[1;33m\u001b[0m\u001b[0m\n\u001b[0m\u001b[0;32m    756\u001b[0m \u001b[1;33m\u001b[0m\u001b[0m\n\u001b[0;32m    757\u001b[0m     \u001b[0mhttp_error_301\u001b[0m \u001b[1;33m=\u001b[0m \u001b[0mhttp_error_303\u001b[0m \u001b[1;33m=\u001b[0m \u001b[0mhttp_error_307\u001b[0m \u001b[1;33m=\u001b[0m \u001b[0mhttp_error_302\u001b[0m\u001b[1;33m\u001b[0m\u001b[0m\n",
      "\u001b[1;32mC:\\Anaconda3\\lib\\urllib\\request.py\u001b[0m in \u001b[0;36mopen\u001b[1;34m(self, fullurl, data, timeout)\u001b[0m\n\u001b[0;32m    529\u001b[0m         \u001b[1;32mfor\u001b[0m \u001b[0mprocessor\u001b[0m \u001b[1;32min\u001b[0m \u001b[0mself\u001b[0m\u001b[1;33m.\u001b[0m\u001b[0mprocess_response\u001b[0m\u001b[1;33m.\u001b[0m\u001b[0mget\u001b[0m\u001b[1;33m(\u001b[0m\u001b[0mprotocol\u001b[0m\u001b[1;33m,\u001b[0m \u001b[1;33m[\u001b[0m\u001b[1;33m]\u001b[0m\u001b[1;33m)\u001b[0m\u001b[1;33m:\u001b[0m\u001b[1;33m\u001b[0m\u001b[0m\n\u001b[0;32m    530\u001b[0m             \u001b[0mmeth\u001b[0m \u001b[1;33m=\u001b[0m \u001b[0mgetattr\u001b[0m\u001b[1;33m(\u001b[0m\u001b[0mprocessor\u001b[0m\u001b[1;33m,\u001b[0m \u001b[0mmeth_name\u001b[0m\u001b[1;33m)\u001b[0m\u001b[1;33m\u001b[0m\u001b[0m\n\u001b[1;32m--> 531\u001b[1;33m             \u001b[0mresponse\u001b[0m \u001b[1;33m=\u001b[0m \u001b[0mmeth\u001b[0m\u001b[1;33m(\u001b[0m\u001b[0mreq\u001b[0m\u001b[1;33m,\u001b[0m \u001b[0mresponse\u001b[0m\u001b[1;33m)\u001b[0m\u001b[1;33m\u001b[0m\u001b[0m\n\u001b[0m\u001b[0;32m    532\u001b[0m \u001b[1;33m\u001b[0m\u001b[0m\n\u001b[0;32m    533\u001b[0m         \u001b[1;32mreturn\u001b[0m \u001b[0mresponse\u001b[0m\u001b[1;33m\u001b[0m\u001b[0m\n",
      "\u001b[1;32mC:\\Anaconda3\\lib\\urllib\\request.py\u001b[0m in \u001b[0;36mhttp_response\u001b[1;34m(self, request, response)\u001b[0m\n\u001b[0;32m    639\u001b[0m         \u001b[1;32mif\u001b[0m \u001b[1;32mnot\u001b[0m \u001b[1;33m(\u001b[0m\u001b[1;36m200\u001b[0m \u001b[1;33m<=\u001b[0m \u001b[0mcode\u001b[0m \u001b[1;33m<\u001b[0m \u001b[1;36m300\u001b[0m\u001b[1;33m)\u001b[0m\u001b[1;33m:\u001b[0m\u001b[1;33m\u001b[0m\u001b[0m\n\u001b[0;32m    640\u001b[0m             response = self.parent.error(\n\u001b[1;32m--> 641\u001b[1;33m                 'http', request, response, code, msg, hdrs)\n\u001b[0m\u001b[0;32m    642\u001b[0m \u001b[1;33m\u001b[0m\u001b[0m\n\u001b[0;32m    643\u001b[0m         \u001b[1;32mreturn\u001b[0m \u001b[0mresponse\u001b[0m\u001b[1;33m\u001b[0m\u001b[0m\n",
      "\u001b[1;32mC:\\Anaconda3\\lib\\urllib\\request.py\u001b[0m in \u001b[0;36merror\u001b[1;34m(self, proto, *args)\u001b[0m\n\u001b[0;32m    561\u001b[0m             \u001b[0mhttp_err\u001b[0m \u001b[1;33m=\u001b[0m \u001b[1;36m0\u001b[0m\u001b[1;33m\u001b[0m\u001b[0m\n\u001b[0;32m    562\u001b[0m         \u001b[0margs\u001b[0m \u001b[1;33m=\u001b[0m \u001b[1;33m(\u001b[0m\u001b[0mdict\u001b[0m\u001b[1;33m,\u001b[0m \u001b[0mproto\u001b[0m\u001b[1;33m,\u001b[0m \u001b[0mmeth_name\u001b[0m\u001b[1;33m)\u001b[0m \u001b[1;33m+\u001b[0m \u001b[0margs\u001b[0m\u001b[1;33m\u001b[0m\u001b[0m\n\u001b[1;32m--> 563\u001b[1;33m         \u001b[0mresult\u001b[0m \u001b[1;33m=\u001b[0m \u001b[0mself\u001b[0m\u001b[1;33m.\u001b[0m\u001b[0m_call_chain\u001b[0m\u001b[1;33m(\u001b[0m\u001b[1;33m*\u001b[0m\u001b[0margs\u001b[0m\u001b[1;33m)\u001b[0m\u001b[1;33m\u001b[0m\u001b[0m\n\u001b[0m\u001b[0;32m    564\u001b[0m         \u001b[1;32mif\u001b[0m \u001b[0mresult\u001b[0m\u001b[1;33m:\u001b[0m\u001b[1;33m\u001b[0m\u001b[0m\n\u001b[0;32m    565\u001b[0m             \u001b[1;32mreturn\u001b[0m \u001b[0mresult\u001b[0m\u001b[1;33m\u001b[0m\u001b[0m\n",
      "\u001b[1;32mC:\\Anaconda3\\lib\\urllib\\request.py\u001b[0m in \u001b[0;36m_call_chain\u001b[1;34m(self, chain, kind, meth_name, *args)\u001b[0m\n\u001b[0;32m    501\u001b[0m         \u001b[1;32mfor\u001b[0m \u001b[0mhandler\u001b[0m \u001b[1;32min\u001b[0m \u001b[0mhandlers\u001b[0m\u001b[1;33m:\u001b[0m\u001b[1;33m\u001b[0m\u001b[0m\n\u001b[0;32m    502\u001b[0m             \u001b[0mfunc\u001b[0m \u001b[1;33m=\u001b[0m \u001b[0mgetattr\u001b[0m\u001b[1;33m(\u001b[0m\u001b[0mhandler\u001b[0m\u001b[1;33m,\u001b[0m \u001b[0mmeth_name\u001b[0m\u001b[1;33m)\u001b[0m\u001b[1;33m\u001b[0m\u001b[0m\n\u001b[1;32m--> 503\u001b[1;33m             \u001b[0mresult\u001b[0m \u001b[1;33m=\u001b[0m \u001b[0mfunc\u001b[0m\u001b[1;33m(\u001b[0m\u001b[1;33m*\u001b[0m\u001b[0margs\u001b[0m\u001b[1;33m)\u001b[0m\u001b[1;33m\u001b[0m\u001b[0m\n\u001b[0m\u001b[0;32m    504\u001b[0m             \u001b[1;32mif\u001b[0m \u001b[0mresult\u001b[0m \u001b[1;32mis\u001b[0m \u001b[1;32mnot\u001b[0m \u001b[1;32mNone\u001b[0m\u001b[1;33m:\u001b[0m\u001b[1;33m\u001b[0m\u001b[0m\n\u001b[0;32m    505\u001b[0m                 \u001b[1;32mreturn\u001b[0m \u001b[0mresult\u001b[0m\u001b[1;33m\u001b[0m\u001b[0m\n",
      "\u001b[1;32mC:\\Anaconda3\\lib\\urllib\\request.py\u001b[0m in \u001b[0;36mhttp_error_302\u001b[1;34m(self, req, fp, code, msg, headers)\u001b[0m\n\u001b[0;32m    753\u001b[0m         \u001b[0mfp\u001b[0m\u001b[1;33m.\u001b[0m\u001b[0mclose\u001b[0m\u001b[1;33m(\u001b[0m\u001b[1;33m)\u001b[0m\u001b[1;33m\u001b[0m\u001b[0m\n\u001b[0;32m    754\u001b[0m \u001b[1;33m\u001b[0m\u001b[0m\n\u001b[1;32m--> 755\u001b[1;33m         \u001b[1;32mreturn\u001b[0m \u001b[0mself\u001b[0m\u001b[1;33m.\u001b[0m\u001b[0mparent\u001b[0m\u001b[1;33m.\u001b[0m\u001b[0mopen\u001b[0m\u001b[1;33m(\u001b[0m\u001b[0mnew\u001b[0m\u001b[1;33m,\u001b[0m \u001b[0mtimeout\u001b[0m\u001b[1;33m=\u001b[0m\u001b[0mreq\u001b[0m\u001b[1;33m.\u001b[0m\u001b[0mtimeout\u001b[0m\u001b[1;33m)\u001b[0m\u001b[1;33m\u001b[0m\u001b[0m\n\u001b[0m\u001b[0;32m    756\u001b[0m \u001b[1;33m\u001b[0m\u001b[0m\n\u001b[0;32m    757\u001b[0m     \u001b[0mhttp_error_301\u001b[0m \u001b[1;33m=\u001b[0m \u001b[0mhttp_error_303\u001b[0m \u001b[1;33m=\u001b[0m \u001b[0mhttp_error_307\u001b[0m \u001b[1;33m=\u001b[0m \u001b[0mhttp_error_302\u001b[0m\u001b[1;33m\u001b[0m\u001b[0m\n",
      "\u001b[1;32mC:\\Anaconda3\\lib\\urllib\\request.py\u001b[0m in \u001b[0;36mopen\u001b[1;34m(self, fullurl, data, timeout)\u001b[0m\n\u001b[0;32m    529\u001b[0m         \u001b[1;32mfor\u001b[0m \u001b[0mprocessor\u001b[0m \u001b[1;32min\u001b[0m \u001b[0mself\u001b[0m\u001b[1;33m.\u001b[0m\u001b[0mprocess_response\u001b[0m\u001b[1;33m.\u001b[0m\u001b[0mget\u001b[0m\u001b[1;33m(\u001b[0m\u001b[0mprotocol\u001b[0m\u001b[1;33m,\u001b[0m \u001b[1;33m[\u001b[0m\u001b[1;33m]\u001b[0m\u001b[1;33m)\u001b[0m\u001b[1;33m:\u001b[0m\u001b[1;33m\u001b[0m\u001b[0m\n\u001b[0;32m    530\u001b[0m             \u001b[0mmeth\u001b[0m \u001b[1;33m=\u001b[0m \u001b[0mgetattr\u001b[0m\u001b[1;33m(\u001b[0m\u001b[0mprocessor\u001b[0m\u001b[1;33m,\u001b[0m \u001b[0mmeth_name\u001b[0m\u001b[1;33m)\u001b[0m\u001b[1;33m\u001b[0m\u001b[0m\n\u001b[1;32m--> 531\u001b[1;33m             \u001b[0mresponse\u001b[0m \u001b[1;33m=\u001b[0m \u001b[0mmeth\u001b[0m\u001b[1;33m(\u001b[0m\u001b[0mreq\u001b[0m\u001b[1;33m,\u001b[0m \u001b[0mresponse\u001b[0m\u001b[1;33m)\u001b[0m\u001b[1;33m\u001b[0m\u001b[0m\n\u001b[0m\u001b[0;32m    532\u001b[0m \u001b[1;33m\u001b[0m\u001b[0m\n\u001b[0;32m    533\u001b[0m         \u001b[1;32mreturn\u001b[0m \u001b[0mresponse\u001b[0m\u001b[1;33m\u001b[0m\u001b[0m\n",
      "\u001b[1;32mC:\\Anaconda3\\lib\\urllib\\request.py\u001b[0m in \u001b[0;36mhttp_response\u001b[1;34m(self, request, response)\u001b[0m\n\u001b[0;32m    639\u001b[0m         \u001b[1;32mif\u001b[0m \u001b[1;32mnot\u001b[0m \u001b[1;33m(\u001b[0m\u001b[1;36m200\u001b[0m \u001b[1;33m<=\u001b[0m \u001b[0mcode\u001b[0m \u001b[1;33m<\u001b[0m \u001b[1;36m300\u001b[0m\u001b[1;33m)\u001b[0m\u001b[1;33m:\u001b[0m\u001b[1;33m\u001b[0m\u001b[0m\n\u001b[0;32m    640\u001b[0m             response = self.parent.error(\n\u001b[1;32m--> 641\u001b[1;33m                 'http', request, response, code, msg, hdrs)\n\u001b[0m\u001b[0;32m    642\u001b[0m \u001b[1;33m\u001b[0m\u001b[0m\n\u001b[0;32m    643\u001b[0m         \u001b[1;32mreturn\u001b[0m \u001b[0mresponse\u001b[0m\u001b[1;33m\u001b[0m\u001b[0m\n",
      "\u001b[1;32mC:\\Anaconda3\\lib\\urllib\\request.py\u001b[0m in \u001b[0;36merror\u001b[1;34m(self, proto, *args)\u001b[0m\n\u001b[0;32m    561\u001b[0m             \u001b[0mhttp_err\u001b[0m \u001b[1;33m=\u001b[0m \u001b[1;36m0\u001b[0m\u001b[1;33m\u001b[0m\u001b[0m\n\u001b[0;32m    562\u001b[0m         \u001b[0margs\u001b[0m \u001b[1;33m=\u001b[0m \u001b[1;33m(\u001b[0m\u001b[0mdict\u001b[0m\u001b[1;33m,\u001b[0m \u001b[0mproto\u001b[0m\u001b[1;33m,\u001b[0m \u001b[0mmeth_name\u001b[0m\u001b[1;33m)\u001b[0m \u001b[1;33m+\u001b[0m \u001b[0margs\u001b[0m\u001b[1;33m\u001b[0m\u001b[0m\n\u001b[1;32m--> 563\u001b[1;33m         \u001b[0mresult\u001b[0m \u001b[1;33m=\u001b[0m \u001b[0mself\u001b[0m\u001b[1;33m.\u001b[0m\u001b[0m_call_chain\u001b[0m\u001b[1;33m(\u001b[0m\u001b[1;33m*\u001b[0m\u001b[0margs\u001b[0m\u001b[1;33m)\u001b[0m\u001b[1;33m\u001b[0m\u001b[0m\n\u001b[0m\u001b[0;32m    564\u001b[0m         \u001b[1;32mif\u001b[0m \u001b[0mresult\u001b[0m\u001b[1;33m:\u001b[0m\u001b[1;33m\u001b[0m\u001b[0m\n\u001b[0;32m    565\u001b[0m             \u001b[1;32mreturn\u001b[0m \u001b[0mresult\u001b[0m\u001b[1;33m\u001b[0m\u001b[0m\n",
      "\u001b[1;32mC:\\Anaconda3\\lib\\urllib\\request.py\u001b[0m in \u001b[0;36m_call_chain\u001b[1;34m(self, chain, kind, meth_name, *args)\u001b[0m\n\u001b[0;32m    501\u001b[0m         \u001b[1;32mfor\u001b[0m \u001b[0mhandler\u001b[0m \u001b[1;32min\u001b[0m \u001b[0mhandlers\u001b[0m\u001b[1;33m:\u001b[0m\u001b[1;33m\u001b[0m\u001b[0m\n\u001b[0;32m    502\u001b[0m             \u001b[0mfunc\u001b[0m \u001b[1;33m=\u001b[0m \u001b[0mgetattr\u001b[0m\u001b[1;33m(\u001b[0m\u001b[0mhandler\u001b[0m\u001b[1;33m,\u001b[0m \u001b[0mmeth_name\u001b[0m\u001b[1;33m)\u001b[0m\u001b[1;33m\u001b[0m\u001b[0m\n\u001b[1;32m--> 503\u001b[1;33m             \u001b[0mresult\u001b[0m \u001b[1;33m=\u001b[0m \u001b[0mfunc\u001b[0m\u001b[1;33m(\u001b[0m\u001b[1;33m*\u001b[0m\u001b[0margs\u001b[0m\u001b[1;33m)\u001b[0m\u001b[1;33m\u001b[0m\u001b[0m\n\u001b[0m\u001b[0;32m    504\u001b[0m             \u001b[1;32mif\u001b[0m \u001b[0mresult\u001b[0m \u001b[1;32mis\u001b[0m \u001b[1;32mnot\u001b[0m \u001b[1;32mNone\u001b[0m\u001b[1;33m:\u001b[0m\u001b[1;33m\u001b[0m\u001b[0m\n\u001b[0;32m    505\u001b[0m                 \u001b[1;32mreturn\u001b[0m \u001b[0mresult\u001b[0m\u001b[1;33m\u001b[0m\u001b[0m\n",
      "\u001b[1;32mC:\\Anaconda3\\lib\\urllib\\request.py\u001b[0m in \u001b[0;36mhttp_error_302\u001b[1;34m(self, req, fp, code, msg, headers)\u001b[0m\n\u001b[0;32m    753\u001b[0m         \u001b[0mfp\u001b[0m\u001b[1;33m.\u001b[0m\u001b[0mclose\u001b[0m\u001b[1;33m(\u001b[0m\u001b[1;33m)\u001b[0m\u001b[1;33m\u001b[0m\u001b[0m\n\u001b[0;32m    754\u001b[0m \u001b[1;33m\u001b[0m\u001b[0m\n\u001b[1;32m--> 755\u001b[1;33m         \u001b[1;32mreturn\u001b[0m \u001b[0mself\u001b[0m\u001b[1;33m.\u001b[0m\u001b[0mparent\u001b[0m\u001b[1;33m.\u001b[0m\u001b[0mopen\u001b[0m\u001b[1;33m(\u001b[0m\u001b[0mnew\u001b[0m\u001b[1;33m,\u001b[0m \u001b[0mtimeout\u001b[0m\u001b[1;33m=\u001b[0m\u001b[0mreq\u001b[0m\u001b[1;33m.\u001b[0m\u001b[0mtimeout\u001b[0m\u001b[1;33m)\u001b[0m\u001b[1;33m\u001b[0m\u001b[0m\n\u001b[0m\u001b[0;32m    756\u001b[0m \u001b[1;33m\u001b[0m\u001b[0m\n\u001b[0;32m    757\u001b[0m     \u001b[0mhttp_error_301\u001b[0m \u001b[1;33m=\u001b[0m \u001b[0mhttp_error_303\u001b[0m \u001b[1;33m=\u001b[0m \u001b[0mhttp_error_307\u001b[0m \u001b[1;33m=\u001b[0m \u001b[0mhttp_error_302\u001b[0m\u001b[1;33m\u001b[0m\u001b[0m\n",
      "\u001b[1;32mC:\\Anaconda3\\lib\\urllib\\request.py\u001b[0m in \u001b[0;36mopen\u001b[1;34m(self, fullurl, data, timeout)\u001b[0m\n\u001b[0;32m    529\u001b[0m         \u001b[1;32mfor\u001b[0m \u001b[0mprocessor\u001b[0m \u001b[1;32min\u001b[0m \u001b[0mself\u001b[0m\u001b[1;33m.\u001b[0m\u001b[0mprocess_response\u001b[0m\u001b[1;33m.\u001b[0m\u001b[0mget\u001b[0m\u001b[1;33m(\u001b[0m\u001b[0mprotocol\u001b[0m\u001b[1;33m,\u001b[0m \u001b[1;33m[\u001b[0m\u001b[1;33m]\u001b[0m\u001b[1;33m)\u001b[0m\u001b[1;33m:\u001b[0m\u001b[1;33m\u001b[0m\u001b[0m\n\u001b[0;32m    530\u001b[0m             \u001b[0mmeth\u001b[0m \u001b[1;33m=\u001b[0m \u001b[0mgetattr\u001b[0m\u001b[1;33m(\u001b[0m\u001b[0mprocessor\u001b[0m\u001b[1;33m,\u001b[0m \u001b[0mmeth_name\u001b[0m\u001b[1;33m)\u001b[0m\u001b[1;33m\u001b[0m\u001b[0m\n\u001b[1;32m--> 531\u001b[1;33m             \u001b[0mresponse\u001b[0m \u001b[1;33m=\u001b[0m \u001b[0mmeth\u001b[0m\u001b[1;33m(\u001b[0m\u001b[0mreq\u001b[0m\u001b[1;33m,\u001b[0m \u001b[0mresponse\u001b[0m\u001b[1;33m)\u001b[0m\u001b[1;33m\u001b[0m\u001b[0m\n\u001b[0m\u001b[0;32m    532\u001b[0m \u001b[1;33m\u001b[0m\u001b[0m\n\u001b[0;32m    533\u001b[0m         \u001b[1;32mreturn\u001b[0m \u001b[0mresponse\u001b[0m\u001b[1;33m\u001b[0m\u001b[0m\n",
      "\u001b[1;32mC:\\Anaconda3\\lib\\urllib\\request.py\u001b[0m in \u001b[0;36mhttp_response\u001b[1;34m(self, request, response)\u001b[0m\n\u001b[0;32m    639\u001b[0m         \u001b[1;32mif\u001b[0m \u001b[1;32mnot\u001b[0m \u001b[1;33m(\u001b[0m\u001b[1;36m200\u001b[0m \u001b[1;33m<=\u001b[0m \u001b[0mcode\u001b[0m \u001b[1;33m<\u001b[0m \u001b[1;36m300\u001b[0m\u001b[1;33m)\u001b[0m\u001b[1;33m:\u001b[0m\u001b[1;33m\u001b[0m\u001b[0m\n\u001b[0;32m    640\u001b[0m             response = self.parent.error(\n\u001b[1;32m--> 641\u001b[1;33m                 'http', request, response, code, msg, hdrs)\n\u001b[0m\u001b[0;32m    642\u001b[0m \u001b[1;33m\u001b[0m\u001b[0m\n\u001b[0;32m    643\u001b[0m         \u001b[1;32mreturn\u001b[0m \u001b[0mresponse\u001b[0m\u001b[1;33m\u001b[0m\u001b[0m\n",
      "\u001b[1;32mC:\\Anaconda3\\lib\\urllib\\request.py\u001b[0m in \u001b[0;36merror\u001b[1;34m(self, proto, *args)\u001b[0m\n\u001b[0;32m    561\u001b[0m             \u001b[0mhttp_err\u001b[0m \u001b[1;33m=\u001b[0m \u001b[1;36m0\u001b[0m\u001b[1;33m\u001b[0m\u001b[0m\n\u001b[0;32m    562\u001b[0m         \u001b[0margs\u001b[0m \u001b[1;33m=\u001b[0m \u001b[1;33m(\u001b[0m\u001b[0mdict\u001b[0m\u001b[1;33m,\u001b[0m \u001b[0mproto\u001b[0m\u001b[1;33m,\u001b[0m \u001b[0mmeth_name\u001b[0m\u001b[1;33m)\u001b[0m \u001b[1;33m+\u001b[0m \u001b[0margs\u001b[0m\u001b[1;33m\u001b[0m\u001b[0m\n\u001b[1;32m--> 563\u001b[1;33m         \u001b[0mresult\u001b[0m \u001b[1;33m=\u001b[0m \u001b[0mself\u001b[0m\u001b[1;33m.\u001b[0m\u001b[0m_call_chain\u001b[0m\u001b[1;33m(\u001b[0m\u001b[1;33m*\u001b[0m\u001b[0margs\u001b[0m\u001b[1;33m)\u001b[0m\u001b[1;33m\u001b[0m\u001b[0m\n\u001b[0m\u001b[0;32m    564\u001b[0m         \u001b[1;32mif\u001b[0m \u001b[0mresult\u001b[0m\u001b[1;33m:\u001b[0m\u001b[1;33m\u001b[0m\u001b[0m\n\u001b[0;32m    565\u001b[0m             \u001b[1;32mreturn\u001b[0m \u001b[0mresult\u001b[0m\u001b[1;33m\u001b[0m\u001b[0m\n",
      "\u001b[1;32mC:\\Anaconda3\\lib\\urllib\\request.py\u001b[0m in \u001b[0;36m_call_chain\u001b[1;34m(self, chain, kind, meth_name, *args)\u001b[0m\n\u001b[0;32m    501\u001b[0m         \u001b[1;32mfor\u001b[0m \u001b[0mhandler\u001b[0m \u001b[1;32min\u001b[0m \u001b[0mhandlers\u001b[0m\u001b[1;33m:\u001b[0m\u001b[1;33m\u001b[0m\u001b[0m\n\u001b[0;32m    502\u001b[0m             \u001b[0mfunc\u001b[0m \u001b[1;33m=\u001b[0m \u001b[0mgetattr\u001b[0m\u001b[1;33m(\u001b[0m\u001b[0mhandler\u001b[0m\u001b[1;33m,\u001b[0m \u001b[0mmeth_name\u001b[0m\u001b[1;33m)\u001b[0m\u001b[1;33m\u001b[0m\u001b[0m\n\u001b[1;32m--> 503\u001b[1;33m             \u001b[0mresult\u001b[0m \u001b[1;33m=\u001b[0m \u001b[0mfunc\u001b[0m\u001b[1;33m(\u001b[0m\u001b[1;33m*\u001b[0m\u001b[0margs\u001b[0m\u001b[1;33m)\u001b[0m\u001b[1;33m\u001b[0m\u001b[0m\n\u001b[0m\u001b[0;32m    504\u001b[0m             \u001b[1;32mif\u001b[0m \u001b[0mresult\u001b[0m \u001b[1;32mis\u001b[0m \u001b[1;32mnot\u001b[0m \u001b[1;32mNone\u001b[0m\u001b[1;33m:\u001b[0m\u001b[1;33m\u001b[0m\u001b[0m\n\u001b[0;32m    505\u001b[0m                 \u001b[1;32mreturn\u001b[0m \u001b[0mresult\u001b[0m\u001b[1;33m\u001b[0m\u001b[0m\n",
      "\u001b[1;32mC:\\Anaconda3\\lib\\urllib\\request.py\u001b[0m in \u001b[0;36mhttp_error_302\u001b[1;34m(self, req, fp, code, msg, headers)\u001b[0m\n\u001b[0;32m    753\u001b[0m         \u001b[0mfp\u001b[0m\u001b[1;33m.\u001b[0m\u001b[0mclose\u001b[0m\u001b[1;33m(\u001b[0m\u001b[1;33m)\u001b[0m\u001b[1;33m\u001b[0m\u001b[0m\n\u001b[0;32m    754\u001b[0m \u001b[1;33m\u001b[0m\u001b[0m\n\u001b[1;32m--> 755\u001b[1;33m         \u001b[1;32mreturn\u001b[0m \u001b[0mself\u001b[0m\u001b[1;33m.\u001b[0m\u001b[0mparent\u001b[0m\u001b[1;33m.\u001b[0m\u001b[0mopen\u001b[0m\u001b[1;33m(\u001b[0m\u001b[0mnew\u001b[0m\u001b[1;33m,\u001b[0m \u001b[0mtimeout\u001b[0m\u001b[1;33m=\u001b[0m\u001b[0mreq\u001b[0m\u001b[1;33m.\u001b[0m\u001b[0mtimeout\u001b[0m\u001b[1;33m)\u001b[0m\u001b[1;33m\u001b[0m\u001b[0m\n\u001b[0m\u001b[0;32m    756\u001b[0m \u001b[1;33m\u001b[0m\u001b[0m\n\u001b[0;32m    757\u001b[0m     \u001b[0mhttp_error_301\u001b[0m \u001b[1;33m=\u001b[0m \u001b[0mhttp_error_303\u001b[0m \u001b[1;33m=\u001b[0m \u001b[0mhttp_error_307\u001b[0m \u001b[1;33m=\u001b[0m \u001b[0mhttp_error_302\u001b[0m\u001b[1;33m\u001b[0m\u001b[0m\n",
      "\u001b[1;32mC:\\Anaconda3\\lib\\urllib\\request.py\u001b[0m in \u001b[0;36mopen\u001b[1;34m(self, fullurl, data, timeout)\u001b[0m\n\u001b[0;32m    529\u001b[0m         \u001b[1;32mfor\u001b[0m \u001b[0mprocessor\u001b[0m \u001b[1;32min\u001b[0m \u001b[0mself\u001b[0m\u001b[1;33m.\u001b[0m\u001b[0mprocess_response\u001b[0m\u001b[1;33m.\u001b[0m\u001b[0mget\u001b[0m\u001b[1;33m(\u001b[0m\u001b[0mprotocol\u001b[0m\u001b[1;33m,\u001b[0m \u001b[1;33m[\u001b[0m\u001b[1;33m]\u001b[0m\u001b[1;33m)\u001b[0m\u001b[1;33m:\u001b[0m\u001b[1;33m\u001b[0m\u001b[0m\n\u001b[0;32m    530\u001b[0m             \u001b[0mmeth\u001b[0m \u001b[1;33m=\u001b[0m \u001b[0mgetattr\u001b[0m\u001b[1;33m(\u001b[0m\u001b[0mprocessor\u001b[0m\u001b[1;33m,\u001b[0m \u001b[0mmeth_name\u001b[0m\u001b[1;33m)\u001b[0m\u001b[1;33m\u001b[0m\u001b[0m\n\u001b[1;32m--> 531\u001b[1;33m             \u001b[0mresponse\u001b[0m \u001b[1;33m=\u001b[0m \u001b[0mmeth\u001b[0m\u001b[1;33m(\u001b[0m\u001b[0mreq\u001b[0m\u001b[1;33m,\u001b[0m \u001b[0mresponse\u001b[0m\u001b[1;33m)\u001b[0m\u001b[1;33m\u001b[0m\u001b[0m\n\u001b[0m\u001b[0;32m    532\u001b[0m \u001b[1;33m\u001b[0m\u001b[0m\n\u001b[0;32m    533\u001b[0m         \u001b[1;32mreturn\u001b[0m \u001b[0mresponse\u001b[0m\u001b[1;33m\u001b[0m\u001b[0m\n",
      "\u001b[1;32mC:\\Anaconda3\\lib\\urllib\\request.py\u001b[0m in \u001b[0;36mhttp_response\u001b[1;34m(self, request, response)\u001b[0m\n\u001b[0;32m    639\u001b[0m         \u001b[1;32mif\u001b[0m \u001b[1;32mnot\u001b[0m \u001b[1;33m(\u001b[0m\u001b[1;36m200\u001b[0m \u001b[1;33m<=\u001b[0m \u001b[0mcode\u001b[0m \u001b[1;33m<\u001b[0m \u001b[1;36m300\u001b[0m\u001b[1;33m)\u001b[0m\u001b[1;33m:\u001b[0m\u001b[1;33m\u001b[0m\u001b[0m\n\u001b[0;32m    640\u001b[0m             response = self.parent.error(\n\u001b[1;32m--> 641\u001b[1;33m                 'http', request, response, code, msg, hdrs)\n\u001b[0m\u001b[0;32m    642\u001b[0m \u001b[1;33m\u001b[0m\u001b[0m\n\u001b[0;32m    643\u001b[0m         \u001b[1;32mreturn\u001b[0m \u001b[0mresponse\u001b[0m\u001b[1;33m\u001b[0m\u001b[0m\n",
      "\u001b[1;32mC:\\Anaconda3\\lib\\urllib\\request.py\u001b[0m in \u001b[0;36merror\u001b[1;34m(self, proto, *args)\u001b[0m\n\u001b[0;32m    561\u001b[0m             \u001b[0mhttp_err\u001b[0m \u001b[1;33m=\u001b[0m \u001b[1;36m0\u001b[0m\u001b[1;33m\u001b[0m\u001b[0m\n\u001b[0;32m    562\u001b[0m         \u001b[0margs\u001b[0m \u001b[1;33m=\u001b[0m \u001b[1;33m(\u001b[0m\u001b[0mdict\u001b[0m\u001b[1;33m,\u001b[0m \u001b[0mproto\u001b[0m\u001b[1;33m,\u001b[0m \u001b[0mmeth_name\u001b[0m\u001b[1;33m)\u001b[0m \u001b[1;33m+\u001b[0m \u001b[0margs\u001b[0m\u001b[1;33m\u001b[0m\u001b[0m\n\u001b[1;32m--> 563\u001b[1;33m         \u001b[0mresult\u001b[0m \u001b[1;33m=\u001b[0m \u001b[0mself\u001b[0m\u001b[1;33m.\u001b[0m\u001b[0m_call_chain\u001b[0m\u001b[1;33m(\u001b[0m\u001b[1;33m*\u001b[0m\u001b[0margs\u001b[0m\u001b[1;33m)\u001b[0m\u001b[1;33m\u001b[0m\u001b[0m\n\u001b[0m\u001b[0;32m    564\u001b[0m         \u001b[1;32mif\u001b[0m \u001b[0mresult\u001b[0m\u001b[1;33m:\u001b[0m\u001b[1;33m\u001b[0m\u001b[0m\n\u001b[0;32m    565\u001b[0m             \u001b[1;32mreturn\u001b[0m \u001b[0mresult\u001b[0m\u001b[1;33m\u001b[0m\u001b[0m\n",
      "\u001b[1;32mC:\\Anaconda3\\lib\\urllib\\request.py\u001b[0m in \u001b[0;36m_call_chain\u001b[1;34m(self, chain, kind, meth_name, *args)\u001b[0m\n\u001b[0;32m    501\u001b[0m         \u001b[1;32mfor\u001b[0m \u001b[0mhandler\u001b[0m \u001b[1;32min\u001b[0m \u001b[0mhandlers\u001b[0m\u001b[1;33m:\u001b[0m\u001b[1;33m\u001b[0m\u001b[0m\n\u001b[0;32m    502\u001b[0m             \u001b[0mfunc\u001b[0m \u001b[1;33m=\u001b[0m \u001b[0mgetattr\u001b[0m\u001b[1;33m(\u001b[0m\u001b[0mhandler\u001b[0m\u001b[1;33m,\u001b[0m \u001b[0mmeth_name\u001b[0m\u001b[1;33m)\u001b[0m\u001b[1;33m\u001b[0m\u001b[0m\n\u001b[1;32m--> 503\u001b[1;33m             \u001b[0mresult\u001b[0m \u001b[1;33m=\u001b[0m \u001b[0mfunc\u001b[0m\u001b[1;33m(\u001b[0m\u001b[1;33m*\u001b[0m\u001b[0margs\u001b[0m\u001b[1;33m)\u001b[0m\u001b[1;33m\u001b[0m\u001b[0m\n\u001b[0m\u001b[0;32m    504\u001b[0m             \u001b[1;32mif\u001b[0m \u001b[0mresult\u001b[0m \u001b[1;32mis\u001b[0m \u001b[1;32mnot\u001b[0m \u001b[1;32mNone\u001b[0m\u001b[1;33m:\u001b[0m\u001b[1;33m\u001b[0m\u001b[0m\n\u001b[0;32m    505\u001b[0m                 \u001b[1;32mreturn\u001b[0m \u001b[0mresult\u001b[0m\u001b[1;33m\u001b[0m\u001b[0m\n",
      "\u001b[1;32mC:\\Anaconda3\\lib\\urllib\\request.py\u001b[0m in \u001b[0;36mhttp_error_302\u001b[1;34m(self, req, fp, code, msg, headers)\u001b[0m\n\u001b[0;32m    753\u001b[0m         \u001b[0mfp\u001b[0m\u001b[1;33m.\u001b[0m\u001b[0mclose\u001b[0m\u001b[1;33m(\u001b[0m\u001b[1;33m)\u001b[0m\u001b[1;33m\u001b[0m\u001b[0m\n\u001b[0;32m    754\u001b[0m \u001b[1;33m\u001b[0m\u001b[0m\n\u001b[1;32m--> 755\u001b[1;33m         \u001b[1;32mreturn\u001b[0m \u001b[0mself\u001b[0m\u001b[1;33m.\u001b[0m\u001b[0mparent\u001b[0m\u001b[1;33m.\u001b[0m\u001b[0mopen\u001b[0m\u001b[1;33m(\u001b[0m\u001b[0mnew\u001b[0m\u001b[1;33m,\u001b[0m \u001b[0mtimeout\u001b[0m\u001b[1;33m=\u001b[0m\u001b[0mreq\u001b[0m\u001b[1;33m.\u001b[0m\u001b[0mtimeout\u001b[0m\u001b[1;33m)\u001b[0m\u001b[1;33m\u001b[0m\u001b[0m\n\u001b[0m\u001b[0;32m    756\u001b[0m \u001b[1;33m\u001b[0m\u001b[0m\n\u001b[0;32m    757\u001b[0m     \u001b[0mhttp_error_301\u001b[0m \u001b[1;33m=\u001b[0m \u001b[0mhttp_error_303\u001b[0m \u001b[1;33m=\u001b[0m \u001b[0mhttp_error_307\u001b[0m \u001b[1;33m=\u001b[0m \u001b[0mhttp_error_302\u001b[0m\u001b[1;33m\u001b[0m\u001b[0m\n",
      "\u001b[1;32mC:\\Anaconda3\\lib\\urllib\\request.py\u001b[0m in \u001b[0;36mopen\u001b[1;34m(self, fullurl, data, timeout)\u001b[0m\n\u001b[0;32m    529\u001b[0m         \u001b[1;32mfor\u001b[0m \u001b[0mprocessor\u001b[0m \u001b[1;32min\u001b[0m \u001b[0mself\u001b[0m\u001b[1;33m.\u001b[0m\u001b[0mprocess_response\u001b[0m\u001b[1;33m.\u001b[0m\u001b[0mget\u001b[0m\u001b[1;33m(\u001b[0m\u001b[0mprotocol\u001b[0m\u001b[1;33m,\u001b[0m \u001b[1;33m[\u001b[0m\u001b[1;33m]\u001b[0m\u001b[1;33m)\u001b[0m\u001b[1;33m:\u001b[0m\u001b[1;33m\u001b[0m\u001b[0m\n\u001b[0;32m    530\u001b[0m             \u001b[0mmeth\u001b[0m \u001b[1;33m=\u001b[0m \u001b[0mgetattr\u001b[0m\u001b[1;33m(\u001b[0m\u001b[0mprocessor\u001b[0m\u001b[1;33m,\u001b[0m \u001b[0mmeth_name\u001b[0m\u001b[1;33m)\u001b[0m\u001b[1;33m\u001b[0m\u001b[0m\n\u001b[1;32m--> 531\u001b[1;33m             \u001b[0mresponse\u001b[0m \u001b[1;33m=\u001b[0m \u001b[0mmeth\u001b[0m\u001b[1;33m(\u001b[0m\u001b[0mreq\u001b[0m\u001b[1;33m,\u001b[0m \u001b[0mresponse\u001b[0m\u001b[1;33m)\u001b[0m\u001b[1;33m\u001b[0m\u001b[0m\n\u001b[0m\u001b[0;32m    532\u001b[0m \u001b[1;33m\u001b[0m\u001b[0m\n\u001b[0;32m    533\u001b[0m         \u001b[1;32mreturn\u001b[0m \u001b[0mresponse\u001b[0m\u001b[1;33m\u001b[0m\u001b[0m\n",
      "\u001b[1;32mC:\\Anaconda3\\lib\\urllib\\request.py\u001b[0m in \u001b[0;36mhttp_response\u001b[1;34m(self, request, response)\u001b[0m\n\u001b[0;32m    639\u001b[0m         \u001b[1;32mif\u001b[0m \u001b[1;32mnot\u001b[0m \u001b[1;33m(\u001b[0m\u001b[1;36m200\u001b[0m \u001b[1;33m<=\u001b[0m \u001b[0mcode\u001b[0m \u001b[1;33m<\u001b[0m \u001b[1;36m300\u001b[0m\u001b[1;33m)\u001b[0m\u001b[1;33m:\u001b[0m\u001b[1;33m\u001b[0m\u001b[0m\n\u001b[0;32m    640\u001b[0m             response = self.parent.error(\n\u001b[1;32m--> 641\u001b[1;33m                 'http', request, response, code, msg, hdrs)\n\u001b[0m\u001b[0;32m    642\u001b[0m \u001b[1;33m\u001b[0m\u001b[0m\n\u001b[0;32m    643\u001b[0m         \u001b[1;32mreturn\u001b[0m \u001b[0mresponse\u001b[0m\u001b[1;33m\u001b[0m\u001b[0m\n",
      "\u001b[1;32mC:\\Anaconda3\\lib\\urllib\\request.py\u001b[0m in \u001b[0;36merror\u001b[1;34m(self, proto, *args)\u001b[0m\n\u001b[0;32m    561\u001b[0m             \u001b[0mhttp_err\u001b[0m \u001b[1;33m=\u001b[0m \u001b[1;36m0\u001b[0m\u001b[1;33m\u001b[0m\u001b[0m\n\u001b[0;32m    562\u001b[0m         \u001b[0margs\u001b[0m \u001b[1;33m=\u001b[0m \u001b[1;33m(\u001b[0m\u001b[0mdict\u001b[0m\u001b[1;33m,\u001b[0m \u001b[0mproto\u001b[0m\u001b[1;33m,\u001b[0m \u001b[0mmeth_name\u001b[0m\u001b[1;33m)\u001b[0m \u001b[1;33m+\u001b[0m \u001b[0margs\u001b[0m\u001b[1;33m\u001b[0m\u001b[0m\n\u001b[1;32m--> 563\u001b[1;33m         \u001b[0mresult\u001b[0m \u001b[1;33m=\u001b[0m \u001b[0mself\u001b[0m\u001b[1;33m.\u001b[0m\u001b[0m_call_chain\u001b[0m\u001b[1;33m(\u001b[0m\u001b[1;33m*\u001b[0m\u001b[0margs\u001b[0m\u001b[1;33m)\u001b[0m\u001b[1;33m\u001b[0m\u001b[0m\n\u001b[0m\u001b[0;32m    564\u001b[0m         \u001b[1;32mif\u001b[0m \u001b[0mresult\u001b[0m\u001b[1;33m:\u001b[0m\u001b[1;33m\u001b[0m\u001b[0m\n\u001b[0;32m    565\u001b[0m             \u001b[1;32mreturn\u001b[0m \u001b[0mresult\u001b[0m\u001b[1;33m\u001b[0m\u001b[0m\n",
      "\u001b[1;32mC:\\Anaconda3\\lib\\urllib\\request.py\u001b[0m in \u001b[0;36m_call_chain\u001b[1;34m(self, chain, kind, meth_name, *args)\u001b[0m\n\u001b[0;32m    501\u001b[0m         \u001b[1;32mfor\u001b[0m \u001b[0mhandler\u001b[0m \u001b[1;32min\u001b[0m \u001b[0mhandlers\u001b[0m\u001b[1;33m:\u001b[0m\u001b[1;33m\u001b[0m\u001b[0m\n\u001b[0;32m    502\u001b[0m             \u001b[0mfunc\u001b[0m \u001b[1;33m=\u001b[0m \u001b[0mgetattr\u001b[0m\u001b[1;33m(\u001b[0m\u001b[0mhandler\u001b[0m\u001b[1;33m,\u001b[0m \u001b[0mmeth_name\u001b[0m\u001b[1;33m)\u001b[0m\u001b[1;33m\u001b[0m\u001b[0m\n\u001b[1;32m--> 503\u001b[1;33m             \u001b[0mresult\u001b[0m \u001b[1;33m=\u001b[0m \u001b[0mfunc\u001b[0m\u001b[1;33m(\u001b[0m\u001b[1;33m*\u001b[0m\u001b[0margs\u001b[0m\u001b[1;33m)\u001b[0m\u001b[1;33m\u001b[0m\u001b[0m\n\u001b[0m\u001b[0;32m    504\u001b[0m             \u001b[1;32mif\u001b[0m \u001b[0mresult\u001b[0m \u001b[1;32mis\u001b[0m \u001b[1;32mnot\u001b[0m \u001b[1;32mNone\u001b[0m\u001b[1;33m:\u001b[0m\u001b[1;33m\u001b[0m\u001b[0m\n\u001b[0;32m    505\u001b[0m                 \u001b[1;32mreturn\u001b[0m \u001b[0mresult\u001b[0m\u001b[1;33m\u001b[0m\u001b[0m\n",
      "\u001b[1;32mC:\\Anaconda3\\lib\\urllib\\request.py\u001b[0m in \u001b[0;36mhttp_error_302\u001b[1;34m(self, req, fp, code, msg, headers)\u001b[0m\n\u001b[0;32m    753\u001b[0m         \u001b[0mfp\u001b[0m\u001b[1;33m.\u001b[0m\u001b[0mclose\u001b[0m\u001b[1;33m(\u001b[0m\u001b[1;33m)\u001b[0m\u001b[1;33m\u001b[0m\u001b[0m\n\u001b[0;32m    754\u001b[0m \u001b[1;33m\u001b[0m\u001b[0m\n\u001b[1;32m--> 755\u001b[1;33m         \u001b[1;32mreturn\u001b[0m \u001b[0mself\u001b[0m\u001b[1;33m.\u001b[0m\u001b[0mparent\u001b[0m\u001b[1;33m.\u001b[0m\u001b[0mopen\u001b[0m\u001b[1;33m(\u001b[0m\u001b[0mnew\u001b[0m\u001b[1;33m,\u001b[0m \u001b[0mtimeout\u001b[0m\u001b[1;33m=\u001b[0m\u001b[0mreq\u001b[0m\u001b[1;33m.\u001b[0m\u001b[0mtimeout\u001b[0m\u001b[1;33m)\u001b[0m\u001b[1;33m\u001b[0m\u001b[0m\n\u001b[0m\u001b[0;32m    756\u001b[0m \u001b[1;33m\u001b[0m\u001b[0m\n\u001b[0;32m    757\u001b[0m     \u001b[0mhttp_error_301\u001b[0m \u001b[1;33m=\u001b[0m \u001b[0mhttp_error_303\u001b[0m \u001b[1;33m=\u001b[0m \u001b[0mhttp_error_307\u001b[0m \u001b[1;33m=\u001b[0m \u001b[0mhttp_error_302\u001b[0m\u001b[1;33m\u001b[0m\u001b[0m\n",
      "\u001b[1;32mC:\\Anaconda3\\lib\\urllib\\request.py\u001b[0m in \u001b[0;36mopen\u001b[1;34m(self, fullurl, data, timeout)\u001b[0m\n\u001b[0;32m    529\u001b[0m         \u001b[1;32mfor\u001b[0m \u001b[0mprocessor\u001b[0m \u001b[1;32min\u001b[0m \u001b[0mself\u001b[0m\u001b[1;33m.\u001b[0m\u001b[0mprocess_response\u001b[0m\u001b[1;33m.\u001b[0m\u001b[0mget\u001b[0m\u001b[1;33m(\u001b[0m\u001b[0mprotocol\u001b[0m\u001b[1;33m,\u001b[0m \u001b[1;33m[\u001b[0m\u001b[1;33m]\u001b[0m\u001b[1;33m)\u001b[0m\u001b[1;33m:\u001b[0m\u001b[1;33m\u001b[0m\u001b[0m\n\u001b[0;32m    530\u001b[0m             \u001b[0mmeth\u001b[0m \u001b[1;33m=\u001b[0m \u001b[0mgetattr\u001b[0m\u001b[1;33m(\u001b[0m\u001b[0mprocessor\u001b[0m\u001b[1;33m,\u001b[0m \u001b[0mmeth_name\u001b[0m\u001b[1;33m)\u001b[0m\u001b[1;33m\u001b[0m\u001b[0m\n\u001b[1;32m--> 531\u001b[1;33m             \u001b[0mresponse\u001b[0m \u001b[1;33m=\u001b[0m \u001b[0mmeth\u001b[0m\u001b[1;33m(\u001b[0m\u001b[0mreq\u001b[0m\u001b[1;33m,\u001b[0m \u001b[0mresponse\u001b[0m\u001b[1;33m)\u001b[0m\u001b[1;33m\u001b[0m\u001b[0m\n\u001b[0m\u001b[0;32m    532\u001b[0m \u001b[1;33m\u001b[0m\u001b[0m\n\u001b[0;32m    533\u001b[0m         \u001b[1;32mreturn\u001b[0m \u001b[0mresponse\u001b[0m\u001b[1;33m\u001b[0m\u001b[0m\n",
      "\u001b[1;32mC:\\Anaconda3\\lib\\urllib\\request.py\u001b[0m in \u001b[0;36mhttp_response\u001b[1;34m(self, request, response)\u001b[0m\n\u001b[0;32m    639\u001b[0m         \u001b[1;32mif\u001b[0m \u001b[1;32mnot\u001b[0m \u001b[1;33m(\u001b[0m\u001b[1;36m200\u001b[0m \u001b[1;33m<=\u001b[0m \u001b[0mcode\u001b[0m \u001b[1;33m<\u001b[0m \u001b[1;36m300\u001b[0m\u001b[1;33m)\u001b[0m\u001b[1;33m:\u001b[0m\u001b[1;33m\u001b[0m\u001b[0m\n\u001b[0;32m    640\u001b[0m             response = self.parent.error(\n\u001b[1;32m--> 641\u001b[1;33m                 'http', request, response, code, msg, hdrs)\n\u001b[0m\u001b[0;32m    642\u001b[0m \u001b[1;33m\u001b[0m\u001b[0m\n\u001b[0;32m    643\u001b[0m         \u001b[1;32mreturn\u001b[0m \u001b[0mresponse\u001b[0m\u001b[1;33m\u001b[0m\u001b[0m\n",
      "\u001b[1;32mC:\\Anaconda3\\lib\\urllib\\request.py\u001b[0m in \u001b[0;36merror\u001b[1;34m(self, proto, *args)\u001b[0m\n\u001b[0;32m    561\u001b[0m             \u001b[0mhttp_err\u001b[0m \u001b[1;33m=\u001b[0m \u001b[1;36m0\u001b[0m\u001b[1;33m\u001b[0m\u001b[0m\n\u001b[0;32m    562\u001b[0m         \u001b[0margs\u001b[0m \u001b[1;33m=\u001b[0m \u001b[1;33m(\u001b[0m\u001b[0mdict\u001b[0m\u001b[1;33m,\u001b[0m \u001b[0mproto\u001b[0m\u001b[1;33m,\u001b[0m \u001b[0mmeth_name\u001b[0m\u001b[1;33m)\u001b[0m \u001b[1;33m+\u001b[0m \u001b[0margs\u001b[0m\u001b[1;33m\u001b[0m\u001b[0m\n\u001b[1;32m--> 563\u001b[1;33m         \u001b[0mresult\u001b[0m \u001b[1;33m=\u001b[0m \u001b[0mself\u001b[0m\u001b[1;33m.\u001b[0m\u001b[0m_call_chain\u001b[0m\u001b[1;33m(\u001b[0m\u001b[1;33m*\u001b[0m\u001b[0margs\u001b[0m\u001b[1;33m)\u001b[0m\u001b[1;33m\u001b[0m\u001b[0m\n\u001b[0m\u001b[0;32m    564\u001b[0m         \u001b[1;32mif\u001b[0m \u001b[0mresult\u001b[0m\u001b[1;33m:\u001b[0m\u001b[1;33m\u001b[0m\u001b[0m\n\u001b[0;32m    565\u001b[0m             \u001b[1;32mreturn\u001b[0m \u001b[0mresult\u001b[0m\u001b[1;33m\u001b[0m\u001b[0m\n",
      "\u001b[1;32mC:\\Anaconda3\\lib\\urllib\\request.py\u001b[0m in \u001b[0;36m_call_chain\u001b[1;34m(self, chain, kind, meth_name, *args)\u001b[0m\n\u001b[0;32m    501\u001b[0m         \u001b[1;32mfor\u001b[0m \u001b[0mhandler\u001b[0m \u001b[1;32min\u001b[0m \u001b[0mhandlers\u001b[0m\u001b[1;33m:\u001b[0m\u001b[1;33m\u001b[0m\u001b[0m\n\u001b[0;32m    502\u001b[0m             \u001b[0mfunc\u001b[0m \u001b[1;33m=\u001b[0m \u001b[0mgetattr\u001b[0m\u001b[1;33m(\u001b[0m\u001b[0mhandler\u001b[0m\u001b[1;33m,\u001b[0m \u001b[0mmeth_name\u001b[0m\u001b[1;33m)\u001b[0m\u001b[1;33m\u001b[0m\u001b[0m\n\u001b[1;32m--> 503\u001b[1;33m             \u001b[0mresult\u001b[0m \u001b[1;33m=\u001b[0m \u001b[0mfunc\u001b[0m\u001b[1;33m(\u001b[0m\u001b[1;33m*\u001b[0m\u001b[0margs\u001b[0m\u001b[1;33m)\u001b[0m\u001b[1;33m\u001b[0m\u001b[0m\n\u001b[0m\u001b[0;32m    504\u001b[0m             \u001b[1;32mif\u001b[0m \u001b[0mresult\u001b[0m \u001b[1;32mis\u001b[0m \u001b[1;32mnot\u001b[0m \u001b[1;32mNone\u001b[0m\u001b[1;33m:\u001b[0m\u001b[1;33m\u001b[0m\u001b[0m\n\u001b[0;32m    505\u001b[0m                 \u001b[1;32mreturn\u001b[0m \u001b[0mresult\u001b[0m\u001b[1;33m\u001b[0m\u001b[0m\n",
      "\u001b[1;32mC:\\Anaconda3\\lib\\urllib\\request.py\u001b[0m in \u001b[0;36mhttp_error_302\u001b[1;34m(self, req, fp, code, msg, headers)\u001b[0m\n\u001b[0;32m    743\u001b[0m                 len(visited) >= self.max_redirections):\n\u001b[0;32m    744\u001b[0m                 raise HTTPError(req.full_url, code,\n\u001b[1;32m--> 745\u001b[1;33m                                 self.inf_msg + msg, headers, fp)\n\u001b[0m\u001b[0;32m    746\u001b[0m         \u001b[1;32melse\u001b[0m\u001b[1;33m:\u001b[0m\u001b[1;33m\u001b[0m\u001b[0m\n\u001b[0;32m    747\u001b[0m             \u001b[0mvisited\u001b[0m \u001b[1;33m=\u001b[0m \u001b[0mnew\u001b[0m\u001b[1;33m.\u001b[0m\u001b[0mredirect_dict\u001b[0m \u001b[1;33m=\u001b[0m \u001b[0mreq\u001b[0m\u001b[1;33m.\u001b[0m\u001b[0mredirect_dict\u001b[0m \u001b[1;33m=\u001b[0m \u001b[1;33m{\u001b[0m\u001b[1;33m}\u001b[0m\u001b[1;33m\u001b[0m\u001b[0m\n",
      "\u001b[1;31mHTTPError\u001b[0m: HTTP Error 302: The HTTP server returned a redirect error that would lead to an infinite loop.\nThe last 30x error message was:\nFound"
     ]
    }
   ],
   "source": [
    "import string\n",
    "from urllib import request \n",
    "url = 'http://www.koreatech.ac.kr'\n",
    "f = request.urlopen(url)\n",
    "source_bytes = f.read()\n",
    "source = source_bytes.decode('utf-8')\n",
    "stp = string.punctuation\n",
    "\n",
    "source = source.strip()\n",
    "ch = ''\n",
    "check = True\n",
    "l = []\n",
    "l2 = []\n",
    "for i in range( len(source)):\n",
    "    if (source[i] == '<' ):\n",
    "        check = False\n",
    "        continue\n",
    "    if ( source[i] == '>' and check == False):\n",
    "        check = True\n",
    "        continue\n",
    "    if ( check == True ):\n",
    "        ch += source[i]\n",
    "l = ch.split()\n",
    "\n",
    "for i in range(len(l)):\n",
    "    l[i] = l[i].strip()\n",
    "    l[i]= l[i].strip(stp)\n",
    "\n",
    "for i in range(len(l)):\n",
    "    for j in stp:\n",
    "        while( j in l[i]):\n",
    "            for k in range(len(l[i])):\n",
    "                check = l[i].find(j)\n",
    "                l[i] = l[i][:check] + l[i][check+1:]\n",
    "                break\n",
    "            \n",
    "    \n",
    "k=0\n",
    "for i in l:\n",
    "    if ( i == ''):\n",
    "        k+=1\n",
    "for i in range(k):\n",
    "    l.remove('')\n",
    "\n",
    "dic = dict()\n",
    "for i in l:\n",
    "    dic[i] = 0\n",
    "for i in dic.keys():\n",
    "    for j in l:\n",
    "        if ( j == i):\n",
    "            dic[i]+=1\n",
    "print(dic)"
   ]
  },
  {
   "cell_type": "code",
   "execution_count": 2,
   "metadata": {},
   "outputs": [
    {
     "name": "stdout",
     "output_type": "stream",
     "text": [
      "1163\n",
      "\n",
      "{'강한나': 2, '증권금융': 1, '내역': 1, '이재명': 1, '한자사전': 1, '적발': 1, '비엔날레': 1, '보기': 22, '페이스타쿠션': 1, '공지사항': 1, '사용자': 1, '돈': 1, '드루킹': 1, '화장품': 1, '뒤태': 2, '아이즈원': 2, '페레그린과': 2, '닫기': 3, 'or': 1, '14': 2, '쌍둥이': 1, '무나홈트': 1, '탄탄한': 2, '사전': 2, '등록': 3, '사용': 2, '일본어사전': 1, '다른': 1, '영어': 1, '뉴스스탠드': 2, '추가공개': 1, '출근할': 1, '김실비': 1, '전문자료': 1, 'DataLab': 1, 'with': 1, '그린란드': 2, '브랜드별': 2, '삭스': 2, '윤지영': 1, '시작페이지로': 1, '보실': 1, '만든': 1, '17': 2, '내PC': 1, '57': 1, '중국': 1, '카테고리': 1, '김동연': 1, '뜻': 4, '증시패닉': 1, '가져오기': 2, '로드숍': 2, '전체선택': 1, '김경수에': 1, '박용진': 1, '을': 4, '영자지': 1, 'datafixedExpsStartYmdt': 12, '함께N': 1, '추가하면': 1, '포스트': 4, '215800': 1, '잡아주는': 2, '학습': 1, '3': 2, 'up': 1, '웹툰': 2, '연예': 1, '로드숍까지': 1, '기능을': 5, '담아봐': 2, '귀가…강제입원은': 1, '화요일': 1, '알림': 1, '리스트형': 1, '대부분': 1, '뷰티': 1, '에뛰드': 2, 'Creators': 1, '여행': 1, '꿀조합': 2, '미샤': 2, 'people': 1, '철도연결': 1, '핵인싸': 1, '부인': 1, '새옹지마': 2, '만두': 2, 'datafixedExpsEndYmdt': 12, '지연에': 1, '올리브영': 1, '기존': 1, '오픈': 1, '파우치': 2, '뷰스타': 6, '전체': 5, '39가공할': 1, '기온': 1, '호피': 1, '사필귀정': 2, '주제별캐스트': 1, '타임스퀘어': 2, '블로그': 3, '맞이': 1, '부분': 1, '팔부터': 1, '부모i': 1, '스쿨잼': 1, '방송통신': 1, '사이트': 2, '지원요청': 1, '취소': 2, 'LED립치크까지': 1, '카페명': 1, '관심사에': 2, '9': 3, '고립': 1, '해당': 1, '1600': 1, '최근검색어에서': 1, '만들기': 2, '고객센터': 1, '빛을': 1, '설정에서': 1, '로그아웃을': 1, '펼치기': 5, '검색어는': 1, '스몰비즈니스': 1, '저녁': 1, '메일': 1, '이상한': 2, '페이지': 2, '그룹의': 1, '어때': 2, '저장됩니다': 1, '켤': 4, '쇼핑': 2, '한글': 1, '들어있음': 1, '이용약관': 1, '열기': 1, '노출이': 1, '1120위': 1, '마녀': 1, '때는': 4, '찾는': 1, '감성충전': 1, '광채커버': 1, '더보기': 1, '앞의': 1, '때': 1, '사이판': 1, '전체의': 1, '지식인': 1, '검색어가': 1, '있어': 1, '부동산': 2, '지훈': 1, '뷰티TV': 6, 'ONOFF설정은': 1, '중국무관': 1, '주제형': 1, '엉덩이': 1, '2': 2, 'ⓒ': 1, '투표종료시까지': 1, '다음': 2, '법률': 1, 'FARM': 1, '뉴스': 5, '생각': 1, '0900': 2, '18': 2, 'API': 1, '아이들의': 2, '개발자센터': 1, '측근': 1, '트렌트': 1, 'intxt': 1, '임종석': 1, 'MY': 1, '올가을': 1, '기기브라우저에': 1, '정답': 1, '체인지': 1, '20': 2, '등록hellip': 1, 'Beta': 1, '자주': 1, '일': 1, '보호를': 1, '생각한대로': 1, 'dataexpsStartYmdt20181029': 11, 'AD': 1, '설정된': 1, '꺼져': 3, '소식': 2, '카키': 2, '헛소리39': 1, '시연…김': 1, '백순대': 2, '숨겨진': 2, '피부로': 1, '꼭': 1, '운명아': 2, '·': 1, '신고': 4, '지방선거·국회의원선거': 1, '테크': 1, '저장할': 1, '삭제': 4, '쇼콘': 2, 'query': 1, '데이터랩': 20, '청소년보호정책': 1, '인어공주': 1, '비켜라': 2, '회사소개': 1, '선택됨': 1, '백화점부터': 1, '1300': 1, '20181029': 1, '되기': 1, '영하권…올가을': 1, 'V뷰티': 1, '19': 2, '확대시': 1, '지워주세요': 1, '속': 1, '꿀템': 2, '레이어': 1, '미스': 2, '생활의달인': 2, '경제M': 1, '평균': 1, '방훈TV': 1, '머리': 2, '블러셔': 2, '1000': 2, '확인해': 2, '쇼핑캐스트': 2, '시간대연령남녀별': 1, '비교': 2, '완료': 1, '후': 2, '허벅지까지': 1, 'IT': 1, '숙명여고': 1, '레이어드': 2, '주고': 1, '시간대와': 1, '해지': 18, '종합경제': 1, '뒤의': 1, '부족': 1, '10시간': 1, '1029': 1, '구경해': 2, '모든': 1, '개': 1, 'NAVER': 3, '통합검색': 1, '최신': 1, '애쉬': 2, '새로운': 3, '제휴제안': 1, '뮤직': 2, '메인뉴스': 1, '네이버': 10, '불러': 1, '1인당': 1, '가장': 1, '코트': 2, '귀': 2, 'OFF': 1, '영화': 4, '인물': 1, '금광리': 2, '특별전': 1, '110위': 2, '브라운': 2, 'intend': 1, 'txt': 4, '도마령': 2, '디즈니': 1, '캐스트': 1, '톡톡': 1, '1': 2, '네이버뉴스': 1, '부여인생순대': 2, '국어사전': 1, '美와': 1, '광주': 1, '단종': 1, '안내': 3, 'date': 1, '만화': 1, 'ë\\x8f\\x99ì\\x98\\x81ì\\x83\\x81': 6, '에디터': 1, '확인': 3, '검색어': 10, '한': 1, 'JOB': 1, '그래프': 20, '패션뷰티': 2, '6': 2, 'datafixedSeq0': 12, '기사들을': 1, '검색어로': 1, '추워': 1, '영영사전': 1, '듣는': 1, '자동완성을': 1, '펀딩': 1, '48H지속': 1, '다운로드': 1, '부츠': 2, '리뷰': 1, '시사상식': 1, '2359': 12, '건강': 2, '가방': 1, '이동': 2, '신서유기6': 2, '신상': 2, '씨웨이': 2, '개설': 1, '제공합니다': 1, '광고': 1, '최대': 1, '네이버페이': 1, '12': 2, '1400': 1, '감사·지도점검': 1, '있습니다': 5, '리얼': 1, 'BEST': 2, '이미지': 1, '부담스럽다면': 2, '13': 2, 'match': 1, '용어사전': 1, '국민': 1, '공식': 1, '기우쌤': 1, '구독': 19, '부여': 2, '카페': 2, '동영상': 1, '이것이': 1, '1200': 1, '연애·결혼': 1, '14채': 1, '바로가기': 6, 'KADIZ': 1, '7': 3, 'Forgot': 1, '변신했어': 2, '목록으로': 2, '및': 1, '플랜': 1, '음악': 1, 'TV연예': 1, 'name': 2, '5': 3, '하구': 1, '디자인': 1, '℃': 1, '쥬니어네이버': 1, '스타일링': 2, '계십니다': 1, 'Connect': 1, '동일한': 1, '유혜주': 2, 'dataexpsEndYmdt20991231': 12, '활용법': 2, '네이버모바일': 1, '저장': 2, 'TV뉴스': 1, '고양이': 2, '전시현장': 1, '인터뷰': 1, '스포츠': 2, '로그인': 4, '검색어저장': 6, '얼굴형에': 1, '트래킹': 1, '사는': 1, '지역': 2, '中군용기': 1, 'LIVE': 1, '오렌지': 1, '직소백': 1, '카페글': 1, 'VS': 2, '제자': 2, '먹는': 2, 'in': 2, '헤어멘토': 4, '전에': 1, '쵸콩': 1, '부여순대': 2, '크리에이터': 1, '중': 1, '이미지형': 1, '조사받고': 1, '기능이': 4, '유치원': 1, '형수가': 1, '신빙성': 1, '홈에서': 1, '약관': 1, '어울리는': 1, '컨텍스트': 3, 'Password': 1, '산': 1, '맞춰': 1, '3중': 2, '파데': 2, '맞춘': 1, '급상승': 4, '봄': 1, '켜기': 5, '아침': 1, '11': 3, '언론사가': 1, '추가': 1, 'PC에서는': 1, '입어봐': 1, '스토어': 1, '오산': 2, '한국인': 1, '비즈니스': 3, '오픈소스': 1, '개인정보': 1, '조각을': 1, '주제': 8, 'Sign': 3, '검색해': 1, '언론사': 5, '보라색': 1, '다시': 4, '운동': 2, '책': 2, '자동완성검색어': 1, '들어': 1, '틴뷰스타': 1, '0800': 1, '매거진전문지': 1, 'ON': 1, '가능합니다': 2, '16': 2, '가을': 1, '깡나': 1, '펌': 3, 'Developers': 1, '손에': 2, '를': 2, '백과사전': 1, '휴대전화서': 1, '기록': 3, '체험': 1, '김동희': 1, '8': 3, '복구': 1, '업사이클링': 1, 'Partners': 1, '목록': 3, '메이크업': 1, '설정하시겠습니까': 1, '보세요': 2, '지역업체': 1, '초기화': 1, '조명균': 1, '설정': 3, '자세히보기': 1, '인재채용': 1, 'mismatchafter': 1, 'Corp': 1, '추천': 2, '개인정보처리방침': 1, '모아': 1, '후보자명에': 1, '집': 2, '직원이': 1, '클릭하세요': 4, '선택': 1, '영어로': 1, '양복': 1, '파트너': 1, '랩스': 1, '검색': 2, '1500': 1, '귀국…남은': 1, '자세히': 2, '댓글조작': 1, '수': 2, 'C컬로': 1, '해': 1, '월': 1, '주한': 1, '약간': 1, '지식iN': 1, '없습니다': 3, '곳곳': 1, '전체보기': 1, '기준': 1, '보유': 1, '선택하여': 1, '네이버를': 1, '추가하시려면': 1, '리페어청담': 2, '웹문서': 1, '귀여운': 2, '책문화': 1, '1700': 2, '리빙': 1, '관심주제로': 1, '613': 1, '영어사전': 1, '10': 5, '중단됩니다': 1, '끄기': 7, 'dataexpsStartYmdt20181028': 1, '알려주는': 1, '메모…혐의는': 1, '북미회담': 1, '저장해': 1, '항의': 1, '내': 9, '반드시': 1, '자동완성': 17, '국방부': 1, '사야': 1, '꽃': 2, '기사보기': 18, '연합뉴스': 1, '위하여': 1, '정책': 2, 'MY언론사를': 1, '풀': 2, '15': 2, '아냐…변동성': 1, '지도': 1, '바로': 2, '현재': 1, '할': 1, '경제': 1, '200': 2, '추억을': 1, 'httpscastboxshoppingnavercomshopboxmainnhn': 1, '해피빈': 2, '눈코입': 1, '사용하고': 1, '컨틴전시': 1, '성공적으로': 1, '마법사의': 2, '브라운으로': 2, '보민': 1, '관심': 4, '동물공감': 1, '피키캐스트': 1, '입력기': 1, '설정한': 2, '파라디': 1, '단종템도': 1, '자동차': 2, '푸드': 1, '임대사업자': 1, '소리': 2, '폴라': 3, '되살리는': 1, '최근검색어': 2, '뜯어': 2, '모바일': 5, '우슬라': 1, 'D2': 1, 'Username': 1, '스포츠연예': 1, '주세요': 1, '공연전시': 1, '해제': 1, '내역이': 1, '검색어를': 2, '패턴': 1, '공용': 1, '긍정부정검색': 1, 'mismatchbefore': 1, '프로젝트': 2, '美대북대표': 1, '도움말': 6, '진입에': 1, '있는지': 1, '대한': 1, '까지': 1, '그대로': 1, '특별한': 1, '한정판': 1, '서비스': 1, '언론사의': 1, '밀크': 2, '라비앙로즈': 2, '했던': 1, '과학': 1, '게임': 2, '네이버TV': 1, '활성화되었습니다': 1, '4': 2, '관심주제': 1, '코덕의': 2, '이전': 2, '상위': 1}\n"
     ]
    }
   ],
   "source": [
    "import string\n",
    "\n",
    "from urllib import request \n",
    " \n",
    "url = 'http://www.naver.com'\n",
    "\n",
    "f = request.urlopen(url)\n",
    "source_bytes = f.read()\n",
    "source = source_bytes.decode('utf-8')\n",
    "\n",
    "source.strip()                                  #양 쪽 끝에 있는 공백을 없앤다.\n",
    "a = 0\n",
    "b = 0\n",
    "count = 0                                       #HTML 구문, 코드를 제외한 문자의 개수\n",
    "t1 = 0\n",
    "t2 = 0\n",
    "c = []\n",
    "\n",
    "i = 0\n",
    "# javaScript 태그 없애기\n",
    "while(i != 2):\n",
    "    while(t1 != -1):                                 # a != -1의 조건 기준은 source.find('<', b)에서 b 인덱스 이후로 < 문자가 더이상 존재하지 않을 때, a에다가 -1을 리턴해준다.\n",
    "        t1 = source.find('<script', t2)\n",
    "        t2 = source.find('</script>', t1)\n",
    "\n",
    "        if(t1 != t2):\n",
    "            source = source[:t1] + source[t2:]\n",
    "\n",
    "    t1 = 0\n",
    "    t2 = 0\n",
    "    i = i + 1\n",
    "    \n",
    "i = 0\n",
    "# CSS 태그 없애기\n",
    "while(i != 2):\n",
    "    while(t1 != -1):                                 # a != -1의 조건 기준은 source.find('<', b)에서 b 인덱스 이후로 < 문자가 더이상 존재하지 않을 때, a에다가 -1을 리턴해준다.\n",
    "        t1 = source.find('<style', t2)\n",
    "        t2 = source.find('</style>', t1)\n",
    "\n",
    "        if(t1 != t2):\n",
    "            source = source[:t1] + source[t2:]\n",
    "\n",
    "    t1 = 0\n",
    "    t2 = 0\n",
    "    i = i + 1\n",
    "\n",
    "while(a != -1):                                 # a != -1의 조건 기준은 source.find('<', b)에서 b 인덱스 이후로 \n",
    "                                                # < 문자가 더이상 존재하지 않을 때, a에다가 -1을 리턴해준다.\n",
    "    a = source.find('<', b) \n",
    "    b = source.find('>', a) \n",
    "    a1 = source.find('<', b)\n",
    "\n",
    "    if((a1 > b) and (a1 != a) ):                # > 이 사이에 있는 것이 문자열이라는 조건 <\n",
    "        count = count + len(source[(b+1):a1].split())        # 그 사이에 있는 것이 문자열인데 그 안에 단어가 몇개 있는지를 공백 기준 쪼갠다.\n",
    "        if(len(source[(b+1):a1].split()) > 0):\n",
    "            c = c + source[(b+1):a1].split()\n",
    "            \n",
    "c = ' '.join(c)        # 리스트는 구두문자를 제거하기 위한 translate를 사용할 수 없으므로 문자열로 만든다. 이 때, 각 원소의\n",
    "                       # 구분은 공백문자로 한다. 이후에 공백문자를 기준으로 다시 리스트를 만들 것이다.\n",
    "translator = str.maketrans('', '', string.punctuation)\n",
    "c = c.translate(translator)\n",
    "c = c.split()\n",
    "k = 0\n",
    "result = []\n",
    "\n",
    "#리스트 내에 구두문자를 제거한 단어들을 삽입한다.\n",
    "while(k < len(c)):\n",
    "    result.append((c[k],c.count(c[k])))\n",
    "    k = k + 1\n",
    "\n",
    "    \n",
    "#중복 문자 삭제\n",
    "result = set(result)\n",
    "\n",
    "#리스트로의 형변환\n",
    "result = list(result)\n",
    "\n",
    "# 사전화\n",
    "k = 0\n",
    "list_key = []\n",
    "list_value = []\n",
    "\n",
    "while(k < len(result)):\n",
    "    list_key.append(result[k][0])\n",
    "    list_value.append(result[k][1])\n",
    "    k = k + 1\n",
    " \n",
    "#key, value(반복횟수)를 리스트로 각각 저장했었기 때문에, 리스트와 리스트 간\n",
    "#mapping을 위해 zip()사용.\n",
    "\n",
    "t = zip(list_key, list_value)\n",
    "\n",
    "#zip 후, 사전으로 형변환\n",
    "t = dict(t)\n",
    "\n",
    "print(count) #중복을 제외한 단어의 개수\n",
    "print()\n",
    "print(t)"
   ]
  },
  {
   "cell_type": "code",
   "execution_count": 4,
   "metadata": {},
   "outputs": [
    {
     "name": "stdout",
     "output_type": "stream",
     "text": [
      "1032\n",
      "\n",
      "{'39브라질의': 1, '전세계서': 1, '파는': 1, '정차시': 1, '만': 1, '제대로': 1, '©': 1, '5위': 6, '동작': 1, '장원영': 5, '5도': 1, '준비': 1, '지역': 1, '부동산': 2, '39눈발39': 1, '인재채용': 1, '번에': 1, '관계': 1, '할': 2, '영국': 1, '추천하는': 2, 'lt이전': 1, '히터': 1, '여행맛집': 1, '8897': 1, 'X닫기': 1, '웹접근성안내': 1, '단어장': 1, '항공권': 1, '3': 2, '별이네': 1, '스포츠': 4, '무장정찰공격헬기': 1, '백구': 1, '황태현': 1, '박준혁': 1, '따스해지는': 1, 'TV': 2, '고객센터': 1, '서비스약관': 1, '대안은': 1, '이상민': 1, '건강을': 2, '미사일이': 1, '중': 1, '쉽게': 1, '맑음': 11, '환율': 1, '지방재정': 1, '세단을': 1, '메르켈': 1, '점': 1, '8위': 5, '같이가치': 3, '검은사막': 1, '비온후갬': 1, '운동인': 1, '車생태계가': 1, '미즈넷': 2, '인기': 1, '소식': 1, '힘든데': 1, '가장이': 1, '어머니': 1, '별플레이': 1, '국방홍보원': 3, '운세': 1, '경기도': 1, '1143018': 1, '39광고': 1, '시작페이지로': 1, '수출용': 1, '당선남미': 1, '22956': 1, '골': 1, '쇼핑하우': 1, 'plusmn0': 1, '1탭': 1, '공개': 1, '볶음': 1, '광주시': 1, 'Mk2': 1, '시승기': 1, '기안84': 1, '보아': 1, '노포': 5, '外': 1, '직장IN': 1, '6도': 2, '적발에도한수원': 1, 'SNS에서': 1, '흉기살해': 1, '퇴진키로': 1, '접근성': 1, 'quot한국': 1, '2분': 1, '광고': 1, '없는': 2, '웹툰': 3, '나눔펀딩': 1, '신흥국서도': 1, '신형': 1, '기온': 1, '10위': 6, 'gt다음': 1, '김한길': 1, '뉴스홈': 1, 'gt': 4, '만들어': 2, '이재명': 2, '배틀그라운드': 1, '편해요”': 1, '쇼핑생활': 1, '번역': 1, '기행': 5, '우리': 1, '로드뷰': 1, '사랑': 1, '현재': 7, '플랭크': 1, '소개': 1, '대놓고': 1, '꼭': 1, '전문가': 1, '文': 1, '김종국': 1, '日': 1, '‘운동': 1, '목록': 2, '챌린저2': 1, '안내': 1, '10도': 3, '500km': 1, '엘클라시코': 1, '썰전': 1, '현대차한국': 1, '전효성': 1, '증권': 1, '커뮤니케이션': 1, '맛있게': 1, '충청북도': 1, '김사랑': 1, '공지사항': 1, '다음': 8, '놓고': 2, '대만': 1, '조사한다': 1, '운동': 3, '따로': 1, '자동실행': 1, '전체': 5, '생활의': 5, '서울시': 1, '힙업': 1, '기부제39지자체': 1, 'Kakao': 1, '금융': 1, '1': 3, '학대': 1, '11': 2, '만두': 5, '선수': 1, '주': 1, '스페셜': 1, '106회': 1, '전일대비': 2, '지디넷코리아': 1, '리콜': 1, '블로그': 5, '하는': 1, '폐지': 1, '13도': 2, '티스토리': 2, '남은': 1, '새끼': 1, '경상남도': 1, '설치': 1, '통합': 2, 'Men': 1, '공방': 1, '검색등록': 1, '및': 1, '이전': 6, '이용하니': 1, '독일': 1, '전': 1, '160만대': 1, '지하철노선도': 1, '아베': 1, '출신': 1, '사칭주의': 1, '9위': 5, '전라남도': 2, '10': 4, '개인정보처리방침': 1, '바로가기': 11, '1위': 6, '카카오TV': 3, '특별재판부': 1, '더뉴카니발': 1, '“대중교통': 1, 'quot숙명여고': 1, '관련': 1, 'Corp': 1, '엄마야': 1, '스토리펀딩': 2, '7위': 5, '공세': 1, '자동차': 2, '대구시': 1, '주요': 2, '라면': 1, '제주': 1, '기념으로': 1, '디자인에': 1, '아고라': 1, '입장하는': 1, '총리직': 1, '순간39': 1, '어학사전': 1, '결혼': 1, '저장quot혐의': 1, '날찌정보': 1, '김지수': 1, '아이즈원': 5, '근력': 1, '이유': 1, '화제가': 1, '특별': 1, '3위': 5, '이번': 2, '뮤직': 1, '신규진입': 6, '더보기': 2, '유지당대표직서': 1, '이슈': 4, '연재': 1, '따라': 1, '경상북도': 2, '부풀리기39가': 1, '했습니다': 1, '한국방공식별구역': 1, '전체보기': 2, '복부': 1, '39전쟁39실태와': 1, '입맛': 1, '49': 2, '유익한': 2, '탭': 16, '청소년보호정책': 1, '또': 1, '베스트': 1, '볼보': 1, '사유리': 1, '이거': 2, '우묵배미의': 1, '약관': 1, '손으로': 1, '위한': 2, 'PC방': 1, '레시피': 1, '집에서': 2, '나도': 1, '편의점표': 1, '원장': 1, '가을': 1, '포토': 4, '제주자치도': 1, '대통령': 1, '조카의': 1, '오늘은': 2, '9도': 2, '39고향사랑': 1, '끝내는': 1, '된': 1, '128': 2, '웹': 1, '9652': 2, '양육비': 1, '미운': 1, '미래지향적': 1, '앵커의': 1, '미디어': 3, '113': 2, '보는': 1, '8도': 4, '13745': 1, '전투차량': 1, '길찾기': 1, '39소떡소떡39': 1, '뉴스': 4, '망언논란': 1, '·': 9, '콘서트7080': 1, '13세': 1, '개발': 1, '기아차': 1, '김우석': 5, '12': 2, '29': 1, '명장면': 3, '핵심은': 1, '폭행': 1, '오늘의': 6, '주요서비스': 1, '강력한': 1, '정부가': 1, '키우기도': 1, '예고': 1, 'All': 1, '만드는': 2, '어제보다': 1, '꿀맛': 1, '메일': 2, '정보': 8, '순대': 6, '4위': 5, '얼굴을': 1, '전라북도': 1, '제휴문의': 1, '블랙나이트': 1, '12도': 2, '먹다': 1, 'GV': 1, '미세먼지': 1, '부산시': 1, '2위': 5, 'reserved': 1, '192': 2, '일부': 1, '구름조금': 4, '너무': 1, '신규업데이트': 1, '최명길박중훈': 1, 'quot사소한': 1, '넋': 1, '충청남도': 1, '리플렉트': 1, '설정': 1, '규격quot': 1, '현대차': 1, '후': 1, '추천갤러리': 2, '야식으로': 1, '레알': 1, '법': 2, '탓하더니BMW': 1, '없어': 1, '차세대': 1, '결과': 1, '댓글논란': 1, '안에': 1, '함께한': 1, '2018': 1, '골을': 1, '문화엔터': 1, '지방분권의': 1, '머니': 1, '완료': 1, '운동할': 1, '도경수': 5, '상세보기': 1, '간단한': 1, '달샤벳': 1, '유산소와': 1, '39부적합': 1, '20181029': 1, '보게': 1, '쇼핑': 3, '프리킥': 1, '다음앱이': 1, '지정학': 1, '中': 2, '강원도': 2, '링크모음': 1, '100년': 1, '게임': 3, '쌍둥이': 1, '만들기': 1, '“그러고도': 1, '브런치': 3, '밸브39': 1, 'SBS': 1, '707701': 1, '대신': 1, '집공개': 1, '6년': 1, '역행유감quot': 1, '에코히터': 1, '다저스와': 1, '39아찔한': 1, '나이로': 1, '주의해야': 1, '부분': 2, '과정': 1, '내세운': 1, '얼리어답터': 1, '메뉴': 2, '새옹지마': 1, '포토amp영상': 1, '집밥': 1, '하회마을': 5, '날씨정보': 1, '영상': 19, '양산': 1, '공범39': 1, '경기': 1, '투신': 1, '이미지': 2, '수': 1, '살인': 1, 'LeeksDraw': 1, '어린이집': 1, '버스정보': 1, '이탈올해만': 1, '강한나': 6, '17도': 1, 'Z19E': 1, 'MBN': 1, '트럼프39': 1, '낡은': 1, '6': 4, '굉장했다': 1, '사전지식': 1, '카카오스토리': 2, '영화': 2, '있는': 1, 'X': 1, '달인': 5, 'lt': 4, 'rights': 1, '타지키스탄': 1, '회사소개': 1, '블로터': 1, '부인': 1, '기회': 1, '184': 2, '휴대전화에': 1, '카페': 3, '인천시': 2, '랭킹': 1, '호날두': 1, '스타일': 1, '33가솔린': 1, '펼치기': 1, '눈': 1, '임기까지만': 1, '월드시리즈': 1, '연예': 2, '떨어진다충남middot호남엔': 1, '증시': 2, '실수quot': 1, '한글입력기': 1, '퇴조': 1, 'TV하이라이트': 2, '다음을': 1, '⋁': 1, '동영상': 16, 'N': 1, 'SUV': 2, '리틀스타': 1, '무너진다': 1, '70': 2, '먹어야지': 2, '밀어버리는': 1, '5': 4, '7': 2, '사람들도': 1, '8': 5, '사전': 1, '딱인': 1, '英': 1, '통합대기': 1, '최명길': 1, '7도': 1, '나들이로': 1, '홈amp쿠킹': 1, 'Copyright': 1, '39핑크타이드39': 1, '39재정39현실은': 1, '먹는': 1, '눈에': 1, '카슈끄지': 1, '여야': 1, '백과사전': 1, '한': 3, '비극': 1, 'uarr': 14, '참혹했던': 1, '美육군': 1, '렉서스': 1, '방법': 1, '도움': 1, '13': 2, '명소': 1, '무대를': 1, '3대': 1, '사진有': 1, '치킨': 1, '군용기': 1, '월': 1, 'Daum': 1, '구름많음': 3, '선택됨': 1, '11도': 1, '때': 2, '계약위반': 1, '답안': 1, '2204기준': 1, '먹어봤더니': 1, '4': 2, '보기': 4, '기어': 1, '대전시': 1, '카카오': 2, '연비왕에게': 1, '73': 2, '39동생': 1, '부여': 5, '6위': 5, '원전': 1, '수빈': 1, '연비에': 1, '검색': 8, '못': 1, '한국인': 1, '추악한': 1, '삼국지': 1, '아지트': 1, '계속': 1, '막아낸': 1, '류현진': 1, '새단장을': 1, '일반뉴스': 1, '39활력39': 1, '실시간': 4, '여섯번째': 1, '단풍': 1, '페이스북': 1, '날씨': 21, '이국주': 1, '서비스': 5, '동원해': 1, '°C': 20, '울산시': 1, '살리는': 1, '17': 1, '터뜨린': 1, '2': 1, '폐암': 1, '후지필름': 1, '사람이야”': 1, '선택한': 1, '간단': 1, '족발': 1, '팁': 1, '밀리는': 1, '수입': 1, '없을': 1, 'quot풀프레임은': 1, '준비한': 1, '지도': 2, '상승': 16, '30대': 1, '9': 2, '반해': 1, '닫기': 2, '의혹': 1, '수현': 5, 'AI': 1, '더': 2, '팔뚝': 1, '선물': 1, '광고안내': 1, '마음까지': 1, '동물': 1, '조현병': 1, '장악한': 1, '멀티미디어': 2, '뿌링클': 1, '진입': 1, '스토리텔러': 2, '검색어': 3, '운전습관': 1}\n"
     ]
    }
   ],
   "source": [
    "import string\n",
    "\n",
    "from urllib import request \n",
    " \n",
    "url = 'http://www.daum.net'\n",
    "\n",
    "f = request.urlopen(url)\n",
    "source_bytes = f.read()\n",
    "source = source_bytes.decode('utf-8')\n",
    "\n",
    "source.strip()                                  #양 쪽 끝에 있는 공백을 없앤다.\n",
    "a = 0\n",
    "b = 0\n",
    "count = 0                                       #HTML 구문, 코드를 제외한 문자의 개수\n",
    "t1 = 0\n",
    "t2 = 0\n",
    "c = []\n",
    "\n",
    "i = 0\n",
    "# javaScript 태그 없애기\n",
    "while(i != 2):\n",
    "    while(t1 != -1):                                 # a != -1의 조건 기준은 source.find('<', b)에서 b 인덱스 이후로 < 문자가 더이상 존재하지 않을 때, a에다가 -1을 리턴해준다.\n",
    "        t1 = source.find('<script', t2)\n",
    "        t2 = source.find('</script>', t1)\n",
    "\n",
    "        if(t1 != t2):\n",
    "            source = source[:t1] + source[t2:]\n",
    "\n",
    "    t1 = 0\n",
    "    t2 = 0\n",
    "    i = i + 1\n",
    "    \n",
    "i = 0\n",
    "# CSS 태그 없애기\n",
    "while(i != 2):\n",
    "    while(t1 != -1):                                 # a != -1의 조건 기준은 source.find('<', b)에서 b 인덱스 이후로 < 문자가 더이상 존재하지 않을 때, a에다가 -1을 리턴해준다.\n",
    "        t1 = source.find('<style', t2)\n",
    "        t2 = source.find('</style>', t1)\n",
    "\n",
    "        if(t1 != t2):\n",
    "            source = source[:t1] + source[t2:]\n",
    "\n",
    "    t1 = 0\n",
    "    t2 = 0\n",
    "    i = i + 1\n",
    "\n",
    "while(a != -1):                                 # a != -1의 조건 기준은 source.find('<', b)에서 b 인덱스 이후로 \n",
    "                                                # < 문자가 더이상 존재하지 않을 때, a에다가 -1을 리턴해준다.\n",
    "    a = source.find('<', b) \n",
    "    b = source.find('>', a) \n",
    "    a1 = source.find('<', b)\n",
    "\n",
    "    if((a1 > b) and (a1 != a) ):                # > 이 사이에 있는 것이 문자열이라는 조건 <\n",
    "        count = count + len(source[(b+1):a1].split())        # 그 사이에 있는 것이 문자열인데 그 안에 단어가 몇개 있는지를 공백 기준 쪼갠다.\n",
    "        if(len(source[(b+1):a1].split()) > 0):\n",
    "            c = c + source[(b+1):a1].split()\n",
    "            \n",
    "c = ' '.join(c)        # 리스트는 구두문자를 제거하기 위한 translate를 사용할 수 없으므로 문자열로 만든다. 이 때, 각 원소의\n",
    "                       # 구분은 공백문자로 한다. 이후에 공백문자를 기준으로 다시 리스트를 만들 것이다.\n",
    "translator = str.maketrans('', '', string.punctuation)\n",
    "c = c.translate(translator)\n",
    "c = c.split()\n",
    "k = 0\n",
    "result = []\n",
    "\n",
    "#리스트 내에 구두문자를 제거한 단어들을 삽입한다.\n",
    "while(k < len(c)):\n",
    "    result.append((c[k],c.count(c[k])))\n",
    "    k = k + 1\n",
    "\n",
    "    \n",
    "#중복 문자 삭제\n",
    "result = set(result)\n",
    "\n",
    "#리스트로의 형변환\n",
    "result = list(result)\n",
    "\n",
    "# 사전화\n",
    "k = 0\n",
    "list_key = []\n",
    "list_value = []\n",
    "\n",
    "while(k < len(result)):\n",
    "    list_key.append(result[k][0])\n",
    "    list_value.append(result[k][1])\n",
    "    k = k + 1\n",
    " \n",
    "#key, value(반복횟수)를 리스트로 각각 저장했었기 때문에, 리스트와 리스트 간\n",
    "#mapping을 위해 zip()사용.\n",
    "\n",
    "t = zip(list_key, list_value)\n",
    "\n",
    "#zip 후, 사전으로 형변환\n",
    "t = dict(t)\n",
    "\n",
    "print(count) #중복을 제외한 단어의 개수\n",
    "print()\n",
    "print(t)\n"
   ]
  },
  {
   "cell_type": "code",
   "execution_count": 5,
   "metadata": {},
   "outputs": [
    {
     "name": "stdout",
     "output_type": "stream",
     "text": [
      "1667\n",
      "\n",
      "{'said': 3, 'Abdulrahman': 1, 'Senate': 1, 'Merkel': 2, 'Let': 1, 'Paper': 1, 'at': 5, '©': 1, 'top': 1, 'Opinion': 3, 'RegExpname': 1, 'Tries': 1, 'account': 2, 'documentgetElementByIdRavenInstaller': 1, 'Sections': 1, 'nearrecord': 1, 'desperate': 1, 'my': 2, 'regional': 1, 't': 2, 'windowNYTRELEASE': 2, 'Privacy': 1, 'Mohamad': 1, 'sunday': 2, 'tag': 1, 'for': 7, 'oped': 4, 'ignore': 2, 'httpscontentapinytimescom': 1, 'Steve': 1, 'underway': 1, 'bitesized': 1, 'left': 2, 'stranger': 1, 'As': 1, 'new': 1, 'viewed': 1, 'windowNYTDAbraamazontoggle': 1, 'subscriptions': 2, 'Tech': 2, 'Germany': 2, 'multimedia': 2, 'var': 10, 'It': 3, 'Center': 2, 'So': 1, 'Congregants': 1, 'center': 1, 'Election': 2, 'quickly': 1, 'Sign': 1, 'moduleData7B22module223A22nytvipagepixel222C22pgType223A22Homepage222C22eventName223A22Impression222C22action223A22Impression227D': 1, 'angered': 1, 'OurfalianAgence': 1, 'has': 5, 'lineup': 1, 'corrections': 2, 'if': 12, '10': 1, 'errdata': 2, 'err': 4, 'Still': 2, 'political': 3, 'Dictatorship': 1, 'Came': 1, 'Your': 1, 'gunman': 1, 'Raven': 3, 'public': 1, 'Into': 2, 'An': 1, 'Subscriptions': 1, 'After': 3, 'return': 2, 'die”': 1, 'health': 2, 'apstaginit': 1, 'questions': 1, 'Universities': 1, 'page': 3, 'httpsuscentral1nytwfviprdcloudfunctionsnetgdpremailform': 1, 'seek': 1, 'Robert': 1, 'innings': 1, 'Autumn': 1, 'Milano': 1, 'governed': 1, 'Series': 4, 'Blow': 1, 'replica': 1, 'Asrct': 1, 'documentreferrer': 1, 'Crisis': 1, 'Business': 2, 'Killed': 1, 'discordant': 1, 'his': 11, 'German': 1, 'Upon': 1, '8': 1, 'index': 1, 'AntiSemitism': 2, 'city': 1, 'Ahmad': 1, 'windowRavensetUserContext': 1, 'FirstTime': 1, 'lining': 1, 'Mainstream': 1, 'delivery': 1, 'trial': 1, 'Definitive': 1, '13': 1, 'recordbreaking': 1, 'process': 1, 'Jair': 1, 'Lead': 1, 'citizenship': 1, 'you': 1, '1': 1, 'Life': 2, 'founder': 1, '3030': 1, 'think': 1, 'googletagcmdpushfunction': 1, 'Saudi': 2, 'Doe”': 1, 'English': 1, 'Populist': 1, 'Kamala': 1, 'State': 2, 'How': 1, 'Room': 1, 'match': 2, 'dataLayer': 1, 'handler': 1, 'none': 1, 'scriptonload': 1, 'Go': 1, 'aides': 1, 'Australians': 1, 'Fight': 1, 'windowlocationhref': 1, 'editorials': 2, 'Mr': 6, 'Boeing': 1, 'Brophy': 1, 'creation': 1, 'Plane': 1, '“John': 1, 'seems': 1, 'a': 26, 'Los': 1, 'Gunned': 1, 'PitchDark': 1, 'events': 2, 'script': 1, 'case': 1, 'correspondents': 1, 'Angela': 2, 'documentbodyappendChildimg': 1, 'will': 1, 'url': 3, 'Science': 2, 'fetchBidsfunctionqfarguments': 1, 'Multimedia': 1, 'gpgetElementsByTagNames0': 1, 'Memoir': 1, 'Union': 1, 'title': 2, 'Greenblatt': 1, 'Pass': 2, 'imprisoned': 1, 'Dutiful': 1, 'amid': 1, 'did': 1, 'A': 6, 'collecting': 1, 'running': 1, 'image': 1, 'Travel': 3, 'Growing': 1, 'List': 1, 'columnists': 2, 'Completely': 1, 'mobile': 1, 'M': 2, 'took': 1, 'todayx27s': 6, 'deadly': 1, '8CU2553YN': 1, 'Hate': 2, 'supporting': 1, 'conservative': 1, 'Choices': 2, 'Manager': 1, 'Many': 1, 'Long': 1, 'World': 6, 'watching': 3, 'El': 1, 'testCookie': 1, 'ways': 1, 'NYT': 2, 'after': 2, '22e6c1bf01e46b1d544191a6b99d12b554edff93': 1, 'record': 1, '15': 1, 'all': 1, 'maybe': 1, 'Corruption': 1, 'img': 1, 'Biden': 1, 'York': 9, 'install': 1, '737': 1, 'photography': 2, 'Toxicity': 1, 'qcraa9Qpushcraa9': 1, 'More': 1, 'review': 2, 'Unhittable': 1, 'that': 8, 'collected': 2, 'acceptance': 1, 'Log': 2, 'beginning': 1, 'national': 3, 'Editors’': 1, 'parties': 1, 'Getty': 1, 'windowWEDDINGSPATH': 1, 'rule': 1, 'Company': 1, 'since': 2, 'won’t': 1, 'Red': 4, 'dance': 2, 'Sports': 2, 'Survived': 1, 'includeRaven': 1, 'Beating': 1, 'Real': 3, 'Alsheikh': 1, 'true': 1, 'deal': 1, 'results': 1, 'come': 1, 'security': 1, 'sure': 1, 'Philbrick': 1, 'windowRavencaptureExceptionerrerr': 1, 'Terms': 2, 'him': 2, 'windowinnerWidth': 1, 'Wirecutter': 2, 'travel': 2, '11': 2, 'filings': 1, 'Navigation': 1, 'Were': 1, 'windownyterrorsravenInstalled': 1, '100Mathrandom': 1, 'Times': 6, 'food': 2, 'Than': 1, 'frame': 1, '2018': 2, 'Guardians': 1, 'this': 3, 'Florida': 1, 'congregations': 1, 'career': 1, 'manage': 2, 'Grief': 1, '1block': 3, 'Weeknight': 1, 'apstagwindowdocumentscriptcamazonadsystemcomaax2apstagjs': 1, 'Democratic': 1, 'imgsrc': 1, 'but': 2, 'leadership': 2, 'Unstoppable': 1, 'police': 2, 'Index': 1, 'elections': 2, 'Deep': 1, 'David': 4, 'Video': 2, 'applications': 1, 'puzzle': 1, 'people': 3, 'Hersh': 1, 'young': 1, 'ended': 1, 'feeling': 1, 'Down': 1, 'Opportunity': 1, 'houses': 1, 'sports': 2, 'an': 5, 'midterm': 1, 'Island': 1, 'art': 2, 'Today’s': 1, 'production': 1, 'old': 1, 'using': 1, 'used': 1, 'opinion': 6, 'two': 2, 'Once': 2, 'Leader': 1, 'officials': 1, 'your': 1, 'Jews': 4, 'siding': 1, 'columnist': 1, 'Aasync0': 1, 'season': 1, 'real': 3, 'West': 1, 'journeys': 2, 'Politics': 3, 'Indonesia': 2, 'Days': 1, 'Supported': 1, 'requested': 1, 'D': 1, 'Hannibal': 1, 'Price': 1, 'threedecade': 1, 'Achmad': 1, 'Country’s': 1, 'writer’s': 1, 'many': 2, 'magazine': 4, 'Bolsonaro': 1, 'store': 2, 'Ohio': 1, 'Sale': 1, 'zindex': 1, 'windowSENTRYSAMPLERATE': 1, 'contradict': 1, 'permission': 1, 'Information': 1, 'Massacre': 1, 'corporate': 1, 'Texas': 1, 'she': 1, 'draw': 1, 'googletagpubadssetRequestNonPersonalizedAds1': 1, 'involvement': 1, 'window': 1, 'Crossword': 2, 'Remember': 1, 'posted': 1, 'event': 1, 'googletagcmd': 2, 'Was': 1, 'windownyterrorslistforEachfunction': 1, 'traveler': 1, 'Paso': 1, 'Much': 2, 'elite': 1, 'Then': 1, 'Bowers': 3, 'Editorial': 1, 'City': 1, 'week': 1, 'rise': 1, 'Goes': 2, 'user': 1, 'id': 6, 'rest': 1, 'court': 1, 'Who': 2, 'Arabia': 1, 'be': 1, 'Bolsonaro’s': 2, 'debate': 1, 'surrendered': 1, 'match1': 1, 'still': 1, 'her': 2, 'campaign': 1, '1000px': 2, 'dealing': 1, 'was': 6, 'Service': 1, 'Style': 2, 'debris': 1, 'Boston': 2, 'living': 2, 'clear': 1, '30': 1, 'documentcreateElementscript': 1, 'Monday': 2, 'Network': 2, 'Comes': 1, 'By': 1, 'Dodgers': 1, 'l': 1, 'Install': 1, 'pubID': 1, 'design': 2, 'origin': 1, 'prd': 1, 'Islamic': 1, 'of': 25, 'intense': 1, 'windowGDPRPATH': 1, 'is': 4, 'We’d': 1, 'wlpush': 1, 'id1': 1, 'Sunday': 1, 'disastrous': 1, 'minutes': 1, 'Faith': 1, 'viassetsstaticassetsravenmin830a6d04a55c283934dd1893d6ddc66djs': 1, 'business': 2, 'synagogue': 4, 'IbrahimAssociated': 1, 'moneyed': 1, 'survivors': 1, 'each': 1, 'home': 5, 'jumped': 1, 'movies': 2, 'polemic': 1, 'DategetTime': 1, 'windowNYTDAbramedianettoggle': 1, 'Bazzi': 1, 'Brazil': 3, 'media': 2, 'leaders': 1, 'change': 2, 'instanceof': 2, 'sisection': 1, 'unfolded': 1, 'life': 1, 'Cooking': 3, 'services': 2, 'hostile': 1, 'windownyterrorstagsforEachfunction': 1, 'Chinese': 1, 'errerr': 2, 'Work': 1, 'the': 42, 'massacre': 3, 'At': 1, 'he': 3, 'ago': 1, 'Here': 1, 'America': 3, 'Advertise': 1, 'congress': 1, 'It”': 1, 'windowRavenconfighttps7bc8bccf5c254286a99b11c68f6bf4cesentryio178860': 1, 'Solve': 1, 'adServer': 1, 'Defy': 1, 'environment': 1, 'show': 1, 'style': 2, 'functionevent': 1, 'four': 1, 'Six': 1, 'tasked': 1, 'Suspect': 2, 'man': 1, 'redevelopment': 1, 'Our': 1, 'Map': 1, 'Charles': 1, 'upended': 1, 'arms': 1, 'Health': 2, 'For': 1, 'subjectmoduleinteractions': 1, 'experience': 1, 'windowJKIDDPATH': 1, 'then': 1, 'Nationalist': 1, 'president': 1, 'were': 3, 'Subscribe': 2, 'Leonhardt': 1, '“wanted': 1, 'Dinner': 1, 'year': 1, 'Father': 1, 'Light': 1, 'shooting': 1, 'chancellor': 1, 'sourceAppnytviinstant1': 1, 'windowRavensetTagsContexttag': 1, 'HongAssociated': 1, 'officers': 1, 'He': 1, 'have': 2, 'says': 1, 'democracy': 1, 'to': 24, 'C': 1, 'councilman': 1, 'Doubters': 1, 'tools': 2, 'Renkl': 1, 'out': 1, 'error': 1, 'restored': 1, 'when': 1, 'time': 1, 'populist': 1, 'Tags': 1, 'crew': 1, 'lawmaker': 1, 'mediaNetCID': 1, 'search': 1, 'Donald': 1, 'write': 1, 'absolute': 1, 'Influence': 1, 'Contributors': 2, 'words': 1, 'amp': 7, 'capped': 1, 'Angeles': 1, 'Chris': 1, 'Wants': 1, 'Barrio': 1, 'Sandy': 1, 'Mini': 1, 'Beto': 1, 'other': 1, 'Stop': 1, 'Help': 2, 'Next': 1, 'give': 1, 'gtmstart': 1, 'unlikely': 1, 'they': 1, 'targetingKeysfunctionreturnQ': 1, 'doesn’t': 1, 'Freed': 1, 'Jill': 1, 'secured': 1, 'Hiding': 1, 'received': 1, 'When': 1, 'Jae': 1, 'In': 3, 'wakeup': 1, 'own': 3, 'Must': 1, 'Blocked': 1, 'rate': 1, 'theater': 2, 'one': 1, 'Appreciating': 1, 'Wins': 1, 'fourth': 1, 'function': 4, 'before': 2, 'With': 1, 'Setting': 1, 'nowhere': 1, 'pockets': 1, 'ignoreErrors': 1, '‘The': 1, '999999': 1, 'followers': 1, 'runs': 1, 'what': 1, 'Judaism': 1, 'selfdiscovery': 1, '189': 2, 'into': 2, 'Lion': 1, 'know': 1, 'thoughts': 1, 'initfunctionqiarguments': 1, 'ISIS': 1, 'Daily’': 1, 'windowINSTALLRAVEN': 1, 'in': 23, 'gparentNodeinsertBeforeAg': 1, 'carrying': 1, 'FrancePresse': 1, 'Dead': 1, 'Eitan': 1, 'letters': 2, 'up': 1, '‘There': 1, 'thrust': 1, 'army': 1, 'Jakarta': 1, 'Transparent': 1, 'and': 15, 'ApcreateElements': 1, 'Year': 1, 'newsletters': 1, 'Shribman': 1, 'New': 10, 'side': 1, 'Picks': 1, 'Stuns': 1, 'release': 1, 'Is': 3, 'television': 3, 'experts': 1, 'education': 3, 'O’Rourke’s': 1, 'NY': 2, 'more': 5, 'functiona9apstAgifaa9return': 1, 'its': 4, 'Us': 1, 'lost': 1, 'Quit': 1, 'follows': 1, 'allies': 1, 'Vazquez': 1, 'Being': 1, 'Golinkin': 1, 'Friends': 1, 'critics': 1, 'Campaign': 1, 'antiSemitic': 1, 'httpsanytimescomsvcnytdatalayer': 1, 'raised': 1, 'thrilled': 1, 'become': 2, 'Deal': 1, 'rallies': 1, 'Board': 1, 'HanschkeReuters': 1, 'Best': 1, 'family': 1, 'wreckage': 1, 'cultivated': 1, 'nyta': 2, 'null': 1, 'backbone': 1, 'Past': 1, 'years': 4, 'norms': 1, 'NYC': 2, 'itself': 1, 'Adding': 1, 'making': 1, 'also': 2, 'referred': 1, '‘Five': 1, 'dual': 1, '中文': 1, 'world': 2, 'politics': 2, 'estate': 2, 'residents': 1, 'Margaret': 1, 'Words': 1, 'email': 1, 'with': 6, 'history': 1, 'Lev': 1, 'scriptsrc': 1, 'few': 1, 'money': 1, 'preceded': 1, 'Troubling': 1, 'months': 1, 'automobiles': 2, 'edition': 1, 'American': 4, 'Residents': 1, 'announcement': 1, 'climate': 3, 'over': 2, 'Crash': 1, 'Up': 1, 'Food': 2, 'Daily': 1, 'windowaddEventListenerload': 1, 'His': 1, 'turn': 1, 'powers': 1, 'Datenow': 1, 'Book': 1, 'windowNYTENVIRONMENT': 2, 'without': 1, 'Marcelo': 1, 'same': 1, 'nytimescom': 1, 'Sale’s': 1, 'flight': 2, 'who': 4, 'paper': 2, 'slurs': 1, 'Soloway': 1, 'Press': 2, 'Estate': 3, 'earlier': 1, 'params': 1, 'by': 3, '—': 3, 'stint': 1, 'approach': 1, 'or': 1, 'military': 2, 'Trump': 1, 'documentcookiematchnew': 1, 'Images': 1, 'plan': 1, 'Win': 1, 'Potent': 1, 'Off': 1, 'referrer': 1, 'includeRavenappendChildscript': 1, 'Ian': 1, 'Jonathan': 1, 'US': 5, 'had': 2, 'gtmjs': 1, 'advanced': 1, 'Air': 1, 'Feared': 1, 'tech': 2, 'Site': 3, 'fashion': 2, 'Hurricane': 1, 'T': 3, 'President': 1, 'Java': 1, 'Brazil’s': 2, 'offensive': 1, 'now': 1, 'our': 3, 'Dark': 1, 'news': 2, 'victory': 3, 'from': 2, 'Synagogue': 1, 'times': 2, 'where': 2, 'Listen': 1, 'much': 1, 'learned': 1, 'SEARCH': 1, 'growing': 1, 'off': 1, 'he’s': 1, 'Trump’s': 5, 'crises': 1, 'Can': 1, 'justperished': 1, 'Christian': 2, 'domestic': 1, 'Record': 1, 'hour': 1, 'are': 2, 'upshot': 2, 'books': 2, 'weddings': 2, 'Her': 1, 'troubled': 1, 'wl': 2, 'writes': 1, 'contact': 1, 'Reject': 1, 'party': 3, 'music': 2, 'Arts': 2, 'Reader': 2, 'busy': 1, 'most': 1, 'policies': 1, 'Returning': 1, 'appalled': 1, 'video': 6, 'windowRavencaptureExceptionerr': 1, 'silently': 2, 'details': 1, 'setDisplayBidsfunction': 1, 'Time': 1, 'president’s': 1, 'Johnny': 1, 'about': 2, 'it': 1, 'extremists': 1, 'Skip': 2, 'Sox': 3, 'Ad': 1, 'devastated': 1, 'content': 1, 'radical': 1, 'documentcreateElementimg': 1, 'on': 6, 'homeowners': 1, 'windowNYTDAbradfphometoggle': 1, 'rampage': 1, 'But': 1, 'obituaries': 2, 'rhetoric': 1, 'just': 3, 'site': 2, 'guide': 2, 'Its': 1, 'town': 1, 'smacked': 1, 'including': 1, 'Love': 1, '“She': 1, 'contractor': 1, 'Books': 2, 'told': 1, 'unprecedented': 1, 'increasingly': 1, 'night': 1, 'Americans': 1, 'You': 1, 'lows': 1, 'speech': 1, 'Poisoning': 1, 'News': 2, 'us': 2, 'ask': 1, 'Turned': 1, 'scrutiny': 1, 'Berlin': 1, 'sweettalking': 1, 'died': 1, 'Dishes’': 1, 'science': 2, 'O’Rourke': 2, 'Learning': 2, 'context': 1, 'need': 1, 'Pearce': 1, 'jobs': 2, 'only': 1, 'Breaking': 1, 'would': 2, 'throttled': 1, 'batters': 1, 'George': 1, 'listings': 1, 'Error': 3, 'awardwinning': 1, 'digital': 1, 'arts': 6, 'highlights': 1, 'not': 2, 'googletag': 3, 'around': 1, 'say': 1, 'social': 2, 'functionw': 1, 'than': 2, 'weird': 2, 'official': 1, 'crossword': 2, 'government’s': 1, 'Push': 1, 'Tolerance': 1, 'Letter': 1, 'Party': 1, 'unfinished': 1, 'imgstylecssText': 1, 'fighter': 1, 'can': 1, 'documentdomain': 1, 'steady': 1, 'team': 1, 'seven': 1, 'haven': 1, 'returns': 1, 'Harris': 1, 'errors': 1, 'My': 1, 'end': 1, 'windowEXPERIMENTALROUTEPREFIX': 1, 'Blue': 1, 'Contact': 1, 'regex': 1, 'Gab': 1, 'call': 1, 'Prasad': 1, 'Chancellor': 1, 'The': 23, 'taste': 1, 'gave': 1, 'FarRight': 1, 'position': 1, 'Review': 2, 'httpsetnytimescompixel': 1, 'like': 2, 'Evil’': 1, 'Paiva': 1, 'Will': 1, 'Con': 1, 'else': 3, 'regexexecdocumentcookie': 1, 'Tree': 2, 'saw': 1, 'slump': 1, 'reelection': 1, 'Selling': 1, 'testCookienytgdpr': 1, 'their': 6, 'surface': 1, '‘Pretty': 1, 'Ghost’': 1, 'name': 2, 'Montana': 1, 'eslintdisable': 1, 'SecurityError': 1, 'Held': 1, 'Pittsburgh': 4, 'as': 5, 'Español': 1, 'Magazine': 5}\n"
     ]
    }
   ],
   "source": [
    "import string\n",
    "\n",
    "from urllib import request \n",
    " \n",
    "url = 'http://www.nytimes.com'\n",
    "\n",
    "f = request.urlopen(url)\n",
    "source_bytes = f.read()\n",
    "source = source_bytes.decode('utf-8')\n",
    "\n",
    "source.strip()                                  #양 쪽 끝에 있는 공백을 없앤다.\n",
    "a = 0\n",
    "b = 0\n",
    "count = 0                                       #HTML 구문, 코드를 제외한 문자의 개수\n",
    "t1 = 0\n",
    "t2 = 0\n",
    "c = []\n",
    "\n",
    "i = 0\n",
    "# javaScript 태그 없애기\n",
    "while(i != 2):\n",
    "    while(t1 != -1):                                 # a != -1의 조건 기준은 source.find('<', b)에서 b 인덱스 이후로 < 문자가 더이상 존재하지 않을 때, a에다가 -1을 리턴해준다.\n",
    "        t1 = source.find('<script', t2)\n",
    "        t2 = source.find('</script>', t1)\n",
    "\n",
    "        if(t1 != t2):\n",
    "            source = source[:t1] + source[t2:]\n",
    "\n",
    "    t1 = 0\n",
    "    t2 = 0\n",
    "    i = i + 1\n",
    "    \n",
    "i = 0\n",
    "# CSS 태그 없애기\n",
    "while(i != 2):\n",
    "    while(t1 != -1):                                 # a != -1의 조건 기준은 source.find('<', b)에서 b 인덱스 이후로 < 문자가 더이상 존재하지 않을 때, a에다가 -1을 리턴해준다.\n",
    "        t1 = source.find('<style', t2)\n",
    "        t2 = source.find('</style>', t1)\n",
    "\n",
    "        if(t1 != t2):\n",
    "            source = source[:t1] + source[t2:]\n",
    "\n",
    "    t1 = 0\n",
    "    t2 = 0\n",
    "    i = i + 1\n",
    "\n",
    "while(a != -1):                                 # a != -1의 조건 기준은 source.find('<', b)에서 b 인덱스 이후로 \n",
    "                                                # < 문자가 더이상 존재하지 않을 때, a에다가 -1을 리턴해준다.\n",
    "    a = source.find('<', b) \n",
    "    b = source.find('>', a) \n",
    "    a1 = source.find('<', b)\n",
    "\n",
    "    if((a1 > b) and (a1 != a) ):                # > 이 사이에 있는 것이 문자열이라는 조건 <\n",
    "        count = count + len(source[(b+1):a1].split())        # 그 사이에 있는 것이 문자열인데 그 안에 단어가 몇개 있는지를 공백 기준 쪼갠다.\n",
    "        if(len(source[(b+1):a1].split()) > 0):\n",
    "            c = c + source[(b+1):a1].split()\n",
    "            \n",
    "c = ' '.join(c)        # 리스트는 구두문자를 제거하기 위한 translate를 사용할 수 없으므로 문자열로 만든다. 이 때, 각 원소의\n",
    "                       # 구분은 공백문자로 한다. 이후에 공백문자를 기준으로 다시 리스트를 만들 것이다.\n",
    "translator = str.maketrans('', '', string.punctuation)\n",
    "c = c.translate(translator)\n",
    "c = c.split()\n",
    "k = 0\n",
    "result = []\n",
    "\n",
    "#리스트 내에 구두문자를 제거한 단어들을 삽입한다.\n",
    "while(k < len(c)):\n",
    "    result.append((c[k],c.count(c[k])))\n",
    "    k = k + 1\n",
    "\n",
    "    \n",
    "#중복 문자 삭제\n",
    "result = set(result)\n",
    "\n",
    "#리스트로의 형변환\n",
    "result = list(result)\n",
    "\n",
    "# 사전화\n",
    "k = 0\n",
    "list_key = []\n",
    "list_value = []\n",
    "\n",
    "while(k < len(result)):\n",
    "    list_key.append(result[k][0])\n",
    "    list_value.append(result[k][1])\n",
    "    k = k + 1\n",
    " \n",
    "#key, value(반복횟수)를 리스트로 각각 저장했었기 때문에, 리스트와 리스트 간\n",
    "#mapping을 위해 zip()사용.\n",
    "\n",
    "t = zip(list_key, list_value)\n",
    "\n",
    "#zip 후, 사전으로 형변환\n",
    "t = dict(t)\n",
    "\n",
    "print(count) #중복을 제외한 단어의 개수\n",
    "print()\n",
    "print(t)\n"
   ]
  },
  {
   "cell_type": "markdown",
   "metadata": {},
   "source": [
    "### [소감]"
   ]
  },
  {
   "cell_type": "markdown",
   "metadata": {},
   "source": [
    "과제가 점점 난이도가 높아지고 있는것 같다. 이번 과제에서 실력의 부족함을 많이 느꼈다. 좀 더 열심히 공부해야 할 것 같다."
   ]
  }
 ],
 "metadata": {
  "kernelspec": {
   "display_name": "Python 3",
   "language": "python",
   "name": "python3"
  }
 },
 "nbformat": 4,
 "nbformat_minor": 2
}
