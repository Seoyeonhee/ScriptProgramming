{
 "cells": [
  {
   "cell_type": "markdown",
   "metadata": {},
   "source": [
    "# 과제"
   ]
  },
  {
   "cell_type": "markdown",
   "metadata": {},
   "source": [
    "### 문제 1"
   ]
  },
  {
   "cell_type": "markdown",
   "metadata": {},
   "source": [
    "파일 s.txt 내의 다음 내용과 함께 아래 문제의 코드를 제시하시오."
   ]
  },
  {
   "cell_type": "markdown",
   "metadata": {},
   "source": [
    " - pig ham\n",
    " - cat dog\n",
    " - ham bird\n",
    " - dog pig"
   ]
  },
  {
   "cell_type": "code",
   "execution_count": 35,
   "metadata": {},
   "outputs": [
    {
     "name": "stdout",
     "output_type": "stream",
     "text": [
      "pig ham\n",
      "cat dog\n",
      "ham bird\n",
      "dog pig\n"
     ]
    }
   ],
   "source": [
    "s = \"\"\"pig ham\n",
    "cat dog\n",
    "ham bird\n",
    "dog pig\"\"\"\n",
    "f = open('s.txt', 'w')\n",
    "f.write(s)\n",
    "print(s)\n",
    "f.close()"
   ]
  },
  {
   "cell_type": "markdown",
   "metadata": {},
   "source": [
    "#### [풀이]\n",
    "\n",
    "문제에서 주어진 내용을 s에 저장하고 s라는 이름의 파일을 쓰기모드로 생성하였고, f.write(s)를 이용하여 문자열을 파일에 기록하였다."
   ]
  },
  {
   "cell_type": "markdown",
   "metadata": {},
   "source": [
    "1) 파일 s.txt을 읽어서 각 라인에 있는 첫 번째 단어(문자열) 자체들을 기준으로 라인별 정렬후 파일 s1.txt에 그 결과를 기록하는 코드를 작성하시오. 즉, 프로그램 수행 후 s1.txt에 있는 파일 내용은 다음과 같다."
   ]
  },
  {
   "cell_type": "markdown",
   "metadata": {},
   "source": [
    "   - cat dog\n",
    "   - dog pig\n",
    "   - ham bird\n",
    "   - pig ham"
   ]
  },
  {
   "cell_type": "code",
   "execution_count": 52,
   "metadata": {},
   "outputs": [
    {
     "name": "stdout",
     "output_type": "stream",
     "text": [
      "cat dog\n",
      "dog pig\n",
      "ham bird\n",
      "pig ham\n"
     ]
    }
   ],
   "source": [
    "f = open('s.txt', 'r')\n",
    "f2 = open('s1.txt','w')\n",
    "s = f.read()\n",
    "f.close()\n",
    "s = s.split('\\n')\n",
    "\n",
    "for i in sorted(s):\n",
    "    f2.write(i)\n",
    "    f2.write('\\n')\n",
    "\n",
    "f2.close()\n",
    "f2 = open('s1.txt')\n",
    "\n",
    "for line in f2.readlines():\n",
    "    print(line, end=\"\")\n",
    "f2.close()"
   ]
  },
  {
   "cell_type": "markdown",
   "metadata": {},
   "source": [
    "#### [풀이]\n",
    "open()을 통해 기존에 있던 s.txt를 열고, 새로운 s1.txt파일을 새로 생성하였다. 이후 s.txt에 저장된 내용을 문자열로 받아온 후 split()함수를 사용해 줄바꿈을 기준으로 나누어 리스트로 만들었다. sorted()함수를 이용해 첫 글자를 기준으로 정렬하고 리스트의 원소를 줄을 바꿔가며 하나씩 출력하였다."
   ]
  },
  {
   "cell_type": "markdown",
   "metadata": {},
   "source": [
    "2) 파일 s.txt을 읽어서 각 라인에 있는 두 번째 단어(문자열) 자체들을 기준으로 라인별 정렬후 파일 s2.txt에 그 결과를 기록하는 코드를 작성하시오. 즉, 프로그램 수행 후 s2.txt에 있는 파일 내용은 다음과 같다."
   ]
  },
  {
   "cell_type": "markdown",
   "metadata": {},
   "source": [
    "   - ham bird\n",
    "   - cat dog\n",
    "   - pig ham\n",
    "   - dog pig"
   ]
  },
  {
   "cell_type": "code",
   "execution_count": 74,
   "metadata": {},
   "outputs": [
    {
     "name": "stdout",
     "output_type": "stream",
     "text": [
      "ham bird\n",
      "cat dog\n",
      "pig ham\n",
      "dog pig"
     ]
    }
   ],
   "source": [
    "f = open('s.txt')\n",
    "line = f.readlines()\n",
    "f.close()\n",
    "\n",
    "c = sorted(line, key=lambda line: line[4])\n",
    "\n",
    "f3 = open('s2.txt', 'w')\n",
    "f3.writelines(c)\n",
    "\n",
    "f3.close()\n",
    "f3 = open('s2.txt')\n",
    "for line in f3.readlines():\n",
    "    print(line, end=\"\")\n",
    "    \n",
    "f3.close()"
   ]
  },
  {
   "cell_type": "markdown",
   "metadata": {},
   "source": [
    "#### [풀이]\n",
    "각 라인의 두 번째 문자열을 기준으로 줄을 정렬하는 문제인데, 첫 번째 문제와 같이 입력을 받고, 두 번째 문자열을 찾기 위해 공백 문자를 기준으로 두 번째 문자열이 시작하는 인덱스의 값을 가지고 와서 sort()를 이용해 정렬하여 ham bird의 b, cat dog의 d, pig ham의 h, dog pig의 p의 순서로 정렬이 되었다."
   ]
  },
  {
   "cell_type": "markdown",
   "metadata": {},
   "source": [
    "3) 파일 s.txt을 읽어서 각 라인들에 있는 모든 단어들을 순차적으로 다시 나열하되 각 라인에 세 개의 단어들이 오도록 하여 s3.txt에 기록하는 코드를 작성하시오. 즉, 프로그램 수행 후 s3.txt에 있는 파일 내용은 다음과 같다."
   ]
  },
  {
   "cell_type": "markdown",
   "metadata": {},
   "source": [
    "   - pig ham cat\n",
    "   - dog ham bird\n",
    "   - dog pig"
   ]
  },
  {
   "cell_type": "code",
   "execution_count": 80,
   "metadata": {},
   "outputs": [
    {
     "name": "stdout",
     "output_type": "stream",
     "text": [
      "pig ham cat \n",
      "dog ham bird \n",
      "dog pig "
     ]
    }
   ],
   "source": [
    "count = 0\n",
    "\n",
    "f = open('s.txt','r')\n",
    "f2 = open('s3.txt','w')\n",
    "\n",
    "s = f.read()\n",
    "s = s.replace('\\n',' ')\n",
    "s = s.split(' ')\n",
    "\n",
    "for i in s:\n",
    "    count += 1\n",
    "    f2.write(i)\n",
    "    f2.write(' ')\n",
    "    if ( count == 3):\n",
    "        count = 0\n",
    "        f2.write('\\n')\n",
    "    \n",
    "f1.close()\n",
    "f1 = open('s3.txt')\n",
    "for line in f1.readlines():\n",
    "    print(line, end=\"\")\n",
    "    \n",
    "f1.close()"
   ]
  },
  {
   "cell_type": "markdown",
   "metadata": {},
   "source": [
    "#### [풀이]\n",
    "저장된 내용을 문자열로 받아온 후 위와 같이 리스트로 만든다. 반복문을 돌며 문자열의 문자의 단위마다 저장하고 해당 라인에 존재하는 단어의 수를 셀 수 있도록 카운트 변수를 1씩 증가시킨다. 각 라인에 3개의 단어가 오도록 하여야 하므로 카운트가 3이 되면 0으로 초기화해주고 줄바꿈을 실행할 수 있도록 하였다."
   ]
  },
  {
   "cell_type": "markdown",
   "metadata": {},
   "source": [
    "### 문제 2"
   ]
  },
  {
   "cell_type": "markdown",
   "metadata": {},
   "source": [
    "다음과 같은 조건들을 참고하여 회원 가입 및 로그인 프로그램을 작성하시오.\n",
    " - 1) 프로그램 시작 후 다음과 같은 메시지가 출력되어 1, 2, 3 중 하나의 값을 입력받도록 한다.\n",
    "        Welcome to Our Serviec\n",
    "          1. Sign Up\n",
    "          2. Sign In\n",
    "          3. Quit\n",
    " - 2) 1을 선택하면 ID, Password, Name, School의 4가지 정보를 입력받아 파일에 저장하는 프로그램을 작성한다.\n",
    "   - 2-1) 입력된 내용은 access.txt라는 이름의 텍스트 파일 내에 저장된다.\n",
    "   - 2-2) access.txt 파일의 각 라인에는 가입된 회원 각각의 정보가 \"[id]:[password], [name], [school]\" 형태로 저장된다.\n",
    "   - 2-3) 즉, 가입 회원이 10명이면 access.txt 파일 내에 라인 수도 정확히 10개이다.\n",
    "   - 2-4) 암호화 방식은 sha 모듈을 활용한다. sha 모듈 활용 방법은 본 문제의 마지막에 제시된 sha 활용 예를 참고한다.\n",
    "       - 즉, access.txt 파일 내에 password 정보는 암호화 되어 저장되어야 한다.\n",
    "   - 2-5) 회원 정보를 입력 받을 때 id를 입력 받은 직후 access.txt를 확인하여 이미 존재하는 id가 입력되었다면 다음 메시지를 출력하고 id정보를 다시 입력받는다.\n",
    "       - Sorry, the entered ID is already used.\n",
    " - 3) 2를 선택하면 ID, Password의 2가지 정보를 입력받는 프로그램을 작성한다.\n",
    "   - 3-1) 입력된 ID 정보가 access.txt에 존재하지 않으면 다음과 같은 메시지를 출력하고 다시 입력받는다.\n",
    "       - Sorry, you are not a registered member.\n",
    "   - 3-2) 입력된 ID가 올바르게 존재하지만 Password 정보가 access.txt 파일에 있는 정보와 불일치하면 다음과 같은 메시지를 출력하고 Password를 다시 입력받는다.\n",
    "       - Sorry, the entered password is not correct.\n",
    "       - 이 때에도 사용자가 입력한 Password 정보와 함께 sha 모듈이 활용되어야 한다.\n",
    "   - 3-3) 입력된 ID와 Password가 모두 올바르면 다름과 같은 메시지를 출력한다.\n",
    "       - Hello [name]!\n",
    "       - 위 [name]에는 access.txt에 기록되어 있는 name의 정보를 출력한다.\n",
    " - 4) 3을 선택하면 프로그램이 끝난다."
   ]
  },
  {
   "cell_type": "code",
   "execution_count": 83,
   "metadata": {},
   "outputs": [
    {
     "name": "stdout",
     "output_type": "stream",
     "text": [
      "Welcome to Our Service\n",
      " 1. Sign Up \n",
      " 2. Sign in \n",
      " 3. Quit \n",
      "\n",
      "\n",
      ">> please select menu : 1\n",
      "Please input user information\n",
      "User ID : yeonhee\n",
      "User Password : 19970218\n",
      "User Name : 2015136060\n",
      "User School : koreatech\n",
      "\n",
      "Welcome to Our Service\n",
      " 1. Sign Up \n",
      " 2. Sign in \n",
      " 3. Quit \n",
      "\n",
      "\n",
      ">> please select menu : 2\n",
      "Please input ID and Password\n",
      "User ID : yeonhee\n",
      "User Password : 19970218\n",
      "Hello yeonhee: [\"b'2b3c73a000f261d0b577fa17e992be35'\", '2015136060', 'koreatech'] !\n",
      "Welcome to Our Service\n",
      " 1. Sign Up \n",
      " 2. Sign in \n",
      " 3. Quit \n",
      "\n",
      "\n",
      ">> please select menu : 3\n"
     ]
    }
   ],
   "source": [
    "from hashlib import blake2b\n",
    "from hmac import compare_digest\n",
    "\n",
    "SECRET_KEY = b'pseudorandomly generated server secret key'\n",
    "AUTH_SIZE = 16\n",
    "\n",
    "open(\"access.txt\", \"w\")\n",
    "\n",
    "def sign(cookie):\n",
    "    h = blake2b(digest_size=AUTH_SIZE, key=SECRET_KEY)\n",
    "    h.update(cookie)    \n",
    "    return h.hexdigest().encode('utf-8')\n",
    "\n",
    "#가입\n",
    "def signUp():\n",
    "    print(\"Please input user information\")\n",
    "    user_info = []                                 #사용자 아이디를 제외한 정보를 저장할 리스트\n",
    "\n",
    "    id_plain = str(input(\"User ID : \"))            #사용자 아이디 저장\n",
    "    acc = open(\"access.txt\", \"r\")\n",
    "    user_id = []                                   #파일에 저장된 사용자 아이디 목록을 저장할 리스트\n",
    "      \n",
    "    for line in acc:\n",
    "        user_id.append(line.split()[0].strip(':'))\n",
    "    \n",
    "    while id_plain in user_id:\n",
    "        print(\"Sorry, the entered ID is already used\")\n",
    "        yn = str(input(\"Are you want to re-input your id? (Y / N)\"))\n",
    "        if yn == 'Y' or yn == 'y':\n",
    "            id_plain = str(input(\"User ID : \"))\n",
    "        elif yn == 'N' or yn == 'n':\n",
    "            print(\"Return to main menu\")\n",
    "            return 0\n",
    "\n",
    "        \n",
    "    password_plain = str(input(\"User Password : \"))\n",
    "    password_encrypted = sign((password_plain).encode('utf-8'))\n",
    "#encode type 'utf-8'\n",
    "    user_info.append(password_encrypted)\n",
    "    user_info.append(str(input(\"User Name : \")))\n",
    "    user_info.append(str(input(\"User School : \")))\n",
    "\n",
    "    acc = open(\"access.txt\", \"a+\")\n",
    "    print()\n",
    "    \n",
    "    acc.writelines(id_plain + \": \"+ str(user_info[0]) +\", \"+ user_info[1] + \", \"+ user_info[2]+ '\\n')\n",
    "    acc.close()\n",
    "    \n",
    "#로그인    \n",
    "def signIn():\n",
    "    acc = open(\"access.txt\", \"r\")\n",
    "    print(\"Please input ID and Password\")\n",
    "    id_plain = str(input(\"User ID : \"))\n",
    "    user_id = []\n",
    "    user_pw = []\n",
    "    for line in acc:\n",
    "        user_id.append(line.split(\":\")[0])\n",
    "        user_pw.append(line.split(\":\")[1].strip().split(\", \"))\n",
    "\n",
    "    user_acc = dict(zip(user_id, user_pw))\n",
    "     \n",
    "    while (id_plain in user_id) == False:\n",
    "        print(\"Sorry, you are not registered member.\")\n",
    "        yn = str(input(\"Are you want to re-input your id? (Y / N)\"))\n",
    "        if yn == 'Y' or yn == 'y':\n",
    "            id_plain = str(input(\"User ID : \"))\n",
    "        elif yn == 'N' or yn == 'n':\n",
    "            print(\"Return to main menu\")\n",
    "            return 0\n",
    "        \n",
    "        \n",
    "    password_plain = str(input(\"User Password : \"))\n",
    "    password_encrypted = sign((password_plain).encode('utf-8'))\n",
    "    password_encrypted = str(password_encrypted)\n",
    "    \n",
    "    \n",
    "    while (password_encrypted == user_acc[id_plain][0]) == False:\n",
    "        print(\"Sorry, the entered password is not correct\")\n",
    "        yn = str(input(\"Are you want to re-input your password? (Y / N)\"))\n",
    "        if yn == 'Y' or yn == 'y':\n",
    "            password_plain = str(input(\"User Password : \"))\n",
    "            password_encrypted = sign((password_plain).encode('utf-8'))\n",
    "            password_encrypted = str(password_encrypted)\n",
    "        elif yn == 'N' or yn == 'n':\n",
    "            print(\"Return to main menu\")\n",
    "            return 0\n",
    "    print(\"Hello\", id_plain + \":\", user_acc[id_plain][:], \"!\")\n",
    "    acc.close()\n",
    "\n",
    "def Quit():\n",
    "    return 0\n",
    "\n",
    "menu = {1 : signUp, 2 : signIn, 3 : Quit}\n",
    "\n",
    "def selMenu():\n",
    "    sel = 0\n",
    "    print(\"Welcome to Our Service\")\n",
    "    \n",
    "    print(\" 1. Sign Up \\n 2. Sign in \\n 3. Quit \\n\\n\")\n",
    "    sel = int(input(\">> please select menu : \"))\n",
    "    \n",
    "    while(sel > 3 or sel < 1):\n",
    "        print(\"\\n Please input 1 to 3! \\n\")\n",
    "        sel = int(input(\">> please select menu : \"))\n",
    "\n",
    "    return sel\n",
    "sel = 0\n",
    "\n",
    "while sel != 3:\n",
    "    sel = selMenu()\n",
    "    menu[sel]()"
   ]
  },
  {
   "cell_type": "markdown",
   "metadata": {},
   "source": [
    "#### [풀이]\n",
    "간단하게 문제를 풀어보면 큰 틀에서 이 문제에서 구현해야 할 기능들은 메뉴 선택, 가입, 로그인, 그리고 종료이다. 가입, 로그인, 메뉴는 각 함수로 나누고, 사전 객체를 넣어서 메뉴의 번호와 대응하도록 구현하였다. 가입(Sign Up)기능을 구현하는 것의 핵심은 신규 사용자의 ID가 기존 사용자의 ID와 중복되지 않도록 체크하는 것이고, 이를 구현하기 위해서 가입된 사용자의 정보가 저장된 access.txt 파일에서 적절하게 사용자의 정보를 파싱하고, 입력된 신규 사용자의 정보와 비교하여 ID를 중복되지 않도록 한다.\n",
    "\n",
    "사용자 정보 내용을 split, strip, 슬라이싱을 이용하여 적절하게 사용자의 ID만 리스트로 추출한다. 그리고 그 ID와 새로 입력받은 ID를 비교하여 다르면 입력받을 수 있도록 하는 것이다.\n",
    "\n",
    "사용자 정보의 비밀번호는 hashlib를 이용하여 암호화를 하고 저장한다. 로그인(Sign In)기능에서 구현해야 하는 것은 기존 사용자의 ID가 입력되었는지를 구별하고, 새로 입력받은 비밀번호와 기존의 암호화된 비밀번호가 서로 일치하는지(decode 이용)를 비교하여 잘못된 정보가 입력되었을 시 다시 재입력 받도록 하며, 일치한다면 사용자의 정보를 출력하도록 한다."
   ]
  },
  {
   "cell_type": "markdown",
   "metadata": {},
   "source": [
    "### 문제 3"
   ]
  },
  {
   "cell_type": "markdown",
   "metadata": {},
   "source": [
    "range() 함수와 유사한 frange() 함수를 다음 조건을 참고하여 만드시오.\n",
    " - 1) frange()의 인자 구성은 다음과 같이 range와 동일하지만 각 인수들은 음수를 받지 않는다고 가정한다.\n",
    "         range(stop)\n",
    "         range(start, stop[, step])\n",
    " - 2) frange() 함수의 인자에 대한 기본 시작(start) 값은 0.0이고, 기본 단계(step) 값은 0.1이다.\n",
    " - 3) frange 사용 예\n",
    "     - 3-1) frange(0.5)\n",
    "         - [0.0, 0.1, 0.2, 0.3, 0.4]\n",
    "     - 3-2) frange(1.0, 2.0)\n",
    "         - [1.0, 101, 1.2, 1.3, 1.4, 1.5, 1.6, 1.7, 1.8, 1.9]\n",
    "     - 3-3) frange(2.2, 4.0, 0.5)\n",
    "         - [2.2, 2.7, 3.2, 3.7]"
   ]
  },
  {
   "cell_type": "code",
   "execution_count": 87,
   "metadata": {},
   "outputs": [
    {
     "name": "stdout",
     "output_type": "stream",
     "text": [
      "[0.0, 0.1, 0.2, 0.3, 0.4]\n",
      "[1.0, 1.1, 1.2, 1.3, 1.4, 1.5, 1.6, 1.7, 1.8, 1.9]\n",
      "[1.0, 1.5, 2.0, 2.5, 3.0, 3.5]\n"
     ]
    }
   ],
   "source": [
    "# 가변 인수 리스트\n",
    "# decimal 모듈은 신속하고 정확하게 반올림 된 10진수 부동 소수점 연산을\n",
    "#을 지원한다.\n",
    "\n",
    "import sys, os\n",
    "import math, cmath\n",
    "from decimal import *\n",
    "\n",
    "def frange(stmp, *arg):\n",
    "    result = []\n",
    "    \n",
    "    #quantize()는 반올림 자리 수, rounding은 반올림, 반내림 옵션\n",
    "    if len(arg) == 0:\n",
    "        start = Decimal(0.0).quantize(Decimal(\".000001\"), rounding = ROUND_DOWN)\n",
    "        while start < stmp:\n",
    "            result.append(float(start))\n",
    "            start += Decimal(0.1).quantize(Decimal(\".000001\"), rounding = ROUND_DOWN)\n",
    "        return result\n",
    "\n",
    "    else:\n",
    "        start = Decimal(stmp).quantize(Decimal(\".000001\"), rounding = ROUND_DOWN)\n",
    "        stop = Decimal(arg[0]).quantize(Decimal(\".000001\"), rounding = ROUND_DOWN)\n",
    "        if len(arg) == 2:\n",
    "            step = Decimal(arg[1]).quantize(Decimal(\".000001\"), rounding = ROUND_DOWN)\n",
    "        else:\n",
    "            step = Decimal(0.1).quantize(Decimal(\".000001\"), rounding = ROUND_DOWN)\n",
    "\n",
    "        while start < stop:\n",
    "            result.append(float(start))\n",
    "            start += step\n",
    "        return result\n",
    "    \n",
    "print(frange(0.5))\n",
    "print(frange(1.0, 2.0))\n",
    "print(frange(1.0, 4.0, 0.5))"
   ]
  },
  {
   "cell_type": "markdown",
   "metadata": {},
   "source": [
    "#### [풀이]\n",
    "이 문제를 해결하기 위해 가변인수를 사용하였다. 우선, 인자가 몇 개가 입력되었는지를 체크하는 하여, 인자의 개수에 따라 기능을 나누었다. 인자 arg가 0개로 디폴트이면 부터 입력한 값보다 작은 단위 0.1 단위로 리스트로 출력하고 arg가 1개이면 입력 값부터 arg 값보다 작은 값을 0.1단위로 출력하며, arg가 2개이면 start:stop:step으로 보면 된다."
   ]
  },
  {
   "cell_type": "markdown",
   "metadata": {},
   "source": [
    "### 문제 4"
   ]
  },
  {
   "cell_type": "markdown",
   "metadata": {},
   "source": [
    "가변인수를 받는 함수 sum()을 다음과 같은 조건을 참고하여 구현하시오\n",
    " - sum() 사용 예\n",
    "     - sum()\n",
    "         - 0\n",
    "     - sum(1, 2)\n",
    "         - 3\n",
    "     - sum(1, 2, 3, 4, 5)\n",
    "         - 15\n",
    "     - sum(1, 5, 7, 2, -10)\n",
    "         - 5"
   ]
  },
  {
   "cell_type": "code",
   "execution_count": 85,
   "metadata": {},
   "outputs": [
    {
     "name": "stdout",
     "output_type": "stream",
     "text": [
      "0\n",
      "3\n",
      "15\n",
      "5\n"
     ]
    }
   ],
   "source": [
    "import sys, os\n",
    "import math, cmath\n",
    "\n",
    "def sum(stmp=0, *arg):\n",
    "    result = stmp\n",
    "    \n",
    "    if(len(arg) > 0):\n",
    "        x = 0\n",
    "        while(x < len(arg)):\n",
    "            result += arg[x]\n",
    "            x = x+1\n",
    "        \n",
    "    return result\n",
    "\n",
    "print(sum())\n",
    "print(sum(1,2))\n",
    "print(sum(1,2,3,4,5))\n",
    "print(sum(1,5,7,2,-10))"
   ]
  },
  {
   "cell_type": "markdown",
   "metadata": {},
   "source": [
    "#### [풀이]\n",
    "위 문제는 가변인수를 이용하는 문제이다. 받은 인자의 개수를 구해서, 반복문을 통해 입력된 인자를 모두 더한 값을 반환하는 sum()함수를 생성하여 실행하였다."
   ]
  },
  {
   "cell_type": "markdown",
   "metadata": {},
   "source": [
    "### 문제 5"
   ]
  },
  {
   "cell_type": "markdown",
   "metadata": {},
   "source": [
    "여러 단어로 이루어진 문자열을 입력받아 각 단어의 첫글자로 이루어진 단어를 대문자로 출력하는 myinitial() 함수를 다음 조건을 참고하여 작성하시오.\n",
    " - 1) 다음에 제시되는 함수들을 모두 이용해야 한다.\n",
    "     - split\n",
    "     - map\n",
    "     - join\n",
    " - 2) myinitial() 함수 사용 예\n",
    "     - myinitial(\"as soon as possiible\")\n",
    "         - ASAP"
   ]
  },
  {
   "cell_type": "code",
   "execution_count": 86,
   "metadata": {},
   "outputs": [
    {
     "name": "stdout",
     "output_type": "stream",
     "text": [
      "ASAP\n"
     ]
    }
   ],
   "source": [
    "def myinitial(input_str):\n",
    "    result = input_str.split()\n",
    "    return ''.join(map(lambda x : x.capitalize()[0], result))\n",
    "    \n",
    "print(myinitial(\"as soon as possible\"))"
   ]
  },
  {
   "cell_type": "markdown",
   "metadata": {},
   "source": [
    "#### [풀이]\n",
    "문자열을 매개변수로 받으면 split함수를 이용하여 공백을 기준으로 리스트를 만든다. 그리고 각 리스트의 각 원소의 첫 문자를 captialize()을 이용하여 대문자로 만드는 것을 람다함수로 구현하되, 각 앞자리만 출력될 수 있도록 출력 형태를 x.capitalize()[0]으로 한다."
   ]
  },
  {
   "cell_type": "markdown",
   "metadata": {},
   "source": [
    "### 문제 6"
   ]
  },
  {
   "cell_type": "markdown",
   "metadata": {},
   "source": [
    "음이 아닌 정수 n을 입력받으면 n! (factorial)을 계산하는 myfact() 함수를 재귀적 함수로 구현하시오.\n",
    " - [옵션] 참을 수 있는 정도 만큼의 수행시간을 직접 기다려보면서 n을 늘려보도록 합시다."
   ]
  },
  {
   "cell_type": "code",
   "execution_count": 88,
   "metadata": {},
   "outputs": [
    {
     "name": "stdout",
     "output_type": "stream",
     "text": [
      "120\n"
     ]
    }
   ],
   "source": [
    "def myfact(n):\n",
    "    if(n == 1):\n",
    "        return 1;\n",
    "    else:\n",
    "        return n * myfact(n-1)\n",
    "        \n",
    "print(myfact(5))"
   ]
  },
  {
   "cell_type": "markdown",
   "metadata": {},
   "source": [
    "#### [풀이]\n",
    "재귀적인 방식으로 factorial 함수를 구현하는 myfact()라는 함수를 구현하였다. 재귀함수의 종료 조건을 n이 1이 되었을 경우로 설정하여 1씩 줄어들며 숫자들을 곱해나가다 n이 1이 되었을 때는 더이상 곱해질 숫자가 없으므로 재귀함수를 빠져나온다. 5를 인자로 가질 때 5*4*3*2*1이 계산되어 120이 출력되는 것을 확인할 수 있다."
   ]
  },
  {
   "cell_type": "markdown",
   "metadata": {},
   "source": [
    "### 문제 7"
   ]
  },
  {
   "cell_type": "markdown",
   "metadata": {},
   "source": [
    "(서술형) import string과 from string import* 의 차이점을 설명하시오."
   ]
  },
  {
   "cell_type": "markdown",
   "metadata": {},
   "source": [
    "- import string은 string이라는 모듈을 불러오는 가장 기본적인 방법이다. string.<함수명>()이라는 형태로 이름 공간이 존재하고, string.0000의 메소드들을 사용할 수 있다.\n",
    "- 반면 from string import* 는 string이라는 모듈에 존재하는 _ 를 제외한 모든 이름들을 무자격 형태로 불러오는 방법이다. 모듈 이름을 따로 앞에 붙이지 않고 바로 함수 이름을 사용할 수 있다는 점에서 import string과 큰 차이가 있다."
   ]
  },
  {
   "cell_type": "markdown",
   "metadata": {},
   "source": [
    "### 문제 8 [Incremental Project]"
   ]
  },
  {
   "cell_type": "markdown",
   "metadata": {},
   "source": [
    "이전 Assignment3의 마지막 문제는 웹 URL로 지정된 웹페이지를 문자열로 가져와 모든 HTML 태그 및 CSS와 Javascript를 제외한 순수 텍스트를 얻어내고 그 안에 존재하는 단어를 추출하여 각 단어들에 대해 출현빈도를 사전형태({'world':2, 'hello':1, 'python':1})로 저장하여 출력하는 것이었다. 이번에는 Assignment 3를 확장하여 다음과 같은 조건을 만족하도록 구현하시오."
   ]
  },
  {
   "cell_type": "code",
   "execution_count": 1,
   "metadata": {},
   "outputs": [
    {
     "ename": "UnicodeEncodeError",
     "evalue": "'cp949' codec can't encode character '\\xf1' in position 95503: illegal multibyte sequence",
     "output_type": "error",
     "traceback": [
      "\u001b[1;31m---------------------------------------------------------------------------\u001b[0m",
      "\u001b[1;31mUnicodeEncodeError\u001b[0m                        Traceback (most recent call last)",
      "\u001b[1;32m<ipython-input-1-002a730e3989>\u001b[0m in \u001b[0;36m<module>\u001b[1;34m()\u001b[0m\n\u001b[0;32m     66\u001b[0m \u001b[1;33m\u001b[0m\u001b[0m\n\u001b[0;32m     67\u001b[0m \u001b[1;32mfor\u001b[0m \u001b[0murls\u001b[0m \u001b[1;32min\u001b[0m \u001b[0murlList\u001b[0m\u001b[1;33m:\u001b[0m\u001b[1;33m\u001b[0m\u001b[0m\n\u001b[1;32m---> 68\u001b[1;33m     \u001b[0mparsingUrl\u001b[0m\u001b[1;33m(\u001b[0m\u001b[0murls\u001b[0m\u001b[1;33m)\u001b[0m\u001b[1;33m\u001b[0m\u001b[0m\n\u001b[0m\u001b[0;32m     69\u001b[0m \u001b[1;33m\u001b[0m\u001b[0m\n\u001b[0;32m     70\u001b[0m \u001b[1;33m\u001b[0m\u001b[0m\n",
      "\u001b[1;32m<ipython-input-1-002a730e3989>\u001b[0m in \u001b[0;36mparsingUrl\u001b[1;34m(url)\u001b[0m\n\u001b[0;32m     12\u001b[0m \u001b[1;33m\u001b[0m\u001b[0m\n\u001b[0;32m     13\u001b[0m     \u001b[0mhtmlFile\u001b[0m \u001b[1;33m=\u001b[0m \u001b[0mopen\u001b[0m\u001b[1;33m(\u001b[0m\u001b[0murl\u001b[0m\u001b[1;33m[\u001b[0m\u001b[1;36m7\u001b[0m\u001b[1;33m:\u001b[0m\u001b[1;33m]\u001b[0m\u001b[1;33m+\u001b[0m\u001b[1;34m\".html\"\u001b[0m\u001b[1;33m,\u001b[0m \u001b[1;34m\"w\"\u001b[0m\u001b[1;33m)\u001b[0m\u001b[1;33m\u001b[0m\u001b[0m\n\u001b[1;32m---> 14\u001b[1;33m     \u001b[0mhtmlFile\u001b[0m\u001b[1;33m.\u001b[0m\u001b[0mwrite\u001b[0m\u001b[1;33m(\u001b[0m\u001b[0ms\u001b[0m\u001b[1;33m)\u001b[0m\u001b[1;33m\u001b[0m\u001b[0m\n\u001b[0m\u001b[0;32m     15\u001b[0m     \u001b[0mhtmlFile\u001b[0m\u001b[1;33m.\u001b[0m\u001b[0mclose\u001b[0m\u001b[1;33m(\u001b[0m\u001b[1;33m)\u001b[0m\u001b[1;33m\u001b[0m\u001b[0m\n\u001b[0;32m     16\u001b[0m \u001b[1;33m\u001b[0m\u001b[0m\n",
      "\u001b[1;31mUnicodeEncodeError\u001b[0m: 'cp949' codec can't encode character '\\xf1' in position 95503: illegal multibyte sequence"
     ]
    }
   ],
   "source": [
    "import sys, os, urllib, string, pickle\n",
    "from urllib import request \n",
    "from urllib.parse import urlparse\n",
    "from http.cookiejar import CookieJar\n",
    "\n",
    "urlList = {\"http://www.cnn.com\", \"http://www.nytimes.com\", \"http://www.yeah.com/\", \"http://www.programcreek.com/\", \"http://www.amazon.fr/\"}\n",
    "\n",
    "def parsingUrl(url):\n",
    "    s = urllib.request.urlopen(url)\n",
    "    source_bytes = s.read()\n",
    "    s = source_bytes.decode('utf-8')\n",
    "    \n",
    "    htmlFile = open(url[7:]+\".html\", \"w\")\n",
    "    htmlFile.write(s)\n",
    "    htmlFile.close()\n",
    "\n",
    "    n = 0\n",
    "    pivot = 0\n",
    "    while(n < len(s)):\n",
    "        if(s[n] == \"<\" and s[n + 1 : n + 7].lower() == \"script\"):\n",
    "            pivot = n\n",
    "            while(s[pivot] != \"<\" or s[pivot + 1] != \"/\" or s[pivot + 2 : pivot + 8].lower() != \"script\"):\n",
    "                pivot += 1\n",
    "            s = s[0:n] + ' ' + s[pivot+9:]\n",
    "    \n",
    "        elif(s[n] == \"<\" and s[n + 1 : n + 6].lower() == \"style\"):\n",
    "            pivot = n\n",
    "            while(s[pivot] != \"<\" or s[pivot + 1] != \"/\" or s[pivot + 2 : pivot + 7].lower() != \"style\"):\n",
    "                pivot += 1\n",
    "            s = s[0:n] + ' ' + s[pivot+8:]\n",
    "\n",
    "        elif(s[n] == '<'):\n",
    "            pivot = n\n",
    "            while(s[pivot] != '>'):\n",
    "                pivot += 1\n",
    "            s = s[0:n] + ' ' + s[pivot+1:]\n",
    "        elif(s[n] == '\\n' or s[n] == '\\t'):\n",
    "            s = s[0:n] + ' ' + s[n+1:]\n",
    "        elif(s[n] in string.punctuation):\n",
    "            s = s[0:n] + s[n+1:]\n",
    "        else:\n",
    "            n += 1\n",
    "\n",
    "    s2 = s.split()\n",
    "    s3 = ' '.join(s2)\n",
    "    n = 0\n",
    "    D = {}\n",
    "    i = 0\n",
    "    \n",
    "    while(n < len(s2)):\n",
    "        while(i < len(stopword)):\n",
    "            if(s2[n] == stopword[i]):\n",
    "                s2.remove(s2[n])\n",
    "            i = i+1\n",
    "        n = n+1\n",
    "    \n",
    "    while(n < len(s2)):\n",
    "        if(s2[n] in D.keys()):\n",
    "            D[s2[n]] += 1\n",
    "        else:\n",
    "            D[s2[n]] = 1\n",
    "        n += 1\n",
    "\n",
    "    freqFile = open(url[7:]+\".words.frequency\", \"w\")\n",
    "    pickle.dump(D, freqFile)\n",
    "\n",
    "for urls in urlList:\n",
    "    parsingUrl(urls)\n",
    "    \n",
    "    \n",
    "# 위 문제에서 저장한 모든 words.frequency 파일들을 로드하여 본인이\n",
    "#저장하여 분석한 사이트들에서 가장 많이 출현한 단어를 뽑아 제시\n",
    "\n",
    "maxValues = 0\n",
    "maxKeys = ' '\n",
    "maxUrls = ' '\n",
    "\n",
    "totalDict = {}\n",
    "\n",
    "for urls in urlList:\n",
    "    freqFile = open(urls[7:] + \".words.frequency\")\n",
    "    D = pickle.load(freqFile)\n",
    "    keys = totalDict.keys()\n",
    "    for key, value in D.items():\n",
    "        if(key in keys):\n",
    "            totalDict[key] += value\n",
    "        else:\n",
    "            totalDict[key] = value\n",
    "\n",
    "for key, value in totalDict.items():\n",
    "    if(maxValues < value):\n",
    "        maxValues = value\n",
    "        maxKeys = [key]\n",
    "    elif(maxValues == value):\n",
    "        maxKeys.append(key)\n",
    "\n",
    "print(\"The max of frequency key is\",)\n",
    "for s in maxKeys:\n",
    "    print(s,)\n",
    "\n",
    "print(':', maxValues)\n",
    "print(\"in\", urlList)"
   ]
  },
  {
   "cell_type": "markdown",
   "metadata": {},
   "source": [
    "문제7) 본인이 생각하기에 상업적으로도 완성도 높은 검색 로봇/엔진이 되려면 어떤 기능들이 추가적으로 구현되어야 할지 최소 1가지 이상 제시하시오.\n",
    "\n",
    "- 내가 생각하기에 상업적 역할을 잘 수행할 수 있는 검색 엔진은 사용자가 관심있어하는 분야 혹은 주제를 이용해 사용자가 관심있어 할 만한 광고들을 보여줌으로써 광고수익을 많이 낼 수 있는 검색 엔진이라고 생각한다. 따라서 사용자의 검색 기록의 키워드들을 이용하여 사용자의 흥미를 유추할 수 있는 기능이 추가적으로 구현된다면 좋을 것이라고 생각한다."
   ]
  },
  {
   "cell_type": "markdown",
   "metadata": {},
   "source": [
    "#### [풀이]\n",
    "\n",
    "지난 과제에서 요구한 결과에 파일 입출력이라는 것이 추가되었는데, 문제의 요구사항에 맞추어 url의 html소스를 html파일로 저장하고, 단어 빈도가 사전형태로 저장되도록 pickle 기능을 활용하여 word.frquency를 url이름 뒤에 붙인 파일명으로 저장할 것이다. 복수의 url을 받기 때문에 단일 url의 html소스코드와 빈도수를 파일로 저장하는 코드를 함수로 묶고, url을 리스트에 저장하여 반복문으로 함수에 넣어서 출력할 것이다. 그러나 계속 UnicodeEncodeError 에러가 발생하는데 제출까지 해결이 되지 않았다. 구글에 검색해보니 파일 읽기 쓰기 오류인것 같은데 해결법을 알지 못하겠다.\n",
    "\n",
    "검색엔진을 제외한 부분을 코딩해보았다. 그러나 python 버전이 바뀌어 새로운 예제를 찾기 어렵고, return 타입이나, 매개변수 형태가 바뀌어 해결하기가 쉽지 않다."
   ]
  },
  {
   "cell_type": "markdown",
   "metadata": {},
   "source": [
    "## [소감]\n",
    "이번 과제는 그동안의 과제에 비해 유난히 어려운 과제였던 것 같다. 특히, 문제 2번에서는 암호화하고 암호화된 비밀번호와 입력받은 비밀번호 비교를 비교하는것을 찾기가 힘들었고, 파이썬의 버전이 점점 바뀌다보니 예제나 문제 해결방법을 찾기가 힘들었던 것 같다."
   ]
  }
 ],
 "metadata": {
  "kernelspec": {
   "display_name": "Python 3",
   "language": "python",
   "name": "python3"
  },
  "language_info": {
   "codemirror_mode": {
    "name": "ipython",
    "version": 3
   },
   "file_extension": ".py",
   "mimetype": "text/x-python",
   "name": "python",
   "nbconvert_exporter": "python",
   "pygments_lexer": "ipython3",
   "version": "3.7.0"
  }
 },
 "nbformat": 4,
 "nbformat_minor": 2
}
