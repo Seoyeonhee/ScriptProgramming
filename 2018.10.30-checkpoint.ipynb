{
 "cells": [
  {
   "cell_type": "code",
   "execution_count": 2,
   "metadata": {},
   "outputs": [
    {
     "name": "stdout",
     "output_type": "stream",
     "text": [
      "9\n",
      "-1\n",
      "\n",
      "1\n"
     ]
    }
   ],
   "source": [
    "def add(a, b):\n",
    "    return a + b\n",
    "\n",
    "def sub(a, b):\n",
    "    return a - b\n",
    "\n",
    "action = {0: add, 1: sub}   # 함수 이름을 사전의 값으로 사용\n",
    "print(action[0](4, 5))\n",
    "print(action[1](4, 5))\n",
    "\n",
    "print()\n",
    "\n",
    "# 함수 내용 변경 불가능. 내용 변경하면 새로운 객체를 생성하고 레퍼런스하게되는것\n",
    "action2 = {add: 1, sub: 2}  # 함수 이름을 사전의 키로 사용\n",
    "print(action2[add])"
   ]
  },
  {
   "cell_type": "code",
   "execution_count": 4,
   "metadata": {},
   "outputs": [
    {
     "name": "stdout",
     "output_type": "stream",
     "text": [
      "<class 'dict'>\n",
      "\n",
      "{'one': 1, 'two': 2}\n",
      "{'one': 1, 'two': 2}\n",
      "{'one': 1, 'two': 2}\n"
     ]
    }
   ],
   "source": [
    "d = dict()\n",
    "print(type(d))\n",
    "print()\n",
    "\n",
    "print(dict(one=1, two=2))\n",
    "print(dict([('one', 1), ('two', 2)]))\n",
    "print(dict({'one':1, 'two':2}))"
   ]
  },
  {
   "cell_type": "code",
   "execution_count": 11,
   "metadata": {},
   "outputs": [
    {
     "name": "stdout",
     "output_type": "stream",
     "text": [
      "{'one': 1, 'two': 2}\n"
     ]
    }
   ],
   "source": [
    "q = {\n",
    "    'one':1,\n",
    "    'two':2\n",
    "}\n",
    "\n",
    "a = dict(one=1, two=2)\n",
    "b = dict([('one', 1), ('two', 2)])\n",
    "c = dict({'one':1, 'two':2})\n",
    "\n",
    "print(q)"
   ]
  },
  {
   "cell_type": "code",
   "execution_count": 8,
   "metadata": {},
   "outputs": [
    {
     "name": "stdout",
     "output_type": "stream",
     "text": [
      "1\n"
     ]
    }
   ],
   "source": [
    "print(a['one'])"
   ]
  },
  {
   "cell_type": "code",
   "execution_count": 14,
   "metadata": {},
   "outputs": [
    {
     "name": "stdout",
     "output_type": "stream",
     "text": [
      "<zip object at 0x00000058420EAF88>\n",
      "{'one': 1, 'two': 2, 'three': 3}\n",
      "\n",
      "<zip object at 0x00000058420F31C8>\n",
      "{'one': 1, 'two': 2, 'three': 3}\n"
     ]
    }
   ],
   "source": [
    "keys = ['one', 'two', 'three']\n",
    "values = (1, 2, 3)\n",
    "\n",
    "z = zip(keys, values)   # 필요할때마다 zip 객체를 생성. keys와 value를 엮음\n",
    "print (z)\n",
    "print(dict(z))\n",
    "\n",
    "print()\n",
    "\n",
    "print(zip(keys, values)) \n",
    "print(dict(zip(keys, values)))\n"
   ]
  },
  {
   "cell_type": "code",
   "execution_count": 19,
   "metadata": {},
   "outputs": [
    {
     "name": "stdout",
     "output_type": "stream",
     "text": [
      "dict_keys(['jack', 'jin', 'Joseph'])\n",
      "dict_values([9465215, 1111, 6584321])\n",
      "dict_items([('jack', 9465215), ('jin', 1111), ('Joseph', 6584321)])\n",
      "jack\n",
      "jin\n",
      "Joseph\n"
     ]
    }
   ],
   "source": [
    "# 사전이 지원하는 중요 메소드 (메모장에 설명 추가)\n",
    "phone = {'jack': 9465215, 'jin': 1111, 'Joseph': 6584321}\n",
    "\n",
    "print(phone.keys()) \n",
    "print(phone.values()) \n",
    "print(phone.items())\n",
    "\n",
    "k = phone.keys()\n",
    "v = phone.values()\n",
    "i = phone.items()\n",
    "\n",
    "for k in phone:\n",
    "    print (k)"
   ]
  },
  {
   "cell_type": "code",
   "execution_count": 16,
   "metadata": {},
   "outputs": [
    {
     "name": "stdout",
     "output_type": "stream",
     "text": [
      "{'jack': 1234, 'jin': 1111, 'Joseph': 6584321}\n",
      "{'jack': 1234, 'jin': 1111, 'Joseph': 6584321}\n",
      "\n",
      "{'jack': 1111, 'jin': 1111, 'Joseph': 6584321}\n",
      "{'jack': 1234, 'jin': 1111, 'Joseph': 6584321}\n"
     ]
    }
   ],
   "source": [
    "phone = {'jack':9465215, 'jin':1111, 'Joseph':6584321}\n",
    "p = phone # 사전 레퍼런스 복사. 사전 객체는 공유된다.\n",
    "\n",
    "phone['jack'] = 1234 # phone을 변경하면\n",
    "print(phone)\n",
    "print(p) # p도 함께 변경된다.\n",
    "print()\n",
    "\n",
    "ph = phone.copy() # 사전복사. 별도의 사전 객체가 마련된다.\n",
    "phone['jack'] = 1111 # phone을 바꿔도\n",
    "print(phone)\n",
    "print(ph) # ph는 바뀌지 않는다."
   ]
  },
  {
   "cell_type": "code",
   "execution_count": 26,
   "metadata": {},
   "outputs": [
    {
     "name": "stdout",
     "output_type": "stream",
     "text": [
      "{'a': [1, 2, 3], 'b': 4}\n",
      "{'a': [1, 2, 3], 'b': 4}\n",
      "\n",
      "{'a': [1, 2, 3], 'b': 10}\n",
      "{'a': [1, 2, 3], 'b': 4}\n",
      "\n",
      "{'a': [10, 2, 3], 'b': 10}\n",
      "{'a': [10, 2, 3], 'b': 4}\n"
     ]
    }
   ],
   "source": [
    "phone = {'a': [1,2,3], 'b': 4}\n",
    "phone2 = phone.copy()\n",
    "print(phone)\n",
    "print(phone2)\n",
    "print()\n",
    "\n",
    "# Shallow 복사의 특징\n",
    "phone['b'] = 10     # b를 4가 아니라 10으로 바꿈 -> b가 가리키는 객체 4와의 연결이 끊기고 10이라는 새로운 객체를 생성하고 레퍼런스함\n",
    "print (phone)\n",
    "print (phone2)\n",
    "print()\n",
    "\n",
    "phone['a'][0] = 10     # 위의 b와 마찬가지 경우\n",
    "print (phone)\n",
    "print (phone2)"
   ]
  },
  {
   "cell_type": "code",
   "execution_count": 29,
   "metadata": {},
   "outputs": [
    {
     "name": "stdout",
     "output_type": "stream",
     "text": [
      "9465215\n",
      "None\n",
      "9465215\n"
     ]
    }
   ],
   "source": [
    "ph = {'jack': 9465215, 'jin': 1111, 'Joseph': 6584321}\n",
    "\n",
    "print(ph.get('jack'))  # 'jack'에 대한 값을 얻는다. ph['jack']과 같다.\n",
    "print(ph.get('gslee')) # 'gslee'에 대한 값을 얻는다. 값이 없는 경우 None반환\n",
    "print(ph['jack'])"
   ]
  },
  {
   "cell_type": "code",
   "execution_count": 30,
   "metadata": {},
   "outputs": [
    {
     "name": "stdout",
     "output_type": "stream",
     "text": [
      "[('c', 1), ('a', 2), ('b', 3)]\n",
      "\n",
      "[('a', 2), ('b', 3), ('c', 1)]\n",
      "\n",
      "a 2\n",
      "b 3\n",
      "c 1\n"
     ]
    }
   ],
   "source": [
    "# 사전을 정렬할수는 없음(정해진 순서가 없기 때문에)\n",
    "# 대신 list(D.items())와 같이 하여 리스트화 한 뒤 불러올 수는 있음\n",
    "\n",
    "D = {'c':1, 'a':2, 'b':3}\n",
    "#items = D.items()\n",
    "items = list(D.items())\n",
    "print(items)\n",
    "print()\n",
    "\n",
    "items.sort()\n",
    "print(items)\n",
    "print()\n",
    "\n",
    "for k, v in items:\n",
    "    print(k, v)"
   ]
  },
  {
   "cell_type": "code",
   "execution_count": null,
   "metadata": {},
   "outputs": [],
   "source": []
  }
 ],
 "metadata": {
  "kernelspec": {
   "display_name": "Python 3",
   "language": "python",
   "name": "python3"
  },
  "language_info": {
   "codemirror_mode": {
    "name": "ipython",
    "version": 3
   },
   "file_extension": ".py",
   "mimetype": "text/x-python",
   "name": "python",
   "nbconvert_exporter": "python",
   "pygments_lexer": "ipython3",
   "version": "3.6.5"
  }
 },
 "nbformat": 4,
 "nbformat_minor": 2
}
